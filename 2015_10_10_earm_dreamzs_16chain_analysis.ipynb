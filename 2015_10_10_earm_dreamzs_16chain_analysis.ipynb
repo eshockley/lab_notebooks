{
 "cells": [
  {
   "cell_type": "code",
   "execution_count": 1,
   "metadata": {
    "collapsed": false
   },
   "outputs": [
    {
     "name": "stdout",
     "output_type": "stream",
     "text": [
      "Warning: statsmodels and/or patsy not found, not importing glm submodule.\n"
     ]
    },
    {
     "name": "stderr",
     "output_type": "stream",
     "text": [
      "/Library/Python/2.7/site-packages/IPython/html.py:14: ShimWarning: The `IPython.html` package has been deprecated. You should import from `notebook` instead. `IPython.html.widgets` has moved to `ipywidgets`.\n",
      "  \"`IPython.html.widgets` has moved to `ipywidgets`.\", ShimWarning)\n",
      "/Library/Python/2.7/site-packages/IPython/utils/traitlets.py:5: UserWarning: IPython.utils.traitlets has moved to a top-level traitlets package.\n",
      "  warn(\"IPython.utils.traitlets has moved to a top-level traitlets package.\")\n"
     ]
    }
   ],
   "source": [
    "import pickle\n",
    "from helper_fxns import convert_param_vec_dict_to_param_dict, gelman_rubin_trace_dict, print_convergence_summary, sample_plots, create_trace_matrix, plot_histograms\n",
    "from earm.lopez_embedded import model\n",
    "%matplotlib inline\n",
    "import os\n",
    "import numpy as np"
   ]
  },
  {
   "cell_type": "code",
   "execution_count": 2,
   "metadata": {
    "collapsed": true
   },
   "outputs": [],
   "source": [
    "os.chdir('/Users/Erin/data_for_paper_attempt2/')"
   ]
  },
  {
   "cell_type": "code",
   "execution_count": 3,
   "metadata": {
    "collapsed": true
   },
   "outputs": [],
   "source": [
    "trace_a = pickle.load(open('earm_dreamzs_16chain_a.p'))\n",
    "trace_b = pickle.load(open('earm_dreamzs_16chain_b.p'))\n",
    "trace_c = pickle.load(open('earm_dreamzs_16chain_c.p'))\n",
    "trace_d = pickle.load(open('earm_dreamzs_16chain_d.p'))"
   ]
  },
  {
   "cell_type": "code",
   "execution_count": 4,
   "metadata": {
    "collapsed": true
   },
   "outputs": [],
   "source": [
    "trace_a_error = {}\n",
    "trace_b_error = {}\n",
    "trace_c_error = {}\n",
    "trace_d_error = {}\n",
    "for key in ['momp', 'icrp', 'ecrp']:\n",
    "    trace_a_error[key] = trace_a[key]\n",
    "    trace_b_error[key] = trace_b[key]\n",
    "    trace_c_error[key] = trace_c[key]\n",
    "    trace_d_error[key] = trace_d[key]"
   ]
  },
  {
   "cell_type": "code",
   "execution_count": 5,
   "metadata": {
    "collapsed": true
   },
   "outputs": [],
   "source": [
    "for key in ['momp', 'icrp', 'ecrp']:\n",
    "    del trace_a[key]\n",
    "    del trace_b[key]\n",
    "    del trace_c[key]\n",
    "    del trace_d[key]"
   ]
  },
  {
   "cell_type": "code",
   "execution_count": 6,
   "metadata": {
    "collapsed": true
   },
   "outputs": [],
   "source": [
    "param_trace_a = convert_param_vec_dict_to_param_dict(trace_a, model.parameters_rules())\n",
    "param_trace_b = convert_param_vec_dict_to_param_dict(trace_b, model.parameters_rules())\n",
    "param_trace_c = convert_param_vec_dict_to_param_dict(trace_c, model.parameters_rules())\n",
    "param_trace_d = convert_param_vec_dict_to_param_dict(trace_d, model.parameters_rules())"
   ]
  },
  {
   "cell_type": "code",
   "execution_count": 7,
   "metadata": {
    "collapsed": true
   },
   "outputs": [],
   "source": [
    "for trace in [param_trace_a, param_trace_b, param_trace_c, param_trace_d]:\n",
    "    del trace['param_list']"
   ]
  },
  {
   "cell_type": "code",
   "execution_count": 8,
   "metadata": {
    "collapsed": true
   },
   "outputs": [],
   "source": [
    "os.chdir('/Users/Erin/git/moo_and_mcmc/emcee/')"
   ]
  },
  {
   "cell_type": "code",
   "execution_count": 9,
   "metadata": {
    "collapsed": true
   },
   "outputs": [],
   "source": [
    "from earm_uniform_emcee import log_post"
   ]
  },
  {
   "cell_type": "code",
   "execution_count": 10,
   "metadata": {
    "collapsed": false
   },
   "outputs": [
    {
     "name": "stdout",
     "output_type": "stream",
     "text": [
      "prior:  -282.479411206  like:  -2738.90042871  post:  -3021.37983991\n",
      "prior:  -282.479411206  like:  -2847.84268971  post:  -3130.32210091\n",
      "prior:  -282.479411206  like:  -2680.17672  post:  -2962.65613121\n",
      "prior:  -282.479411206  like:  -3989.00855337  post:  -4271.48796458\n",
      "prior:  -282.479411206  like:  -2854.40788006  post:  -3136.88729126\n",
      "prior:  -282.479411206  like:  -2576.60221732  post:  -2859.08162853\n",
      "prior:  -282.479411206  like:  -2465.17605154  post:  -2747.65546274\n",
      "prior:  -282.479411206  like:  -2514.51323397  post:  -2796.99264518\n",
      "prior:  -282.479411206  like:  -2480.64736661  post:  -2763.12677782\n",
      "prior:  -282.479411206  like:  -3393.29051044  post:  -3675.76992165\n",
      "prior:  -282.479411206  like:  -2771.66023963  post:  -3054.13965084\n",
      "prior:  -282.479411206  like:  -3182.24912604  post:  -3464.72853725\n",
      "prior:  -282.479411206  like:  -2487.87152464  post:  -2770.35093585\n",
      "prior:  -282.479411206  like:  -2714.8068834  post:  -2997.28629461\n",
      "prior:  -282.479411206  like:  -3319.52431834  post:  -3602.00372955\n",
      "prior:  -282.479411206  like:  -2880.65561711  post:  -3163.13502832\n",
      "prior:  -282.479411206  like:  -3107.91742681  post:  -3390.39683801\n",
      "prior:  -282.479411206  like:  -2807.59399471  post:  -3090.07340592\n",
      "prior:  -282.479411206  like:  -2667.25300371  post:  -2949.73241491\n",
      "prior:  -282.479411206  like:  -3421.5028063  post:  -3703.98221751\n",
      "prior:  -282.479411206  like:  -2703.45995187  post:  -2985.93936308\n",
      "prior:  -282.479411206  like:  -2437.44304667  post:  -2719.92245787\n",
      "prior:  -282.479411206  like:  -2386.938246  post:  -2669.4176572\n",
      "prior:  -282.479411206  like:  -2838.92481624  post:  -3121.40422745\n",
      "prior:  -282.479411206  like:  -2350.14974242  post:  -2632.62915362\n",
      "prior:  -282.479411206  like:  -2794.30993641  post:  -3076.78934762\n",
      "prior:  -282.479411206  like:  -3203.4963935  post:  -3485.9758047\n",
      "prior:  -282.479411206  like:  -2668.42817384  post:  -2950.90758505\n",
      "prior:  -282.479411206  like:  -3268.6740068  post:  -3551.153418\n",
      "prior:  -282.479411206  like:  -2653.75246444  post:  -2936.23187565\n",
      "prior:  -282.479411206  like:  -2765.45777647  post:  -3047.93718767\n",
      "prior:  -282.479411206  like:  -3125.66905118  post:  -3408.14846239\n",
      "prior:  -282.479411206  like:  -2671.52066997  post:  -2954.00008118\n",
      "prior:  -282.479411206  like:  -2900.49900862  post:  -3182.97841982\n",
      "prior:  -282.479411206  like:  -2605.6898666  post:  -2888.16927781\n",
      "prior:  -282.479411206  like:  -2893.1269985  post:  -3175.6064097\n",
      "prior:  -282.479411206  like:  -2723.9081582  post:  -3006.38756941\n",
      "prior:  -282.479411206  like:  -2985.06535417  post:  -3267.54476537\n",
      "prior:  -282.479411206  like:  -3410.8182126  post:  -3693.29762381\n",
      "prior:  -282.479411206  like:  -2860.37009554  post:  -3142.84950674\n",
      "prior:  -282.479411206  like:  -2964.73781772  post:  -3247.21722892\n",
      "prior:  -282.479411206  like:  -2729.65817935  post:  -3012.13759056\n",
      "prior:  -282.479411206  like:  -2830.31494317  post:  -3112.79435437\n",
      "prior:  -282.479411206  like:  -2725.67501565  post:  -3008.15442686\n",
      "prior:  -282.479411206  like:  -2822.78688316  post:  -3105.26629436\n",
      "prior:  -282.479411206  like:  -3112.42511502  post:  -3394.90452623\n",
      "prior:  -282.479411206  like:  -2284.62165299  post:  -2567.1010642\n",
      "prior:  -282.479411206  like:  -2981.78692025  post:  -3264.26633146\n",
      "prior:  -282.479411206  like:  -2489.37530007  post:  -2771.85471127\n",
      "prior:  -282.479411206  like:  -2720.49640883  post:  -3002.97582004\n",
      "prior:  -282.479411206  like:  -2463.26019233  post:  -2745.73960354\n",
      "prior:  -282.479411206  like:  -2634.5273421  post:  -2917.00675331\n",
      "prior:  -282.479411206  like:  -6189.33210403  post:  -6471.81151523\n",
      "prior:  -282.479411206  like:  -2690.16077442  post:  -2972.64018562\n",
      "prior:  -282.479411206  like:  -2711.7689242  post:  -2994.24833541\n",
      "prior:  -282.479411206  like:  -2743.9620767  post:  -3026.44148791\n",
      "prior:  -282.479411206  like:  -2817.45222963  post:  -3099.93164083\n",
      "prior:  -282.479411206  like:  -2735.93813481  post:  -3018.41754601\n",
      "prior:  -282.479411206  like:  -2622.73031945  post:  -2905.20973066\n",
      "prior:  -282.479411206  like:  -3939.42652302  post:  -4221.90593423\n",
      "prior:  -282.479411206  like:  -2780.05059087  post:  -3062.53000208\n",
      "prior:  -282.479411206  like:  -3298.20542736  post:  -3580.68483856\n",
      "prior:  -282.479411206  like:  -2710.20854924  post:  -2992.68796045\n",
      "prior:  -282.479411206  like:  -2474.49725821  post:  -2756.97666941\n"
     ]
    }
   ],
   "source": [
    "for trace in [trace_a, trace_b, trace_c, trace_d]:\n",
    "    for chain in range(len(trace_a['params'])):\n",
    "        log_post(trace['params'][chain][-1])"
   ]
  },
  {
   "cell_type": "code",
   "execution_count": 15,
   "metadata": {
    "collapsed": false
   },
   "outputs": [
    {
     "name": "stdout",
     "output_type": "stream",
     "text": [
      "Number of parameters with GR below 1.2:  0  of  105  parameters.\n",
      "Percent of parameters with GR below 1.2:  0.0\n",
      "Number of parameters with GR below 1.1:  0  of  105  parameters.\n",
      "Percent of parameters with GR below 1.1:  0.0\n"
     ]
    },
    {
     "data": {
      "text/plain": [
       "[0, 0.0, 0, 0.0]"
      ]
     },
     "execution_count": 15,
     "metadata": {},
     "output_type": "execute_result"
    }
   ],
   "source": [
    "print_convergence_summary(param_trace_d)"
   ]
  }
 ],
 "metadata": {
  "kernelspec": {
   "display_name": "Python 2",
   "language": "python",
   "name": "python2"
  },
  "language_info": {
   "codemirror_mode": {
    "name": "ipython",
    "version": 2
   },
   "file_extension": ".py",
   "mimetype": "text/x-python",
   "name": "python",
   "nbconvert_exporter": "python",
   "pygments_lexer": "ipython2",
   "version": "2.7.10"
  }
 },
 "nbformat": 4,
 "nbformat_minor": 0
}
