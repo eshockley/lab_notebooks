{
 "cells": [
  {
   "cell_type": "code",
   "execution_count": 1,
   "metadata": {
    "collapsed": true
   },
   "outputs": [],
   "source": [
    "import os\n",
    "import numpy as np\n",
    "import glob"
   ]
  },
  {
   "cell_type": "code",
   "execution_count": 2,
   "metadata": {
    "collapsed": true
   },
   "outputs": [],
   "source": [
    "os.chdir('/data/lola/shockle/data_for_paper_attempt2/PSO_smallerrange')"
   ]
  },
  {
   "cell_type": "code",
   "execution_count": 3,
   "metadata": {
    "collapsed": true
   },
   "outputs": [],
   "source": [
    "fit_files = glob.glob('earm_kds_all_visited_fitnesses*')\n",
    "param_files = glob.glob('earm_kds_all_visited_locations*')"
   ]
  },
  {
   "cell_type": "code",
   "execution_count": 4,
   "metadata": {
    "collapsed": true
   },
   "outputs": [],
   "source": [
    "fit_1 = np.load(fit_files[0])"
   ]
  },
  {
   "cell_type": "code",
   "execution_count": 5,
   "metadata": {
    "collapsed": false
   },
   "outputs": [
    {
     "data": {
      "text/plain": [
       "(1500, 56)"
      ]
     },
     "execution_count": 5,
     "metadata": {},
     "output_type": "execute_result"
    }
   ],
   "source": [
    "fit_1.shape"
   ]
  },
  {
   "cell_type": "code",
   "execution_count": 6,
   "metadata": {
    "collapsed": true
   },
   "outputs": [],
   "source": [
    "param_1 = np.load(param_files[0])"
   ]
  },
  {
   "cell_type": "code",
   "execution_count": 7,
   "metadata": {
    "collapsed": false
   },
   "outputs": [
    {
     "data": {
      "text/plain": [
       "(1500, 56, 105)"
      ]
     },
     "execution_count": 7,
     "metadata": {},
     "output_type": "execute_result"
    }
   ],
   "source": [
    "param_1.shape"
   ]
  },
  {
   "cell_type": "code",
   "execution_count": 8,
   "metadata": {
    "collapsed": true
   },
   "outputs": [],
   "source": [
    "all_fitnesses = np.zeros((len(fit_files), 1500, 56))"
   ]
  },
  {
   "cell_type": "code",
   "execution_count": 9,
   "metadata": {
    "collapsed": false
   },
   "outputs": [],
   "source": [
    "for n_file, fit_file in enumerate(fit_files):\n",
    "    all_fitnesses[n_file] = np.load(fit_file)"
   ]
  },
  {
   "cell_type": "code",
   "execution_count": 10,
   "metadata": {
    "collapsed": false
   },
   "outputs": [
    {
     "data": {
      "text/plain": [
       "5952260"
      ]
     },
     "execution_count": 10,
     "metadata": {},
     "output_type": "execute_result"
    }
   ],
   "source": [
    "len(all_fitnesses[np.where(all_fitnesses < 1100)])"
   ]
  },
  {
   "cell_type": "code",
   "execution_count": 11,
   "metadata": {
    "collapsed": false
   },
   "outputs": [],
   "source": [
    "low_fit_locs = np.where(all_fitnesses < 1100)"
   ]
  },
  {
   "cell_type": "code",
   "execution_count": 12,
   "metadata": {
    "collapsed": false
   },
   "outputs": [],
   "source": [
    "best_params = np.zeros((len(all_fitnesses[low_fit_locs]), 105))"
   ]
  },
  {
   "cell_type": "code",
   "execution_count": 16,
   "metadata": {
    "collapsed": false
   },
   "outputs": [
    {
     "name": "stdout",
     "output_type": "stream",
     "text": [
      "Finished  100000  parameter vectors.\n",
      "Finished  200000  parameter vectors.\n",
      "Finished  300000  parameter vectors.\n",
      "Finished  400000  parameter vectors.\n",
      "Finished  500000  parameter vectors.\n",
      "Finished  600000  parameter vectors.\n",
      "Finished  700000  parameter vectors.\n",
      "Finished  800000  parameter vectors.\n",
      "Finished  900000  parameter vectors.\n",
      "Finished  1000000  parameter vectors.\n",
      "Finished  1100000  parameter vectors.\n",
      "Finished  1200000  parameter vectors.\n",
      "Finished  1300000  parameter vectors.\n",
      "Finished  1400000  parameter vectors.\n",
      "Finished  1500000  parameter vectors.\n",
      "Finished  1600000  parameter vectors.\n",
      "Finished  1700000  parameter vectors.\n",
      "Finished  1800000  parameter vectors.\n",
      "Finished  1900000  parameter vectors.\n",
      "Finished  2000000  parameter vectors.\n",
      "Finished  2100000  parameter vectors.\n",
      "Finished  2200000  parameter vectors.\n",
      "Finished  2300000  parameter vectors.\n",
      "Finished  2400000  parameter vectors.\n",
      "Finished  2500000  parameter vectors.\n",
      "Finished  2600000  parameter vectors.\n",
      "Finished  2700000  parameter vectors.\n",
      "Finished  2800000  parameter vectors.\n",
      "Finished  2900000  parameter vectors.\n",
      "Finished  3000000  parameter vectors.\n",
      "Finished  3100000  parameter vectors.\n",
      "Finished  3200000  parameter vectors.\n",
      "Finished  3300000  parameter vectors.\n",
      "Finished  3400000  parameter vectors.\n",
      "Finished  3500000  parameter vectors.\n",
      "Finished  3600000  parameter vectors.\n",
      "Finished  3700000  parameter vectors.\n",
      "Finished  3800000  parameter vectors.\n",
      "Finished  3900000  parameter vectors.\n",
      "Finished  4000000  parameter vectors.\n",
      "Finished  4100000  parameter vectors.\n",
      "Finished  4200000  parameter vectors.\n",
      "Finished  4300000  parameter vectors.\n",
      "Finished  4400000  parameter vectors.\n",
      "Finished  4500000  parameter vectors.\n",
      "Finished  4600000  parameter vectors.\n",
      "Finished  4700000  parameter vectors.\n",
      "Finished  4800000  parameter vectors.\n",
      "Finished  4900000  parameter vectors.\n",
      "Finished  5000000  parameter vectors.\n",
      "Finished  5100000  parameter vectors.\n",
      "Finished  5200000  parameter vectors.\n",
      "Finished  5300000  parameter vectors.\n",
      "Finished  5400000  parameter vectors.\n",
      "Finished  5500000  parameter vectors.\n",
      "Finished  5600000  parameter vectors.\n",
      "Finished  5700000  parameter vectors.\n",
      "Finished  5800000  parameter vectors.\n",
      "Finished  5900000  parameter vectors.\n"
     ]
    }
   ],
   "source": [
    "n = 0\n",
    "last_run = None\n",
    "for n_set, run in enumerate(low_fit_locs[0]):\n",
    "    if run != last_run:\n",
    "        run_params = np.load(param_files[run])\n",
    "    iter_params = run_params[low_fit_locs[1][n_set]]\n",
    "    part_params = iter_params[low_fit_locs[2][n_set]]\n",
    "    best_params[n] = part_params\n",
    "    n += 1\n",
    "    last_run = run\n",
    "    if n%100000 == 0:\n",
    "        print 'Finished ',n,' parameter vectors.'"
   ]
  },
  {
   "cell_type": "code",
   "execution_count": 18,
   "metadata": {
    "collapsed": false
   },
   "outputs": [
    {
     "data": {
      "text/plain": [
       "array([[-7.5754892 ,  0.63931374, -5.59371155, ..., -8.67081205,\n",
       "         3.02661179, -2.09695541],\n",
       "       [-7.55013582,  0.65276138, -5.60625383, ..., -8.69892188,\n",
       "         3.03155747, -2.10025848],\n",
       "       [-7.58411745,  0.63623008, -5.60365979, ..., -8.66710015,\n",
       "         3.03632252, -2.13813   ],\n",
       "       ..., \n",
       "       [-7.30874094, -0.0188755 , -4.84798639, ..., -7.88617769,\n",
       "         7.33794068, -0.1412378 ],\n",
       "       [-7.30874094, -0.0188755 , -4.84798639, ..., -7.88617769,\n",
       "         7.33794068, -0.1412378 ],\n",
       "       [-7.30874094, -0.0188755 , -4.84798639, ..., -7.88617769,\n",
       "         7.33794068, -0.1412378 ]])"
      ]
     },
     "execution_count": 18,
     "metadata": {},
     "output_type": "execute_result"
    }
   ],
   "source": [
    "best_params"
   ]
  },
  {
   "cell_type": "code",
   "execution_count": 19,
   "metadata": {
    "collapsed": true
   },
   "outputs": [],
   "source": [
    "np.save('earm_kds_pso_smallerrange_bestparams.npy', best_params)"
   ]
  }
 ],
 "metadata": {
  "kernelspec": {
   "display_name": "Python 2",
   "language": "python",
   "name": "python2"
  },
  "language_info": {
   "codemirror_mode": {
    "name": "ipython",
    "version": 2
   },
   "file_extension": ".py",
   "mimetype": "text/x-python",
   "name": "python",
   "nbconvert_exporter": "python",
   "pygments_lexer": "ipython2",
   "version": "2.7.8"
  }
 },
 "nbformat": 4,
 "nbformat_minor": 0
}
