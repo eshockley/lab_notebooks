{
 "cells": [
  {
   "cell_type": "code",
   "execution_count": 1,
   "metadata": {
    "collapsed": false
   },
   "outputs": [
    {
     "name": "stdout",
     "output_type": "stream",
     "text": [
      "Warning: statsmodels and/or patsy not found, not importing glm submodule.\n"
     ]
    },
    {
     "name": "stderr",
     "output_type": "stream",
     "text": [
      "/Library/Python/2.7/site-packages/IPython/html.py:14: ShimWarning: The `IPython.html` package has been deprecated. You should import from `notebook` instead. `IPython.html.widgets` has moved to `ipywidgets`.\n",
      "  \"`IPython.html.widgets` has moved to `ipywidgets`.\", ShimWarning)\n",
      "/Library/Python/2.7/site-packages/IPython/utils/traitlets.py:5: UserWarning: IPython.utils.traitlets has moved to a top-level traitlets package.\n",
      "  warn(\"IPython.utils.traitlets has moved to a top-level traitlets package.\")\n"
     ]
    }
   ],
   "source": [
    "import pickle\n",
    "from helper_fxns import convert_param_vec_dict_to_param_dict, gelman_rubin_trace_dict, print_convergence_summary, sample_plots, create_trace_matrix, plot_histograms\n",
    "from corm import model\n",
    "%matplotlib inline\n",
    "import os\n",
    "import numpy as np"
   ]
  },
  {
   "cell_type": "code",
   "execution_count": 2,
   "metadata": {
    "collapsed": true
   },
   "outputs": [],
   "source": [
    "os.chdir('/Users/Erin/data_for_paper_attempt2/')"
   ]
  },
  {
   "cell_type": "code",
   "execution_count": 3,
   "metadata": {
    "collapsed": true
   },
   "outputs": [],
   "source": [
    "trace_a = pickle.load(open('CORM_mtdreamzs_5chain_a.p'))\n",
    "trace_b = pickle.load(open('CORM_mtdreamzs_5chain_b.p'))\n",
    "trace_c = pickle.load(open('CORM_mtdreamzs_5chain_c.p'))\n",
    "trace_d = pickle.load(open('CORM_mtdreamzs_5chain_d.p'))"
   ]
  },
  {
   "cell_type": "code",
   "execution_count": 4,
   "metadata": {
    "collapsed": true
   },
   "outputs": [],
   "source": [
    "os.chdir('/Users/Erin/git/ParticleSwarmOptimization/')"
   ]
  },
  {
   "cell_type": "code",
   "execution_count": 5,
   "metadata": {
    "collapsed": true
   },
   "outputs": [],
   "source": [
    "from example_corm_allparams import post_logp"
   ]
  },
  {
   "cell_type": "code",
   "execution_count": 6,
   "metadata": {
    "collapsed": false
   },
   "outputs": [
    {
     "name": "stdout",
     "output_type": "stream",
     "text": [
      "like data:  (131.95919580437609, 210.05947090331861)  like box1:  -3.22152366342  like box2:  -3.22152473176  like box3:  -3.22152396093  like box4:  -3.22152369319  prior:  -97.9042382149  post:  231.228332443\n",
      "like data:  (133.1665074109826, 210.85745483351545)  like box1:  -3.22152374004  like box2:  -3.22152450816  like box3:  -3.2215237837  like box4:  -3.22152365607  prior:  -79.0963522947  post:  252.041514262\n",
      "like data:  (133.96956488000203, 212.69697039728581)  like box1:  -3.2215253406  like box2:  -3.22152386792  like box3:  -3.22152540746  like box4:  -3.2215281047  prior:  -75.0086677424  post:  258.771764814\n",
      "like data:  (132.33962922507155, 212.24102727507719)  like box1:  -3.22152371387  like box2:  -3.22152757873  like box3:  -3.22152489931  like box4:  -3.22152366224  prior:  -86.5275192351  post:  245.167037411\n",
      "like data:  (136.42684679886597, 211.45174218346918)  like box1:  -3.22152504218  like box2:  -3.2215237398  like box3:  -3.22152362686  like box4:  -3.22152366645  prior:  -77.5468358139  post:  257.445657093\n",
      "like data:  (139.65675730717081, 209.68692019406569)  like box1:  -3.22152421098  like box2:  -3.22152375592  like box3:  -3.22152419052  like box4:  -3.22152389651  prior:  -45.9795951082  post:  290.477986339\n",
      "like data:  (138.90250627366331, 208.97414254932812)  like box1:  -3.22152382163  like box2:  -3.22152362869  like box3:  -3.22152420049  like box4:  -3.22152524599  prior:  -46.3229935008  post:  288.667558425\n",
      "like data:  (114.21463856786613, 212.41363417852654)  like box1:  -3.22152396189  like box2:  -3.22152441254  like box3:  -3.22152377473  like box4:  -3.22152416588  prior:  -74.1583008581  post:  239.583875573\n",
      "like data:  (139.1502609508251, 213.42533566778647)  like box1:  -3.22152364276  like box2:  -3.22152406275  like box3:  -3.22152369448  like box4:  -3.22152381612  prior:  -48.1157288916  post:  291.573772511\n",
      "like data:  (137.60489722115915, 209.2085682592068)  like box1:  -3.22152414075  like box2:  -3.22152362684  like box3:  -3.22152446088  like box4:  -3.22152362744  prior:  -51.237890109  post:  282.689479515\n",
      "like data:  (137.10278311788232, 207.7141247616093)  like box1:  -3.2215248761  like box2:  -3.22152362631  like box3:  -3.22152362966  like box4:  -3.22152457741  prior:  -54.6691067633  post:  277.261704407\n",
      "like data:  (111.53026330244451, 132.41210141573552)  like box1:  -3.22152382862  like box2:  -3.2215237142  like box3:  -3.22152364373  like box4:  -3.22152675612  prior:  -100.809578776  post:  130.246688\n",
      "like data:  (114.8991959293525, 118.93708440897318)  like box1:  -3.22152362631  like box2:  -3.22152488747  like box3:  -3.22152487322  like box4:  -3.22152419634  prior:  -96.3097157744  post:  124.640466981\n",
      "like data:  (132.56849981812366, 207.76398225974538)  like box1:  -3.22152370254  like box2:  -3.22152385092  like box3:  -3.22152455504  like box4:  -3.22152526244  prior:  -49.3771642311  post:  278.069220476\n",
      "like data:  (116.55092789545577, 136.75993405141517)  like box1:  -3.22152420471  like box2:  -3.22152365319  like box3:  -3.22152428004  like box4:  -3.22152401639  prior:  -94.6719105611  post:  145.752855231\n",
      "like data:  (138.06069590054466, 212.73051450492216)  like box1:  -3.22152430719  like box2:  -3.22152370304  like box3:  -3.22152423804  like box4:  -3.22152390079  prior:  -43.6876680534  post:  294.217446203\n",
      "like data:  (138.37194303024955, 213.78978349540751)  like box1:  -3.22152428123  like box2:  -3.22152404681  like box3:  -3.2215236899  like box4:  -3.22152362828  prior:  -53.3788621232  post:  285.896768756\n",
      "like data:  (136.73292152258617, 212.16071543327908)  like box1:  -3.22152697149  like box2:  -3.22152363624  like box3:  -3.22152394504  like box4:  -3.22152366341  prior:  -67.2166527183  post:  268.790886021\n",
      "like data:  (133.30768163542925, 211.60447700279491)  like box1:  -3.22152363884  like box2:  -3.2215240272  like box3:  -3.2215250724  like box4:  -3.2215236478  prior:  -43.9608881823  post:  288.06517407\n",
      "like data:  (138.41369150653722, 215.09112809635829)  like box1:  -3.22152369015  like box2:  -3.22152371869  like box3:  -3.22152383945  like box4:  -3.22152365934  prior:  -55.9496237247  post:  284.669100971\n"
     ]
    }
   ],
   "source": [
    "param_list = ['KD_AA_cat1', 'kcat_AA1', 'KD_AA_cat2', 'kcat_AA2', 'KD_AA_cat3', 'kcat_AA3', 'KD_AG_cat1', 'kcat_AG1', 'KD_AG_cat2', 'KD_AG_cat3', 'kcat_AG3', 'KD_AA_allo1', 'KD_AA_allo2', 'KD_AA_allo3', 'KD_AG_allo1', 'KD_AG_allo2', 'KD_AG_allo3']\n",
    "for trace in [trace_a, trace_b, trace_c, trace_d]:\n",
    "    for chain in range(len(trace_a['kcat_AA1'])):\n",
    "        theta = np.zeros((len(trace_a.keys())))\n",
    "        for i,key in enumerate(param_list):\n",
    "            theta[i] = trace[key][chain][-1]\n",
    "        post_logp(theta)"
   ]
  },
  {
   "cell_type": "code",
   "execution_count": 7,
   "metadata": {
    "collapsed": false
   },
   "outputs": [
    {
     "name": "stdout",
     "output_type": "stream",
     "text": [
      "Number of parameters with GR below 1.2:  17  of  17  parameters.\n",
      "Percent of parameters with GR below 1.2:  100.0\n",
      "Number of parameters with GR below 1.1:  17  of  17  parameters.\n",
      "Percent of parameters with GR below 1.1:  100.0\n"
     ]
    },
    {
     "data": {
      "text/plain": [
       "[17, 100.0, 17, 100.0]"
      ]
     },
     "execution_count": 7,
     "metadata": {},
     "output_type": "execute_result"
    }
   ],
   "source": [
    "print_convergence_summary(trace_d)"
   ]
  }
 ],
 "metadata": {
  "kernelspec": {
   "display_name": "Python 2",
   "language": "python",
   "name": "python2"
  },
  "language_info": {
   "codemirror_mode": {
    "name": "ipython",
    "version": 2
   },
   "file_extension": ".py",
   "mimetype": "text/x-python",
   "name": "python",
   "nbconvert_exporter": "python",
   "pygments_lexer": "ipython2",
   "version": "2.7.10"
  }
 },
 "nbformat": 4,
 "nbformat_minor": 0
}
