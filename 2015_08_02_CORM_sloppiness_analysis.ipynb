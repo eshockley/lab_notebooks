{
 "cells": [
  {
   "cell_type": "code",
   "execution_count": 2,
   "metadata": {
    "collapsed": false
   },
   "outputs": [],
   "source": [
    "import pickle\n",
    "import matplotlib\n",
    "%matplotlib inline\n",
    "from helper_fxns import create_trace_matrix\n",
    "import numpy as np"
   ]
  },
  {
   "cell_type": "code",
   "execution_count": 3,
   "metadata": {
    "collapsed": false
   },
   "outputs": [],
   "source": [
    "trace = pickle.load(open('2015_01_27_Dream_COX2_parameter_fits.p'))"
   ]
  },
  {
   "cell_type": "code",
   "execution_count": 4,
   "metadata": {
    "collapsed": false
   },
   "outputs": [
    {
     "name": "stdout",
     "output_type": "stream",
     "text": [
      "total parameter dimension:  12\n",
      "trace array shape:  [[ 0.  0.  0. ...,  0.  0.  0.]\n",
      " [ 0.  0.  0. ...,  0.  0.  0.]\n",
      " [ 0.  0.  0. ...,  0.  0.  0.]\n",
      " ..., \n",
      " [ 0.  0.  0. ...,  0.  0.  0.]\n",
      " [ 0.  0.  0. ...,  0.  0.  0.]\n",
      " [ 0.  0.  0. ...,  0.  0.  0.]]\n",
      "added key:  kcat_AA2  to location  0  in array.\n",
      "added key:  kcat_AA3  to location  1  in array.\n",
      "added key:  KD_AG_cat3  to location  2  in array.\n",
      "added key:  KD_AG_cat2  to location  3  in array.\n",
      "added key:  KD_AG_allo2  to location  4  in array.\n",
      "added key:  KD_AG_allo1  to location  5  in array.\n",
      "added key:  KD_AA_allo1  to location  6  in array.\n",
      "added key:  KD_AA_allo2  to location  7  in array.\n",
      "added key:  KD_AA_allo3  to location  8  in array.\n",
      "added key:  kcat_AG3  to location  9  in array.\n",
      "added key:  KD_AA_cat3  to location  10  in array.\n",
      "added key:  KD_AA_cat2  to location  11  in array.\n"
     ]
    }
   ],
   "source": [
    "trace_arr = create_trace_matrix(trace, burnin=150000, thin=10)"
   ]
  },
  {
   "cell_type": "code",
   "execution_count": 13,
   "metadata": {
    "collapsed": false
   },
   "outputs": [],
   "source": [
    "log_trace_arr = 10**trace_arr"
   ]
  },
  {
   "cell_type": "code",
   "execution_count": 34,
   "metadata": {
    "collapsed": false
   },
   "outputs": [],
   "source": [
    "eigvals, eigvecs = np.linalg.eig(np.cov(log_trace_arr.T))"
   ]
  },
  {
   "cell_type": "code",
   "execution_count": 45,
   "metadata": {
    "collapsed": false
   },
   "outputs": [],
   "source": [
    "eigvals = np.expand_dims(eigvals, axis=0)"
   ]
  },
  {
   "cell_type": "code",
   "execution_count": 46,
   "metadata": {
    "collapsed": false
   },
   "outputs": [],
   "source": [
    "eigvals_norm = eigvals/np.amax(eigvals)"
   ]
  },
  {
   "cell_type": "code",
   "execution_count": 51,
   "metadata": {
    "collapsed": false
   },
   "outputs": [
    {
     "data": {
      "text/plain": [
       "array([[-10.223304  , -10.08643691,  -9.54038014,  -8.783405  ,\n",
       "         -8.61765309,  -8.01080903,  -7.49441242,  -7.22312383,\n",
       "         -6.63850756,  -4.73952123,  -0.02639006,   0.        ]])"
      ]
     },
     "execution_count": 51,
     "metadata": {},
     "output_type": "execute_result"
    }
   ],
   "source": [
    "np.log10(eigvals_norm)"
   ]
  },
  {
   "cell_type": "code",
   "execution_count": 67,
   "metadata": {
    "collapsed": false
   },
   "outputs": [
    {
     "data": {
      "text/plain": [
       "<matplotlib.text.Text at 0x1135b0350>"
      ]
     },
     "execution_count": 67,
     "metadata": {},
     "output_type": "execute_result"
    },
    {
     "data": {
      "image/png": "[encoded data removed]",
      "text/plain": [
       "<matplotlib.figure.Figure at 0x114175d90>"
      ]
     },
     "metadata": {},
     "output_type": "display_data"
    }
   ],
   "source": [
    "plt = matplotlib.pyplot.eventplot(eigvals_norm, orientation='vertical', colors=[[0, 0, 0]])\n",
    "axes = plt[0].get_axes()\n",
    "axes.set_yscale('log')\n",
    "axes.get_xaxis().set_visible(False)\n",
    "axes.set_ylabel('Normalized Eigenvalues')"
   ]
  },
  {
   "cell_type": "code",
   "execution_count": 56,
   "metadata": {
    "collapsed": false
   },
   "outputs": [],
   "source": [
    "axes = plt[0].get_axes()"
   ]
  },
  {
   "cell_type": "code",
   "execution_count": 58,
   "metadata": {
    "collapsed": false
   },
   "outputs": [
    {
     "data": {
      "text/plain": [
       "(-12, 1)"
      ]
     },
     "execution_count": 58,
     "metadata": {},
     "output_type": "execute_result"
    }
   ],
   "source": [
    "axes.set_ylim([-12, 1])"
   ]
  },
  {
   "cell_type": "code",
   "execution_count": 60,
   "metadata": {
    "collapsed": false
   },
   "outputs": [
    {
     "data": {
      "text/plain": [
       "<matplotlib.collections.EventCollection at 0x113e58050>"
      ]
     },
     "execution_count": 60,
     "metadata": {},
     "output_type": "execute_result"
    }
   ],
   "source": []
  },
  {
   "cell_type": "code",
   "execution_count": 44,
   "metadata": {
    "collapsed": false
   },
   "outputs": [
    {
     "data": {
      "text/plain": [
       "array([[  9.65476381e-01,   6.68129262e-01,   6.46599384e-02,\n",
       "          1.95368059e-01,   6.08126975e-01,   9.62643484e-02,\n",
       "          2.08957975e-01,   6.21316760e-01,   7.89136636e-01,\n",
       "          6.25179267e-01,   7.96197112e-01,   8.91596045e-01,\n",
       "          9.03188313e-01,   1.41333913e-02,   1.04872318e-01,\n",
       "          9.40269346e-01,   1.32832268e-01,   5.99198485e-01,\n",
       "          2.23755234e-01,   5.21915102e-01,   2.47709149e-02,\n",
       "          8.37805601e-02,   6.18343352e-01,   2.87417626e-01,\n",
       "          7.32812530e-01,   5.79937312e-01,   8.64745475e-01,\n",
       "          6.55639976e-01,   1.39256315e-01,   9.94096467e-01,\n",
       "          4.98955427e-01,   3.11217517e-01,   8.04049228e-02,\n",
       "          5.61304802e-01,   4.67666958e-01,   7.09796224e-01,\n",
       "          3.51721502e-01,   8.38510886e-01,   4.54821190e-02,\n",
       "          9.61826103e-01,   8.06072647e-01,   2.28629136e-01,\n",
       "          1.57041143e-01,   7.52913106e-01,   3.71677838e-01,\n",
       "          4.68542498e-02,   7.87312529e-01,   8.88717658e-01,\n",
       "          4.41520572e-01,   2.62050249e-01],\n",
       "       [  8.24928726e-01,   9.78522336e-01,   4.84775281e-01,\n",
       "          5.97577499e-01,   9.89511043e-01,   3.04403630e-01,\n",
       "          8.10727803e-01,   7.03466657e-01,   7.01512635e-01,\n",
       "          6.53811311e-01,   4.33282664e-01,   1.12683437e-01,\n",
       "          5.61813314e-01,   2.82669798e-01,   9.35195216e-01,\n",
       "          5.57509030e-01,   3.53384830e-01,   5.13369859e-01,\n",
       "          9.74360072e-01,   9.15838526e-01,   6.27127077e-01,\n",
       "          9.03421631e-01,   5.06658054e-01,   9.31680735e-01,\n",
       "          4.80164817e-01,   8.00606844e-01,   7.49787378e-01,\n",
       "          6.75494928e-01,   6.74989203e-01,   7.33753328e-01,\n",
       "          4.38177349e-03,   8.00245655e-01,   6.38787574e-04,\n",
       "          5.49286519e-01,   9.20821453e-01,   1.80981827e-01,\n",
       "          1.86658024e-01,   1.20339046e-01,   7.31411011e-01,\n",
       "          1.37234596e-02,   7.15184462e-01,   1.90806409e-01,\n",
       "          8.05250139e-01,   3.45265480e-01,   4.85791386e-01,\n",
       "          7.81513210e-01,   7.38325913e-01,   6.95194431e-01,\n",
       "          1.63213588e-02,   3.00040433e-01],\n",
       "       [  8.96510947e-01,   5.01435707e-01,   9.55562387e-01,\n",
       "          6.66012920e-02,   7.68993134e-01,   9.98171143e-01,\n",
       "          4.84144356e-02,   4.95206160e-01,   5.72839489e-01,\n",
       "          6.07855193e-01,   6.41575730e-01,   2.75727209e-01,\n",
       "          4.94930100e-01,   8.34608877e-01,   9.96018043e-01,\n",
       "          4.61745547e-01,   9.48026389e-01,   1.88105950e-01,\n",
       "          7.98337837e-01,   2.59729982e-01,   9.32873003e-01,\n",
       "          8.82169672e-01,   6.77441218e-01,   3.62262520e-01,\n",
       "          9.28137684e-01,   7.93491964e-01,   7.40301743e-01,\n",
       "          8.76239046e-01,   6.95871659e-01,   4.83175851e-01,\n",
       "          1.71744865e-01,   3.37825187e-01,   4.66102078e-01,\n",
       "          1.67435811e-01,   6.23017758e-01,   8.95535431e-01,\n",
       "          8.72727473e-01,   4.80332395e-01,   1.81254175e-02,\n",
       "          9.74101205e-01,   8.38498028e-01,   5.00378326e-01,\n",
       "          6.55328898e-01,   7.37830246e-01,   8.42145485e-01,\n",
       "          3.12929122e-01,   5.71449423e-01,   6.96082978e-01,\n",
       "          7.98711931e-01,   9.43598545e-01],\n",
       "       [  4.81724154e-01,   1.68236988e-01,   4.33887179e-01,\n",
       "          3.77948749e-01,   6.54767401e-01,   5.79455379e-02,\n",
       "          5.30183691e-01,   7.67196179e-01,   5.83838213e-01,\n",
       "          6.83129424e-01,   7.93147277e-01,   5.74368961e-02,\n",
       "          8.07785491e-01,   5.70317100e-02,   7.42828845e-01,\n",
       "          5.52249018e-01,   2.47600731e-01,   7.36226614e-01,\n",
       "          7.88691687e-01,   7.32282498e-01,   2.62456504e-01,\n",
       "          7.26960715e-01,   3.00217224e-01,   3.27608977e-02,\n",
       "          1.66443403e-01,   7.13029146e-01,   7.68800739e-01,\n",
       "          4.91167727e-01,   7.57919729e-01,   3.36950616e-01,\n",
       "          9.68663035e-02,   5.23363058e-01,   6.72242053e-01,\n",
       "          7.51678849e-01,   5.92679651e-01,   3.61133193e-01,\n",
       "          3.66993871e-01,   5.81250086e-01,   1.82867053e-02,\n",
       "          1.17849806e-01,   7.22334809e-01,   1.49395467e-01,\n",
       "          8.52086356e-01,   3.84329892e-01,   8.98467714e-01,\n",
       "          2.46775329e-01,   7.06935438e-01,   8.79139290e-01,\n",
       "          7.95217767e-01,   4.78489735e-01],\n",
       "       [  6.23832334e-03,   5.97131591e-03,   7.78432584e-01,\n",
       "          5.13987328e-01,   8.54145394e-01,   6.72094640e-01,\n",
       "          6.67805348e-01,   2.14993726e-01,   7.47696648e-01,\n",
       "          4.18531429e-01,   7.28977595e-01,   9.99114687e-01,\n",
       "          9.64153908e-01,   7.10662693e-01,   2.91904096e-01,\n",
       "          7.02198416e-01,   8.09657155e-01,   4.76953265e-01,\n",
       "          5.46062432e-02,   4.07876191e-01,   6.22498206e-01,\n",
       "          4.38641074e-01,   4.55525519e-01,   2.85862263e-01,\n",
       "          1.32432950e-01,   4.46530852e-01,   1.17929091e-01,\n",
       "          8.11755309e-01,   4.15167533e-01,   4.73566295e-01,\n",
       "          6.72843179e-01,   8.62328292e-01,   9.14654720e-02,\n",
       "          3.27024409e-01,   1.94106318e-01,   9.57966430e-01,\n",
       "          5.46010204e-01,   1.24938098e-01,   9.85696849e-01,\n",
       "          6.90016725e-01,   5.85815091e-01,   4.01249819e-01,\n",
       "          5.11998704e-01,   2.97590713e-01,   6.79198119e-01,\n",
       "          2.99523034e-01,   6.13967024e-01,   6.64222686e-01,\n",
       "          2.62532209e-01,   4.76091327e-01],\n",
       "       [  3.05594771e-01,   6.24918918e-01,   1.11892662e-01,\n",
       "          3.52132097e-01,   9.08112992e-01,   7.83070057e-01,\n",
       "          3.24655386e-01,   7.23666741e-01,   9.75683595e-01,\n",
       "          4.26578840e-01,   9.75433850e-01,   6.95929645e-02,\n",
       "          9.27944891e-01,   4.01066247e-01,   1.99529988e-01,\n",
       "          3.91896467e-01,   9.21327102e-01,   1.41016041e-02,\n",
       "          6.74652058e-01,   4.30944299e-01,   1.13144215e-01,\n",
       "          5.43643126e-01,   4.55626755e-01,   9.82864279e-02,\n",
       "          3.53067069e-01,   2.09613560e-01,   6.12528980e-01,\n",
       "          8.96142291e-01,   8.36591567e-01,   6.29229635e-01,\n",
       "          2.32383449e-01,   3.28465404e-01,   7.06627209e-01,\n",
       "          9.36210424e-01,   6.78000133e-01,   6.77445444e-01,\n",
       "          5.81504985e-01,   9.57554895e-01,   6.03990797e-01,\n",
       "          6.35843452e-01,   5.50977733e-02,   5.15396286e-01,\n",
       "          7.25489447e-01,   7.31574176e-01,   6.18071875e-01,\n",
       "          4.67577991e-01,   5.82868837e-01,   7.07828453e-02,\n",
       "          8.78763371e-01,   3.97310103e-01]])"
      ]
     },
     "execution_count": 44,
     "metadata": {},
     "output_type": "execute_result"
    }
   ],
   "source": [
    "np.random.random([6, 50])"
   ]
  }
 ],
 "metadata": {
  "kernelspec": {
   "display_name": "Python 2",
   "language": "python",
   "name": "python2"
  },
  "language_info": {
   "codemirror_mode": {
    "name": "ipython",
    "version": 2
   },
   "file_extension": ".py",
   "mimetype": "text/x-python",
   "name": "python",
   "nbconvert_exporter": "python",
   "pygments_lexer": "ipython2",
   "version": "2.7.11"
  }
 },
 "nbformat": 4,
 "nbformat_minor": 0
}
