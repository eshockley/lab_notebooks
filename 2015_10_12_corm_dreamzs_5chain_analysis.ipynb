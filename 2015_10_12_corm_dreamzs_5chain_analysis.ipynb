{
 "cells": [
  {
   "cell_type": "code",
   "execution_count": 1,
   "metadata": {
    "collapsed": false
   },
   "outputs": [
    {
     "name": "stdout",
     "output_type": "stream",
     "text": [
      "Warning: statsmodels and/or patsy not found, not importing glm submodule.\n"
     ]
    },
    {
     "name": "stderr",
     "output_type": "stream",
     "text": [
      "/Library/Python/2.7/site-packages/IPython/html.py:14: ShimWarning: The `IPython.html` package has been deprecated. You should import from `notebook` instead. `IPython.html.widgets` has moved to `ipywidgets`.\n",
      "  \"`IPython.html.widgets` has moved to `ipywidgets`.\", ShimWarning)\n",
      "/Library/Python/2.7/site-packages/IPython/utils/traitlets.py:5: UserWarning: IPython.utils.traitlets has moved to a top-level traitlets package.\n",
      "  warn(\"IPython.utils.traitlets has moved to a top-level traitlets package.\")\n"
     ]
    }
   ],
   "source": [
    "import pickle\n",
    "from helper_fxns import convert_param_vec_dict_to_param_dict, gelman_rubin_trace_dict, print_convergence_summary, sample_plots, create_trace_matrix, plot_histograms\n",
    "from corm import model\n",
    "%matplotlib inline\n",
    "import os\n",
    "import numpy as np"
   ]
  },
  {
   "cell_type": "code",
   "execution_count": 2,
   "metadata": {
    "collapsed": true
   },
   "outputs": [],
   "source": [
    "os.chdir('/Users/Erin/data_for_paper_attempt2/')"
   ]
  },
  {
   "cell_type": "code",
   "execution_count": 3,
   "metadata": {
    "collapsed": true
   },
   "outputs": [],
   "source": [
    "trace_a = pickle.load(open('CORM_dreamzs_5chain_a.p'))\n",
    "trace_b = pickle.load(open('CORM_dreamzs_5chain_b.p'))\n",
    "trace_c = pickle.load(open('CORM_dreamzs_5chain_c.p'))\n",
    "trace_d = pickle.load(open('CORM_dreamzs_5chain_d.p'))"
   ]
  },
  {
   "cell_type": "code",
   "execution_count": 4,
   "metadata": {
    "collapsed": true
   },
   "outputs": [],
   "source": [
    "os.chdir('/Users/Erin/git/ParticleSwarmOptimization/')"
   ]
  },
  {
   "cell_type": "code",
   "execution_count": 5,
   "metadata": {
    "collapsed": true
   },
   "outputs": [],
   "source": [
    "from example_corm_allparams import post_logp"
   ]
  },
  {
   "cell_type": "code",
   "execution_count": 6,
   "metadata": {
    "collapsed": false
   },
   "outputs": [
    {
     "name": "stdout",
     "output_type": "stream",
     "text": [
      "like data:  (133.02174203264988, 212.36510912595756)  like box1:  -3.22152744164  like box2:  -3.22152382931  like box3:  -3.22152377859  like box4:  -3.22152372204  prior:  -48.1634508273  post:  284.33730156\n",
      "like data:  (135.66233271457665, 210.67684716493349)  like box1:  -3.22152368714  like box2:  -3.22152365392  like box3:  -3.22152503072  like box4:  -3.22152385638  prior:  -46.6519137787  post:  286.801169873\n",
      "like data:  (138.42663070405283, 211.36880673155821)  like box1:  -3.22152425679  like box2:  -3.22152385307  like box3:  -3.22152545782  like box4:  -3.22152369293  prior:  -46.2147393673  post:  290.694600808\n",
      "like data:  (137.94138870860189, 210.36809302976968)  like box1:  -3.22152399928  like box2:  -3.22152372442  like box3:  -3.2215236588  like box4:  -3.22152365026  prior:  -51.379616226  post:  284.04377048\n",
      "like data:  (134.47304256393673, 210.48387944119622)  like box1:  -3.22152363716  like box2:  -3.22152365552  like box3:  -3.22152514649  like box4:  -3.22152364803  prior:  -42.7853920144  post:  289.285433904\n",
      "like data:  (137.45934808923724, 211.84257927068899)  like box1:  -3.22152378618  like box2:  -3.22152368859  like box3:  -3.22152367335  like box4:  -3.22152383703  prior:  -57.0338726159  post:  279.381959759\n",
      "like data:  (137.39257295220153, 211.15575855844835)  like box1:  -3.22152367165  like box2:  -3.2215236308  like box3:  -3.22152442992  like box4:  -3.22152377598  prior:  -62.5090692583  post:  273.153166744\n",
      "like data:  (137.37303781895642, 212.40873749923358)  like box1:  -3.22152370944  like box2:  -3.22152398451  like box3:  -3.2215237598  like box4:  -3.22152378047  prior:  -63.6340109869  post:  273.261669097\n",
      "like data:  (137.63073268191408, 211.05942783946031)  like box1:  -3.22152368354  like box2:  -3.22152363202  like box3:  -3.22152380519  like box4:  -3.22152370345  prior:  -63.5723974522  post:  272.231668245\n",
      "like data:  (130.98317439886407, 211.16708010505883)  like box1:  -3.22152418864  like box2:  -3.22152396162  like box3:  -3.22152362687  like box4:  -3.2215238303  prior:  -73.8570707891  post:  255.407088107\n",
      "like data:  (136.78981809236717, 212.72636172606528)  like box1:  -3.22152497195  like box2:  -3.22152362728  like box3:  -3.22152397149  like box4:  -3.22152402202  prior:  -81.0119794785  post:  255.618103747\n",
      "like data:  (137.22831954882329, 211.715453098925)  like box1:  -3.22152475367  like box2:  -3.22152393146  like box3:  -3.22152368674  like box4:  -3.22152376671  prior:  -74.5728695879  post:  261.484806921\n",
      "like data:  (136.09510264149893, 207.70123345214682)  like box1:  -3.22152364379  like box2:  -3.22152372191  like box3:  -3.22152435198  like box4:  -3.22152594603  prior:  -70.9616027532  post:  259.948635677\n",
      "like data:  (136.93941091052764, 206.99099520747606)  like box1:  -3.22152364383  like box2:  -3.22152380941  like box3:  -3.22152377071  like box4:  -3.22152365621  prior:  -69.3740942427  post:  261.670216995\n",
      "like data:  (136.37122510660345, 210.45485843317266)  like box1:  -3.22152396549  like box2:  -3.22152419009  like box3:  -3.22152384178  like box4:  -3.22152383045  prior:  -78.7441206819  post:  255.19586703\n",
      "like data:  (119.50301844708571, 146.43318434591586)  like box1:  -3.22152495664  like box2:  -3.22152367066  like box3:  -3.22152386756  like box4:  -3.2215242687  prior:  -91.231631222  post:  161.818474807\n",
      "like data:  (122.25795742972723, 148.00485064868056)  like box1:  -3.22152378327  like box2:  -3.22152502344  like box3:  -3.22152365263  like box4:  -3.22152392913  prior:  -101.399130035  post:  155.977581655\n",
      "like data:  (118.8686430788464, 148.36412559675455)  like box1:  -3.22152362621  like box2:  -3.22152363447  like box3:  -3.22152404805  like box4:  -3.22152599088  prior:  -93.3197450405  post:  161.026926336\n",
      "like data:  (124.26624106504673, 150.18653171057284)  like box1:  -3.2215238467  like box2:  -3.22152382819  like box3:  -3.22152392108  like box4:  -3.22152406376  prior:  -96.7877000151  post:  164.778977101\n",
      "like data:  (119.63617702016944, 147.73264280291397)  like box1:  -3.22152434106  like box2:  -3.22152591272  like box3:  -3.22152570337  like box4:  -3.22152425987  prior:  -98.7296661393  post:  155.753053467\n"
     ]
    }
   ],
   "source": [
    "param_list = ['KD_AA_cat1', 'kcat_AA1', 'KD_AA_cat2', 'kcat_AA2', 'KD_AA_cat3', 'kcat_AA3', 'KD_AG_cat1', 'kcat_AG1', 'KD_AG_cat2', 'KD_AG_cat3', 'kcat_AG3', 'KD_AA_allo1', 'KD_AA_allo2', 'KD_AA_allo3', 'KD_AG_allo1', 'KD_AG_allo2', 'KD_AG_allo3']\n",
    "for trace in [trace_a, trace_b, trace_c, trace_d]:\n",
    "    for chain in range(len(trace_a['kcat_AA1'])):\n",
    "        theta = np.zeros((len(trace_a.keys())))\n",
    "        for i,key in enumerate(param_list):\n",
    "            theta[i] = trace[key][chain][-1]\n",
    "        post_logp(theta)"
   ]
  },
  {
   "cell_type": "code",
   "execution_count": 10,
   "metadata": {
    "collapsed": false
   },
   "outputs": [
    {
     "name": "stdout",
     "output_type": "stream",
     "text": [
      "Number of parameters with GR below 1.2:  17  of  17  parameters.\n",
      "Percent of parameters with GR below 1.2:  100.0\n",
      "Number of parameters with GR below 1.1:  17  of  17  parameters.\n",
      "Percent of parameters with GR below 1.1:  100.0\n"
     ]
    },
    {
     "data": {
      "text/plain": [
       "[17, 100.0, 17, 100.0]"
      ]
     },
     "execution_count": 10,
     "metadata": {},
     "output_type": "execute_result"
    }
   ],
   "source": [
    "print_convergence_summary(trace_d)"
   ]
  }
 ],
 "metadata": {
  "kernelspec": {
   "display_name": "Python 2",
   "language": "python",
   "name": "python2"
  },
  "language_info": {
   "codemirror_mode": {
    "name": "ipython",
    "version": 2
   },
   "file_extension": ".py",
   "mimetype": "text/x-python",
   "name": "python",
   "nbconvert_exporter": "python",
   "pygments_lexer": "ipython2",
   "version": "2.7.10"
  }
 },
 "nbformat": 4,
 "nbformat_minor": 0
}
