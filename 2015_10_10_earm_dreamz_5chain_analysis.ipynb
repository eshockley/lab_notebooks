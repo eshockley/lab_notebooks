{
 "cells": [
  {
   "cell_type": "code",
   "execution_count": 1,
   "metadata": {
    "collapsed": false
   },
   "outputs": [
    {
     "name": "stdout",
     "output_type": "stream",
     "text": [
      "Warning: statsmodels and/or patsy not found, not importing glm submodule.\n"
     ]
    },
    {
     "name": "stderr",
     "output_type": "stream",
     "text": [
      "/Library/Python/2.7/site-packages/IPython/html.py:14: ShimWarning: The `IPython.html` package has been deprecated. You should import from `notebook` instead. `IPython.html.widgets` has moved to `ipywidgets`.\n",
      "  \"`IPython.html.widgets` has moved to `ipywidgets`.\", ShimWarning)\n",
      "/Library/Python/2.7/site-packages/IPython/utils/traitlets.py:5: UserWarning: IPython.utils.traitlets has moved to a top-level traitlets package.\n",
      "  warn(\"IPython.utils.traitlets has moved to a top-level traitlets package.\")\n"
     ]
    }
   ],
   "source": [
    "import pickle\n",
    "from helper_fxns import convert_param_vec_dict_to_param_dict, gelman_rubin_trace_dict, print_convergence_summary, sample_plots, create_trace_matrix, plot_histograms\n",
    "from earm.lopez_embedded import model\n",
    "%matplotlib inline\n",
    "import os\n",
    "import numpy as np"
   ]
  },
  {
   "cell_type": "code",
   "execution_count": 4,
   "metadata": {
    "collapsed": true
   },
   "outputs": [],
   "source": [
    "os.chdir('/Users/Erin/data_for_paper_attempt2/')"
   ]
  },
  {
   "cell_type": "code",
   "execution_count": 5,
   "metadata": {
    "collapsed": true
   },
   "outputs": [],
   "source": [
    "trace_a = pickle.load(open('earm_dreamz_5chain_a.p'))\n",
    "trace_b = pickle.load(open('earm_dreamz_5chain_b.p'))\n",
    "trace_c = pickle.load(open('earm_dreamz_5chain_c.p'))\n",
    "trace_d = pickle.load(open('earm_dreamz_5chain_d.p'))"
   ]
  },
  {
   "cell_type": "code",
   "execution_count": 6,
   "metadata": {
    "collapsed": true
   },
   "outputs": [],
   "source": [
    "trace_a_error = {}\n",
    "trace_b_error = {}\n",
    "trace_c_error = {}\n",
    "trace_d_error = {}\n",
    "for key in ['momp', 'icrp', 'ecrp']:\n",
    "    trace_a_error[key] = trace_a[key]\n",
    "    trace_b_error[key] = trace_b[key]\n",
    "    trace_c_error[key] = trace_c[key]\n",
    "    trace_d_error[key] = trace_d[key]"
   ]
  },
  {
   "cell_type": "code",
   "execution_count": 7,
   "metadata": {
    "collapsed": true
   },
   "outputs": [],
   "source": [
    "for key in ['momp', 'icrp', 'ecrp']:\n",
    "    del trace_a[key]\n",
    "    del trace_b[key]\n",
    "    del trace_c[key]\n",
    "    del trace_d[key]"
   ]
  },
  {
   "cell_type": "code",
   "execution_count": 8,
   "metadata": {
    "collapsed": true
   },
   "outputs": [],
   "source": [
    "param_trace_a = convert_param_vec_dict_to_param_dict(trace_a, model.parameters_rules())\n",
    "param_trace_b = convert_param_vec_dict_to_param_dict(trace_b, model.parameters_rules())\n",
    "param_trace_c = convert_param_vec_dict_to_param_dict(trace_c, model.parameters_rules())\n",
    "param_trace_d = convert_param_vec_dict_to_param_dict(trace_d, model.parameters_rules())"
   ]
  },
  {
   "cell_type": "code",
   "execution_count": 9,
   "metadata": {
    "collapsed": true
   },
   "outputs": [],
   "source": [
    "for trace in [param_trace_a, param_trace_b, param_trace_c, param_trace_d]:\n",
    "    del trace['param_list']"
   ]
  },
  {
   "cell_type": "code",
   "execution_count": 8,
   "metadata": {
    "collapsed": true
   },
   "outputs": [],
   "source": [
    "os.chdir('/Users/Erin/git/moo_and_mcmc/emcee/')"
   ]
  },
  {
   "cell_type": "code",
   "execution_count": 9,
   "metadata": {
    "collapsed": true
   },
   "outputs": [],
   "source": [
    "from earm_uniform_emcee import log_post"
   ]
  },
  {
   "cell_type": "code",
   "execution_count": 10,
   "metadata": {
    "collapsed": false
   },
   "outputs": [
    {
     "name": "stdout",
     "output_type": "stream",
     "text": [
      "prior:  -282.479411206  like:  -2661.33661684  post:  -2943.81602805\n",
      "prior:  -282.479411206  like:  -2413.10863898  post:  -2695.58805018\n",
      "prior:  -282.479411206  like:  -2645.72194126  post:  -2928.20135246\n",
      "prior:  -282.479411206  like:  -2615.90263722  post:  -2898.38204842\n",
      "prior:  -282.479411206  like:  -2403.63441715  post:  -2686.11382836\n",
      "prior:  -282.479411206  like:  -3728.91195499  post:  -4011.39136619\n",
      "prior:  -282.479411206  like:  -3245.07169217  post:  -3527.55110338\n",
      "prior:  -282.479411206  like:  -3258.26064607  post:  -3540.74005727\n",
      "prior:  -282.479411206  like:  -3235.17673383  post:  -3517.65614503\n",
      "prior:  -282.479411206  like:  -3233.49571403  post:  -3515.97512524\n",
      "prior:  -282.479411206  like:  -2992.14380523  post:  -3274.62321644\n",
      "prior:  -282.479411206  like:  -3222.63176785  post:  -3505.11117906\n",
      "prior:  -282.479411206  like:  -2674.06230396  post:  -2956.54171517\n",
      "prior:  -282.479411206  like:  -3613.88023588  post:  -3896.35964708\n",
      "prior:  -282.479411206  like:  -2733.31991954  post:  -3015.79933074\n",
      "prior:  -282.479411206  like:  -3577.56520722  post:  -3860.04461842\n",
      "prior:  -282.479411206  like:  -3345.37246598  post:  -3627.85187719\n",
      "prior:  -282.479411206  like:  -3708.58207124  post:  -3991.06148245\n",
      "prior:  -282.479411206  like:  -2964.12656276  post:  -3246.60597397\n",
      "prior:  -282.479411206  like:  -2677.24901615  post:  -2959.72842736\n"
     ]
    }
   ],
   "source": [
    "for trace in [trace_a, trace_b, trace_c, trace_d]:\n",
    "    for chain in range(len(trace_a['params'])):\n",
    "        log_post(trace['params'][chain][-1])"
   ]
  },
  {
   "cell_type": "code",
   "execution_count": 13,
   "metadata": {
    "collapsed": false
   },
   "outputs": [
    {
     "name": "stdout",
     "output_type": "stream",
     "text": [
      "Number of parameters with GR below 1.2:  57  of  105  parameters.\n",
      "Percent of parameters with GR below 1.2:  54.2857142857\n",
      "Number of parameters with GR below 1.1:  21  of  105  parameters.\n",
      "Percent of parameters with GR below 1.1:  20.0\n"
     ]
    },
    {
     "data": {
      "text/plain": [
       "[57, 54.285714285714285, 21, 20.0]"
      ]
     },
     "execution_count": 13,
     "metadata": {},
     "output_type": "execute_result"
    }
   ],
   "source": [
    "print_convergence_summary(param_trace_d)"
   ]
  }
 ],
 "metadata": {
  "kernelspec": {
   "display_name": "Python 2",
   "language": "python",
   "name": "python2"
  },
  "language_info": {
   "codemirror_mode": {
    "name": "ipython",
    "version": 2
   },
   "file_extension": ".py",
   "mimetype": "text/x-python",
   "name": "python",
   "nbconvert_exporter": "python",
   "pygments_lexer": "ipython2",
   "version": "2.7.10"
  }
 },
 "nbformat": 4,
 "nbformat_minor": 0
}
