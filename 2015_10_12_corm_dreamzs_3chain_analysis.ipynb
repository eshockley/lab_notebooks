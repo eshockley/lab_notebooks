{
 "cells": [
  {
   "cell_type": "code",
   "execution_count": 1,
   "metadata": {
    "collapsed": false
   },
   "outputs": [
    {
     "name": "stdout",
     "output_type": "stream",
     "text": [
      "Warning: statsmodels and/or patsy not found, not importing glm submodule.\n"
     ]
    },
    {
     "name": "stderr",
     "output_type": "stream",
     "text": [
      "/Library/Python/2.7/site-packages/IPython/html.py:14: ShimWarning: The `IPython.html` package has been deprecated. You should import from `notebook` instead. `IPython.html.widgets` has moved to `ipywidgets`.\n",
      "  \"`IPython.html.widgets` has moved to `ipywidgets`.\", ShimWarning)\n",
      "/Library/Python/2.7/site-packages/IPython/utils/traitlets.py:5: UserWarning: IPython.utils.traitlets has moved to a top-level traitlets package.\n",
      "  warn(\"IPython.utils.traitlets has moved to a top-level traitlets package.\")\n"
     ]
    }
   ],
   "source": [
    "import pickle\n",
    "from helper_fxns import convert_param_vec_dict_to_param_dict, gelman_rubin_trace_dict, print_convergence_summary, sample_plots, create_trace_matrix, plot_histograms\n",
    "from corm import model\n",
    "%matplotlib inline\n",
    "import os\n",
    "import numpy as np"
   ]
  },
  {
   "cell_type": "code",
   "execution_count": 2,
   "metadata": {
    "collapsed": true
   },
   "outputs": [],
   "source": [
    "os.chdir('/Users/Erin/data_for_paper_attempt2/')"
   ]
  },
  {
   "cell_type": "code",
   "execution_count": 3,
   "metadata": {
    "collapsed": true
   },
   "outputs": [],
   "source": [
    "trace_a = pickle.load(open('CORM_dreamzs_3chain_a.p'))\n",
    "trace_b = pickle.load(open('CORM_dreamzs_3chain_b.p'))\n",
    "trace_c = pickle.load(open('CORM_dreamzs_3chain_c.p'))\n",
    "trace_d = pickle.load(open('CORM_dreamzs_3chain_d.p'))"
   ]
  },
  {
   "cell_type": "code",
   "execution_count": 4,
   "metadata": {
    "collapsed": true
   },
   "outputs": [],
   "source": [
    "os.chdir('/Users/Erin/git/ParticleSwarmOptimization/')"
   ]
  },
  {
   "cell_type": "code",
   "execution_count": 5,
   "metadata": {
    "collapsed": true
   },
   "outputs": [],
   "source": [
    "from example_corm_allparams import post_logp"
   ]
  },
  {
   "cell_type": "code",
   "execution_count": 6,
   "metadata": {
    "collapsed": false
   },
   "outputs": [
    {
     "name": "stdout",
     "output_type": "stream",
     "text": [
      "like data:  (138.47818263268326, 214.57390751504926)  like box1:  -3.22152363223  like box2:  -3.22152562903  like box3:  -3.22152362684  like box4:  -3.22152424418  prior:  -49.110417552  post:  291.055575463\n",
      "like data:  (139.08622590512923, 210.56532617185363)  like box1:  -3.22152365253  like box2:  -3.22152362823  like box3:  -3.22152444057  like box4:  -3.22152424097  prior:  -70.3228220028  post:  266.442634112\n",
      "like data:  (137.89989481381855, 212.15164864725492)  like box1:  -3.22152363131  like box2:  -3.22152444621  like box3:  -3.22152420278  like box4:  -3.22152601862  prior:  -56.0425301618  post:  281.122915\n",
      "like data:  (138.9282528598612, 211.37536486662546)  like box1:  -3.22152362621  like box2:  -3.22152413157  like box3:  -3.22152407322  like box4:  -3.22152406336  prior:  -48.5432487362  post:  288.874273096\n",
      "like data:  (133.47560784195602, 212.39454020863238)  like box1:  -3.22152380331  like box2:  -3.22152401547  like box3:  -3.22152363387  like box4:  -3.22152382406  prior:  -48.001980629  post:  284.982072145\n",
      "like data:  (136.99924938761737, 211.72018683403019)  like box1:  -3.22152375973  like box2:  -3.22152430228  like box3:  -3.22152362692  like box4:  -3.22152362665  prior:  -50.3474561882  post:  285.485884718\n",
      "like data:  (108.7699718532664, 151.64419216043783)  like box1:  -3.22152572481  like box2:  -3.22152531108  like box3:  -3.22152364029  like box4:  -3.22152540095  prior:  -101.506782925  post:  146.021281012\n",
      "like data:  (109.50392410954372, 128.3345755761587)  like box1:  -3.22152366713  like box2:  -3.22152537257  like box3:  -3.22152364648  like box4:  -3.22152366895  prior:  -132.61750633  post:  92.3348970008\n",
      "like data:  (107.0327551298374, 126.94825988268734)  like box1:  -3.22152474796  like box2:  -3.22152411442  like box3:  -3.22152387156  like box4:  -3.2215279074  prior:  -125.303223874  post:  95.7916904969\n",
      "like data:  (136.11512141940969, 211.21679219786662)  like box1:  -3.22152364905  like box2:  -3.22152432467  like box3:  -3.22152390004  like box4:  -3.2215254882  prior:  -61.9871909069  post:  272.458625348\n",
      "like data:  (133.60066978411302, 211.1697485164942)  like box1:  -3.22152366514  like box2:  -3.22152394422  like box3:  -3.22152456541  like box4:  -3.22152486265  prior:  -49.1277650077  post:  282.756556255\n",
      "like data:  (138.35436177613113, 212.19576776350507)  like box1:  -3.22152378081  like box2:  -3.22152589936  like box3:  -3.22152369406  like box4:  -3.22152369298  prior:  -56.6419336662  post:  281.022098806\n"
     ]
    }
   ],
   "source": [
    "param_list = ['KD_AA_cat1', 'kcat_AA1', 'KD_AA_cat2', 'kcat_AA2', 'KD_AA_cat3', 'kcat_AA3', 'KD_AG_cat1', 'kcat_AG1', 'KD_AG_cat2', 'KD_AG_cat3', 'kcat_AG3', 'KD_AA_allo1', 'KD_AA_allo2', 'KD_AA_allo3', 'KD_AG_allo1', 'KD_AG_allo2', 'KD_AG_allo3']\n",
    "for trace in [trace_a, trace_b, trace_c, trace_d]:\n",
    "    for chain in range(len(trace_a['kcat_AA1'])):\n",
    "        theta = np.zeros((len(trace_a.keys())))\n",
    "        for i,key in enumerate(param_list):\n",
    "            theta[i] = trace[key][chain][-1]\n",
    "        post_logp(theta)"
   ]
  },
  {
   "cell_type": "code",
   "execution_count": 7,
   "metadata": {
    "collapsed": false
   },
   "outputs": [
    {
     "name": "stdout",
     "output_type": "stream",
     "text": [
      "Number of parameters with GR below 1.2:  17  of  17  parameters.\n",
      "Percent of parameters with GR below 1.2:  100.0\n",
      "Number of parameters with GR below 1.1:  17  of  17  parameters.\n",
      "Percent of parameters with GR below 1.1:  100.0\n"
     ]
    },
    {
     "data": {
      "text/plain": [
       "[17, 100.0, 17, 100.0]"
      ]
     },
     "execution_count": 7,
     "metadata": {},
     "output_type": "execute_result"
    }
   ],
   "source": [
    "print_convergence_summary(trace_d)"
   ]
  }
 ],
 "metadata": {
  "kernelspec": {
   "display_name": "Python 2",
   "language": "python",
   "name": "python2"
  },
  "language_info": {
   "codemirror_mode": {
    "name": "ipython",
    "version": 2
   },
   "file_extension": ".py",
   "mimetype": "text/x-python",
   "name": "python",
   "nbconvert_exporter": "python",
   "pygments_lexer": "ipython2",
   "version": "2.7.10"
  }
 },
 "nbformat": 4,
 "nbformat_minor": 0
}
