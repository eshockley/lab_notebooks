{
 "cells": [
  {
   "cell_type": "markdown",
   "metadata": {},
   "source": [
    "With parameters:\n",
    "1.  Plot pairwise covariances -- look for 'interesting' (are 2D always ellipitical -- sloppy model approximation) + 3D and up\n",
    "2.  Determine highly correlated parameters\n",
    "\n",
    "With simulation results:\n",
    "See 1 and 2 above with simulation results -- this could be on a per time point basis or averaged across time course\n",
    "1 is interesting from the standpoint of looking at entire range of values (do simulation values correlate linearly across range, nonlinearly, it doesn't matter, etc)\n",
    "2 is interesting b/c it suggests things that can be measured in place of a value of interest (biomarkers)\n",
    "3. Plot parameter vs simulation results -- again, what is strongly correlated (what could we measure, going either way, to either more strongly constrain prediction or parameter, depending on what you want)\n",
    "4. Determine probabilities that x and y are at a certain level at a certain time -- look at all probabilities to find those that are very high -- these are the most confident predictions you can make from a model.  If this is wrong, likely means something is missing/wrong in the model -- likely the things that are most strongly correlated with the observations.\n",
    "5. Some kind of variance based sensitivity analysis for parameters vs simulations -- would need to be able to select samples where parameter x varied across its range while others stayed constant, etc. for first and higher order contributions to variance.\n",
    "\n",
    "Could expand model:\n",
    "1. Change how kf is handled to be like with EARM fittings\n",
    "2. Use stochastic simulations\n",
    "3. Fit multiple models (thermodynamic integration)\n"
   ]
  }
 ],
 "metadata": {
  "kernelspec": {
   "display_name": "Python 2",
   "language": "python",
   "name": "python2"
  },
  "language_info": {
   "codemirror_mode": {
    "name": "ipython",
    "version": 2
   },
   "file_extension": ".py",
   "mimetype": "text/x-python",
   "name": "python",
   "nbconvert_exporter": "python",
   "pygments_lexer": "ipython2",
   "version": "2.7.11"
  }
 },
 "nbformat": 4,
 "nbformat_minor": 0
}
