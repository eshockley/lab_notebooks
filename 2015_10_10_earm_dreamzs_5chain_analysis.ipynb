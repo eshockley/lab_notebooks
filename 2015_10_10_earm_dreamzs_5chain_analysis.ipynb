{
 "cells": [
  {
   "cell_type": "code",
   "execution_count": 1,
   "metadata": {
    "collapsed": false
   },
   "outputs": [
    {
     "name": "stdout",
     "output_type": "stream",
     "text": [
      "Warning: statsmodels and/or patsy not found, not importing glm submodule.\n"
     ]
    },
    {
     "name": "stderr",
     "output_type": "stream",
     "text": [
      "/Library/Python/2.7/site-packages/IPython/html.py:14: ShimWarning: The `IPython.html` package has been deprecated. You should import from `notebook` instead. `IPython.html.widgets` has moved to `ipywidgets`.\n",
      "  \"`IPython.html.widgets` has moved to `ipywidgets`.\", ShimWarning)\n",
      "/Library/Python/2.7/site-packages/IPython/utils/traitlets.py:5: UserWarning: IPython.utils.traitlets has moved to a top-level traitlets package.\n",
      "  warn(\"IPython.utils.traitlets has moved to a top-level traitlets package.\")\n"
     ]
    }
   ],
   "source": [
    "import pickle\n",
    "from helper_fxns import convert_param_vec_dict_to_param_dict, gelman_rubin_trace_dict, print_convergence_summary, sample_plots, create_trace_matrix, plot_histograms\n",
    "from earm.lopez_embedded import model\n",
    "%matplotlib inline\n",
    "import os\n",
    "import numpy as np"
   ]
  },
  {
   "cell_type": "code",
   "execution_count": 2,
   "metadata": {
    "collapsed": true
   },
   "outputs": [],
   "source": [
    "os.chdir('/Users/Erin/data_for_paper_attempt2/')"
   ]
  },
  {
   "cell_type": "code",
   "execution_count": 3,
   "metadata": {
    "collapsed": true
   },
   "outputs": [],
   "source": [
    "trace_a = pickle.load(open('earm_dreamzs_5chain_a.p'))\n",
    "trace_b = pickle.load(open('earm_dreamzs_5chain_b.p'))\n",
    "trace_c = pickle.load(open('earm_dreamzs_5chain_c.p'))\n",
    "trace_d = pickle.load(open('earm_dreamzs_5chain_d.p'))"
   ]
  },
  {
   "cell_type": "code",
   "execution_count": 4,
   "metadata": {
    "collapsed": true
   },
   "outputs": [],
   "source": [
    "trace_a_error = {}\n",
    "trace_b_error = {}\n",
    "trace_c_error = {}\n",
    "trace_d_error = {}\n",
    "for key in ['momp', 'icrp', 'ecrp']:\n",
    "    trace_a_error[key] = trace_a[key]\n",
    "    trace_b_error[key] = trace_b[key]\n",
    "    trace_c_error[key] = trace_c[key]\n",
    "    trace_d_error[key] = trace_d[key]"
   ]
  },
  {
   "cell_type": "code",
   "execution_count": 5,
   "metadata": {
    "collapsed": true
   },
   "outputs": [],
   "source": [
    "for key in ['momp', 'icrp', 'ecrp']:\n",
    "    del trace_a[key]\n",
    "    del trace_b[key]\n",
    "    del trace_c[key]\n",
    "    del trace_d[key]"
   ]
  },
  {
   "cell_type": "code",
   "execution_count": 6,
   "metadata": {
    "collapsed": true
   },
   "outputs": [],
   "source": [
    "param_trace_a = convert_param_vec_dict_to_param_dict(trace_a, model.parameters_rules())\n",
    "param_trace_b = convert_param_vec_dict_to_param_dict(trace_b, model.parameters_rules())\n",
    "param_trace_c = convert_param_vec_dict_to_param_dict(trace_c, model.parameters_rules())\n",
    "param_trace_d = convert_param_vec_dict_to_param_dict(trace_d, model.parameters_rules())"
   ]
  },
  {
   "cell_type": "code",
   "execution_count": 7,
   "metadata": {
    "collapsed": true
   },
   "outputs": [],
   "source": [
    "for trace in [param_trace_a, param_trace_b, param_trace_c, param_trace_d]:\n",
    "    del trace['param_list']"
   ]
  },
  {
   "cell_type": "code",
   "execution_count": 8,
   "metadata": {
    "collapsed": true
   },
   "outputs": [],
   "source": [
    "os.chdir('/Users/Erin/git/moo_and_mcmc/emcee/')"
   ]
  },
  {
   "cell_type": "code",
   "execution_count": 9,
   "metadata": {
    "collapsed": true
   },
   "outputs": [],
   "source": [
    "from earm_uniform_emcee import log_post"
   ]
  },
  {
   "cell_type": "code",
   "execution_count": 10,
   "metadata": {
    "collapsed": false
   },
   "outputs": [
    {
     "name": "stdout",
     "output_type": "stream",
     "text": [
      "prior:  -282.479411206  like:  -3231.46656996  post:  -3513.94598116\n",
      "prior:  -282.479411206  like:  -2763.04417316  post:  -3045.52358437\n",
      "prior:  -282.479411206  like:  -2761.22478533  post:  -3043.70419654\n",
      "prior:  -282.479411206  like:  -3011.55664058  post:  -3294.03605179\n",
      "prior:  -282.479411206  like:  -3820.31130985  post:  -4102.79072106\n",
      "prior:  -282.479411206  like:  -3285.40864192  post:  -3567.88805313\n",
      "prior:  -282.479411206  like:  -3236.78346924  post:  -3519.26288044\n",
      "prior:  -282.479411206  like:  -3251.35080789  post:  -3533.8302191\n",
      "prior:  -282.479411206  like:  -3263.45269207  post:  -3545.93210328\n",
      "prior:  -282.479411206  like:  -3158.5015556  post:  -3440.98096681\n",
      "prior:  -282.479411206  like:  -3193.7816779  post:  -3476.2610891\n",
      "prior:  -282.479411206  like:  -2963.09950302  post:  -3245.57891423\n",
      "prior:  -282.479411206  like:  -3193.90431391  post:  -3476.38372511\n",
      "prior:  -282.479411206  like:  -3159.45371098  post:  -3441.93312219\n",
      "prior:  -282.479411206  like:  -2955.24403851  post:  -3237.72344972\n",
      "prior:  -282.479411206  like:  -3542.03464562  post:  -3824.51405683\n",
      "prior:  -282.479411206  like:  -3485.48478334  post:  -3767.96419455\n",
      "prior:  -282.479411206  like:  -2764.87608605  post:  -3047.35549725\n",
      "prior:  -282.479411206  like:  -3473.94247972  post:  -3756.42189093\n",
      "prior:  -282.479411206  like:  -3537.15449142  post:  -3819.63390263\n"
     ]
    }
   ],
   "source": [
    "for trace in [trace_a, trace_b, trace_c, trace_d]:\n",
    "    for chain in range(len(trace_a['params'])):\n",
    "        log_post(trace['params'][chain][-1])"
   ]
  },
  {
   "cell_type": "code",
   "execution_count": 15,
   "metadata": {
    "collapsed": false
   },
   "outputs": [
    {
     "name": "stdout",
     "output_type": "stream",
     "text": [
      "Number of parameters with GR below 1.2:  1  of  105  parameters.\n",
      "Percent of parameters with GR below 1.2:  0.952380952381\n",
      "Number of parameters with GR below 1.1:  0  of  105  parameters.\n",
      "Percent of parameters with GR below 1.1:  0.0\n"
     ]
    },
    {
     "data": {
      "text/plain": [
       "[1, 0.9523809523809524, 0, 0.0]"
      ]
     },
     "execution_count": 15,
     "metadata": {},
     "output_type": "execute_result"
    }
   ],
   "source": [
    "print_convergence_summary(param_trace_a)"
   ]
  }
 ],
 "metadata": {
  "kernelspec": {
   "display_name": "Python 2",
   "language": "python",
   "name": "python2"
  },
  "language_info": {
   "codemirror_mode": {
    "name": "ipython",
    "version": 2
   },
   "file_extension": ".py",
   "mimetype": "text/x-python",
   "name": "python",
   "nbconvert_exporter": "python",
   "pygments_lexer": "ipython2",
   "version": "2.7.10"
  }
 },
 "nbformat": 4,
 "nbformat_minor": 0
}
