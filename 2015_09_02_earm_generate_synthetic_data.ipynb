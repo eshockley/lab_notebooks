{
 "cells": [
  {
   "cell_type": "code",
   "execution_count": 1,
   "metadata": {
    "collapsed": false
   },
   "outputs": [],
   "source": [
    "import numpy as np\n",
    "%matplotlib inline\n",
    "from earm.lopez_embedded import model as earm\n",
    "import os\n",
    "from pysb.integrate import Solver\n",
    "import scipy.interpolate"
   ]
  },
  {
   "cell_type": "code",
   "execution_count": null,
   "metadata": {
    "collapsed": false
   },
   "outputs": [],
   "source": [
    "# Info for loading/simulating EARM PySB model and experimental data\n",
    "# List of model observables and corresponding data file columns for\n",
    "# point-by-point fitting\n",
    "obs_names = ['mBid', 'cPARP']\n",
    "data_names = ['norm_ICRP', 'norm_ECRP']\n",
    "var_names = ['nrm_var_ICRP', 'nrm_var_ECRP']\n",
    "# Total starting amounts of proteins in obs_names, for normalizing simulations\n",
    "obs_totals = [earm.parameters['Bid_0'].value,\n",
    "              earm.parameters['PARP_0'].value]\n",
    "\n",
    "# Load experimental data file\n",
    "earm_path = '/Users/Erin/git/earm'\n",
    "data_path = os.path.join(earm_path, 'xpdata', 'forfits',\n",
    "                         'EC-RP_IMS-RP_IC-RP_data_for_models.csv')\n",
    "exp_data = np.genfromtxt(data_path, delimiter=',', names=True)\n",
    "\n",
    "# Model observable corresponding to the IMS-RP reporter (MOMP timing)\n",
    "momp_obs = 'aSmac'\n",
    "# Mean and variance of Td (delay time) and Ts (switching time) of MOMP, and\n",
    "# yfinal (the last value of the IMS-RP trajectory)\n",
    "momp_obs_total = earm.parameters['Smac_0'].value\n",
    "momp_data = np.array([9810.0, 180.0, momp_obs_total])\n",
    "momp_var = np.array([7245000.0, 3600.0, 1e4])\n",
    "\n",
    "# Build time points for the integrator, using the same time scale as the\n",
    "# experimental data but with greater resolution to help the integrator converge.\n",
    "ntimes = len(exp_data['Time'])\n",
    "# Factor by which to increase time resolution\n",
    "tmul = 100\n",
    "# Do the sampling such that the original experimental timepoints can be\n",
    "# extracted with a slice expression instead of requiring interpolation.\n",
    "tspan = np.linspace(exp_data['Time'][0], exp_data['Time'][-1],\n",
    "                    (ntimes-1) * tmul + 1)\n",
    "# Initialize solver object\n",
    "solver = Solver(earm, tspan, integrator='vode', rtol=1e-7, atol=1e-7, nsteps=10000)\n",
    "\n",
    "kf_idx = [idx for idx, param in enumerate(earm.parameters_rules()) if 'kf' in param.name]\n",
    "kr_idx = [idx for idx, param in enumerate(earm.parameters_rules()) if 'kr' in param.name]\n",
    "kc_idx = [idx for idx, param in enumerate(earm.parameters_rules()) if 'kc' in param.name]"
   ]
  },
  {
   "cell_type": "code",
   "execution_count": 5,
   "metadata": {
    "collapsed": false
   },
   "outputs": [],
   "source": [
    "os.chdir('..')"
   ]
  },
  {
   "cell_type": "code",
   "execution_count": 3,
   "metadata": {
    "collapsed": false
   },
   "outputs": [],
   "source": [
    "earm_results = np.load('dream_results_earm_embedded_normal_prior.npy')"
   ]
  },
  {
   "cell_type": "code",
   "execution_count": 4,
   "metadata": {
    "collapsed": false
   },
   "outputs": [],
   "source": [
    "trace_arr = earm_results\n",
    "ncols = trace_arr.shape[1]\n",
    "\n",
    "dtype = trace_arr.dtype.descr * ncols\n",
    "\n",
    "struct = trace_arr.view(dtype)\n",
    "\n",
    "uniq = np.unique(struct)\n",
    "\n",
    "earm_unique_vecs = uniq.view(trace_arr.dtype).reshape(-1, ncols)"
   ]
  },
  {
   "cell_type": "code",
   "execution_count": null,
   "metadata": {
    "collapsed": false
   },
   "outputs": [],
   "source": [
    "def likelihood(param_vector):\n",
    "    # Sub in parameter values for current location in parameter space and simulate\n",
    "    for i in range(len(param_vector)):\n",
    "        if i in kr_idx:\n",
    "            #Sampled value is a KD value that is then used with the kf to choose a kr\n",
    "            earm.parameters_rules()[name_dict[i]].value = 10**(param_vector[i]+param_vector[i-1])\n",
    "        #    earm.parameters_rules()[name_dict[i]].value = 10**param_vector[i]\n",
    "            #print 'KD value = ',10**param_vector[i]\n",
    "            #print 'set parameter: ',earm.parameters_rules()[name_dict[i]].name,' to ',10**(param_vector[i]+param_vector[i-1])\n",
    "        else:\n",
    "            earm.parameters_rules()[name_dict[i]].value = 10**param_vector[i]\n",
    "            #print 'set parameter: ',earm.parameters_rules()[name_dict[i]].name,' to ',10**param_vector[i]\n",
    "        #earm.parameters_rules()[name_dict[i]].value = 10**param_vector[i]\n",
    "    #print 'subbed kf vals: ',10**param_vector[kf_idx]\n",
    "    #print 'subbed kr vals: ',10**param_vector[kr_idx]\n",
    "    #print 'subbed kc vals: ',10**param_vector[kc_idx]\n",
    "    solver.run()\n",
    "    \n",
    "    e1 = {}\n",
    "    sims = {}\n",
    "    for obs_name, data_name, var_name, obs_total in \\\n",
    "            zip(obs_names, data_names, var_names, obs_totals):\n",
    "        # Get model observable trajectory (this is the slice expression\n",
    "        # mentioned above in the comment for tspan)\n",
    "        ysim = solver.yobs[obs_name][::tmul]\n",
    "        # Normalize it to 0-1\n",
    "        ysim_norm = ysim / obs_total\n",
    "        # Get experimental measurement and variance\n",
    "        ydata = exp_data[data_name]\n",
    "        yvar = exp_data[var_name]\n",
    "        # Compute error between simulation and experiment (chi-squared)\n",
    "        e1[obs_name] = np.sum((ydata - ysim_norm) ** 2 / (2 * yvar)) / len(ydata)    \n",
    "        sims[obs_name] = ysim_norm\n",
    "    \n",
    "    e1_mBid = e1['mBid'] \n",
    "    e1_mBid = -np.log10(e1_mBid)\n",
    "    sim_mBid = sims['mBid']\n",
    "    if np.isnan(e1_mBid):\n",
    "        e1_mBid = -np.inf\n",
    "        sim_mBid.fill(-np.inf)      \n",
    "    e1_cPARP = e1['cPARP']\n",
    "    e1_cPARP = -np.log10(e1_cPARP)\n",
    "    sim_cPARP = sims['cPARP']\n",
    "    if np.isnan(e1_cPARP):\n",
    "        e1_cPARP = -np.inf\n",
    "        sim_cPARP.fill(-np.inf)\n",
    "\n",
    "    # Calculate Td, Ts, and final value for IMS-RP reporter\n",
    "    # =====\n",
    "    # Normalize trajectory\n",
    "    ysim_momp = solver.yobs[momp_obs]\n",
    "    if np.nanmax(ysim_momp) == 0:\n",
    "        ysim_momp_norm = ysim_momp\n",
    "        t10 = 0\n",
    "        t90 = 0\n",
    "    \n",
    "    else:  \n",
    "        ysim_momp_norm = ysim_momp / np.nanmax(ysim_momp)\n",
    "        # Build a spline to interpolate it\n",
    "        st, sc, sk = scipy.interpolate.splrep(solver.tspan, ysim_momp_norm)\n",
    "        try: \n",
    "            # Use root-finding to find the point where trajectory reaches 10% and 90%\n",
    "            t10 = scipy.interpolate.sproot((st, sc-0.10, sk))[0]\n",
    "            t90 = scipy.interpolate.sproot((st, sc-0.90, sk))[0]\n",
    "        #If integration has failed and nans are present in trajectory, \n",
    "        # interpolation will fail and an IndexError will occur\n",
    "        except IndexError:\n",
    "            t10 = 0\n",
    "            t90 = 0\n",
    "    # Calculate Td as the mean of these times\n",
    "    td = (t10 + t90) / 2\n",
    "    # Calculate Ts as their difference\n",
    "    ts = t90 - t10\n",
    "    # Get yfinal, the last element from the trajectory\n",
    "    yfinal = ysim_momp[-1]\n",
    "    # Build a vector of the 3 variables to fit\n",
    "    momp_sim = np.array([td, ts, yfinal]) #to use gpu add type='float32'\n",
    "    \n",
    "    # Perform chi-squared calculation against mean and variance vectors\n",
    "    e2 = np.sum((momp_data - momp_sim) ** 2 / (2 * momp_var)) / 3\n",
    "    e2 = -np.log10(e2)\n",
    "    if np.isnan(e2):\n",
    "        e2 = -np.inf\n",
    "        momp_sim.fill(-np.inf)\n",
    "    #error = e1_mBid + e1_cPARP + e2\n",
    "    #print 'subbed values: ',[np.log10(param.value) for param in earm.parameters_rules()]\n",
    "    #print 'mBid error: ',e1_mBid\n",
    "    #print 'e1_cPARP: ',e1_cPARP\n",
    "    #print 'e2: ',e2\n",
    "    \n",
    "    return sim_mBid, sim_cPARP, momp_sim #to use gpu add .astype('float32') to end of first two arrays"
   ]
  },
  {
   "cell_type": "code",
   "execution_count": null,
   "metadata": {
    "collapsed": true
   },
   "outputs": [],
   "source": [
    "name_dict = {i: param.name for i, param in enumerate([param for param in earm.parameters_rules()])}"
   ]
  },
  {
   "cell_type": "code",
   "execution_count": null,
   "metadata": {
    "collapsed": true
   },
   "outputs": [],
   "source": [
    "solver.run()"
   ]
  },
  {
   "cell_type": "code",
   "execution_count": null,
   "metadata": {
    "collapsed": false
   },
   "outputs": [],
   "source": [
    "sim_mBid, sim_cPARP, sim_momp = likelihood(earm_unique_vecs[0])\n",
    "mBid_sims = np.zeros((len(earm_unique_vecs), len(sim_mBid)))\n",
    "cPARP_sims = np.zeros((len(earm_unique_vecs), len(sim_cPARP)))\n",
    "momp_sims = np.zeros((len(earm_unique_vecs), 3))"
   ]
  },
  {
   "cell_type": "code",
   "execution_count": null,
   "metadata": {
    "collapsed": false
   },
   "outputs": [],
   "source": [
    "for i, param_vec in enumerate(earm_unique_vecs[0:1000]):\n",
    "    sim_mBid, sim_cPARP, sim_momp = likelihood(param_vec)\n",
    "    mBid_sims[i,:] = sim_mBid\n",
    "    cPARP_sims[i,:] = sim_cPARP\n",
    "    momp_sims[i,:] = sim_momp\n",
    "    if i%100 == 0:\n",
    "        print 'Finished ',i,' of ',len(earm_unique_vecs),' parameter vectors.'"
   ]
  },
  {
   "cell_type": "code",
   "execution_count": 6,
   "metadata": {
    "collapsed": false
   },
   "outputs": [],
   "source": [
    "mBid_sims = np.load('earm_synthetic_data_mBid.npy')\n",
    "cPARP_sims = np.load('earm_synthetic_data_cPARP.npy')\n",
    "momp_sims = np.load('earm_synthetic_data_momp.npy')"
   ]
  },
  {
   "cell_type": "code",
   "execution_count": 12,
   "metadata": {
    "collapsed": false
   },
   "outputs": [],
   "source": [
    "mBid_sims_nonnan = np.delete(mBid_sims, np.where(mBid_sims==-np.inf)[0], axis=0)"
   ]
  },
  {
   "cell_type": "code",
   "execution_count": 16,
   "metadata": {
    "collapsed": false
   },
   "outputs": [],
   "source": [
    "cPARP_sims_nonan = np.delete(cPARP_sims, np.where(cPARP_sims==-np.inf)[0], axis=0)\n",
    "momp_sims = np.delete(momp_sims, np.where(momp_sims==-np.inf)[0], axis=0)"
   ]
  },
  {
   "cell_type": "code",
   "execution_count": 21,
   "metadata": {
    "collapsed": false
   },
   "outputs": [],
   "source": [
    "mean_mBid = np.mean(mBid_sims_nonnan, axis=0)\n",
    "mean_cPARP = np.mean(cPARP_sims_nonan, axis=0)\n",
    "mean_momp = np.mean(momp_sims, axis=0)\n",
    "sd_mBid = np.std(mBid_sims_nonnan, axis=0)\n",
    "sd_cPARP = np.std(cPARP_sims_nonan, axis=0)\n",
    "sd_momp = np.std(momp_sims, axis=0)"
   ]
  },
  {
   "cell_type": "code",
   "execution_count": 29,
   "metadata": {
    "collapsed": false
   },
   "outputs": [],
   "source": [
    "np.save('mBid_mean.npy', mean_mBid)\n",
    "np.save('cPARP_mean.npy', mean_cPARP)\n",
    "np.save('momp_mean.npy', mean_momp)\n",
    "np.save('mBid_sd.npy', sd_mBid)\n",
    "np.save('cPARP_sd.npy', sd_cPARP)\n",
    "np.save('momp_sd.npy', sd_momp)"
   ]
  }
 ],
 "metadata": {
  "kernelspec": {
   "display_name": "Python 2",
   "language": "python",
   "name": "python2"
  },
  "language_info": {
   "codemirror_mode": {
    "name": "ipython",
    "version": 2
   },
   "file_extension": ".py",
   "mimetype": "text/x-python",
   "name": "python",
   "nbconvert_exporter": "python",
   "pygments_lexer": "ipython2",
   "version": "2.7.10"
  }
 },
 "nbformat": 4,
 "nbformat_minor": 0
}
