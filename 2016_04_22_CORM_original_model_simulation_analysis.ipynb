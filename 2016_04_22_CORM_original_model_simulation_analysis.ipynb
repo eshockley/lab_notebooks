{
 "cells": [
  {
   "cell_type": "code",
   "execution_count": 1,
   "metadata": {
    "collapsed": false
   },
   "outputs": [
    {
     "name": "stderr",
     "output_type": "stream",
     "text": [
      "/sw/lib/python2.7/site-packages/matplotlib/font_manager.py:278: UserWarning: Matplotlib is building the font cache using fc-list. This may take a moment.\n",
      "  warnings.warn('Matplotlib is building the font cache using fc-list. This may take a moment.')\n"
     ]
    }
   ],
   "source": [
    "import os\n",
    "import pandas as pd\n",
    "from corm import model\n",
    "from pysb.bng import generate_equations\n",
    "import numpy as np\n",
    "import seaborn as sns\n",
    "import matplotlib.pyplot as plt\n",
    "%matplotlib inline"
   ]
  },
  {
   "cell_type": "code",
   "execution_count": 2,
   "metadata": {
    "collapsed": true
   },
   "outputs": [],
   "source": [
    "os.chdir('/Users/Erin/git/accre_data_analysis/corm/')"
   ]
  },
  {
   "cell_type": "code",
   "execution_count": 3,
   "metadata": {
    "collapsed": true
   },
   "outputs": [],
   "source": [
    "simulation_store = pd.HDFStore('2016_04_06_COX2_unique_simulations.h5')"
   ]
  },
  {
   "cell_type": "code",
   "execution_count": 4,
   "metadata": {
    "collapsed": false
   },
   "outputs": [
    {
     "data": {
      "text/plain": [
       "<class 'pandas.io.pytables.HDFStore'>\n",
       "File path: 2016_04_06_COX2_unique_simulations.h5\n",
       "/analysis_results/correlations/within_species/s0             frame\n",
       "/analysis_results/correlations/within_species/s1             frame\n",
       "/analysis_results/correlations/within_species/s10            frame\n",
       "/analysis_results/correlations/within_species/s11            frame\n",
       "/analysis_results/correlations/within_species/s12            frame\n",
       "/analysis_results/correlations/within_species/s2             frame\n",
       "/analysis_results/correlations/within_species/s3             frame\n",
       "/analysis_results/correlations/within_species/s4             frame\n",
       "/analysis_results/correlations/within_species/s5             frame\n",
       "/analysis_results/correlations/within_species/s6             frame\n",
       "/analysis_results/correlations/within_species/s7             frame\n",
       "/analysis_results/correlations/within_species/s8             frame\n",
       "/analysis_results/correlations/within_species/s9             frame\n",
       "/analysis_results/descriptive_stats/s0                       frame\n",
       "/analysis_results/descriptive_stats/s1                       frame\n",
       "/analysis_results/descriptive_stats/s10                      frame\n",
       "/analysis_results/descriptive_stats/s11                      frame\n",
       "/analysis_results/descriptive_stats/s12                      frame\n",
       "/analysis_results/descriptive_stats/s2                       frame\n",
       "/analysis_results/descriptive_stats/s3                       frame\n",
       "/analysis_results/descriptive_stats/s4                       frame\n",
       "/analysis_results/descriptive_stats/s5                       frame\n",
       "/analysis_results/descriptive_stats/s6                       frame\n",
       "/analysis_results/descriptive_stats/s7                       frame\n",
       "/analysis_results/descriptive_stats/s8                       frame\n",
       "/analysis_results/descriptive_stats/s9                       frame\n",
       "/species_corr_df                                             frame\n",
       "/unique_simulations_s0                                       frame\n",
       "/unique_simulations_s1                                       frame\n",
       "/unique_simulations_s10                                      frame\n",
       "/unique_simulations_s11                                      frame\n",
       "/unique_simulations_s12                                      frame\n",
       "/unique_simulations_s2                                       frame\n",
       "/unique_simulations_s3                                       frame\n",
       "/unique_simulations_s4                                       frame\n",
       "/unique_simulations_s5                                       frame\n",
       "/unique_simulations_s6                                       frame\n",
       "/unique_simulations_s7                                       frame\n",
       "/unique_simulations_s8                                       frame\n",
       "/unique_simulations_s9                                       frame"
      ]
     },
     "execution_count": 4,
     "metadata": {},
     "output_type": "execute_result"
    }
   ],
   "source": [
    "simulation_store"
   ]
  },
  {
   "cell_type": "code",
   "execution_count": 5,
   "metadata": {
    "collapsed": false
   },
   "outputs": [
    {
     "data": {
      "text/plain": [
       "[COX2(allo=None, cat=None),\n",
       " AG(b=None),\n",
       " AA(b=None),\n",
       " PG(),\n",
       " PGG(),\n",
       " AA(b=1) % COX2(allo=None, cat=1),\n",
       " AG(b=1) % COX2(allo=None, cat=1),\n",
       " AA(b=1) % COX2(allo=1, cat=None),\n",
       " AG(b=1) % COX2(allo=1, cat=None),\n",
       " AA(b=1) % AG(b=2) % COX2(allo=2, cat=1),\n",
       " AA(b=1) % AA(b=2) % COX2(allo=1, cat=2),\n",
       " AG(b=1) % AG(b=2) % COX2(allo=1, cat=2),\n",
       " AA(b=1) % AG(b=2) % COX2(allo=1, cat=2)]"
      ]
     },
     "execution_count": 5,
     "metadata": {},
     "output_type": "execute_result"
    }
   ],
   "source": [
    "generate_equations(model)\n",
    "model.species"
   ]
  },
  {
   "cell_type": "code",
   "execution_count": 9,
   "metadata": {
    "collapsed": false
   },
   "outputs": [
    {
     "data": {
      "text/plain": [
       "46666"
      ]
     },
     "execution_count": 9,
     "metadata": {},
     "output_type": "execute_result"
    }
   ],
   "source": [
    "len(simulation_store['unique_simulations_s0'][(0.5, 0.5)][9])"
   ]
  },
  {
   "cell_type": "code",
   "execution_count": 10,
   "metadata": {
    "collapsed": true
   },
   "outputs": [],
   "source": [
    "sims_to_save = np.zeros((len(simulation_store['unique_simulations_s0'][(0.5, 0.5)][9]), len(model.species)))"
   ]
  },
  {
   "cell_type": "code",
   "execution_count": 11,
   "metadata": {
    "collapsed": true
   },
   "outputs": [],
   "source": [
    "for species in range(len(model.species)):\n",
    "    sims_to_save[:, species] = simulation_store['unique_simulations_s'+str(species)][(0.5, 0.5)][9]"
   ]
  },
  {
   "cell_type": "code",
   "execution_count": 13,
   "metadata": {
    "collapsed": false
   },
   "outputs": [],
   "source": [
    "np.savetxt(\"CORM_simulations_init0.50.5_10sec.csv\", sims_to_save, delimiter=\",\")"
   ]
  },
  {
   "cell_type": "code",
   "execution_count": 7,
   "metadata": {
    "collapsed": false
   },
   "outputs": [],
   "source": [
    "os.chdir('/Users/Erin/git/COX2/results')\n",
    "mcmc_samples = pd.DataFrame(np.load('2015_02_02_COX2_all_traces.npy'), columns=['kcat_AA2', 'kcat_AA3', 'KD_AG_cat3', 'KD_AG_cat2', 'KD_AG_allo2', 'KD_AG_allo1', 'KD_AA_allo1', 'KD_AA_allo2', 'KD_AA_allo3', 'kcat_AG3', 'KD_AA_cat3', 'KD_AA_cat2'])"
   ]
  },
  {
   "cell_type": "code",
   "execution_count": 8,
   "metadata": {
    "collapsed": false
   },
   "outputs": [],
   "source": [
    "sims_s0 = simulation_store['unique_simulations_s0'].reindex(index=mcmc_samples.index, columns=simulation_store['unique_simulations_s0'].columns, method='ffill')"
   ]
  },
  {
   "cell_type": "code",
   "execution_count": 9,
   "metadata": {
    "collapsed": false
   },
   "outputs": [],
   "source": [
    "simulations_dfs = {}"
   ]
  },
  {
   "cell_type": "code",
   "execution_count": 10,
   "metadata": {
    "collapsed": false
   },
   "outputs": [
    {
     "data": {
      "text/plain": [
       "[0, 1, 2, 3, 4, 5, 6, 7, 8, 9]"
      ]
     },
     "execution_count": 10,
     "metadata": {},
     "output_type": "execute_result"
    }
   ],
   "source": [
    "exp_cond_AA = [0, .5, 1, 2, 4, 8, 16]\n",
    "exp_cond_AG = [0, .5, 1, 2, 4, 8, 16]\n",
    "time_pts = np.linspace(0,10, num=10)\n",
    "range(10)"
   ]
  },
  {
   "cell_type": "code",
   "execution_count": 11,
   "metadata": {
    "collapsed": false
   },
   "outputs": [],
   "source": [
    "for sidx, species in enumerate(model.species):\n",
    "    simulations_dfs['s'+str(sidx)] = simulation_store['unique_simulations_s'+str(sidx)].reindex(index=mcmc_samples.index, columns=simulation_store['unique_simulations_s'+str(sidx)].columns, method='ffill')\n",
    "    #for AA_init in exp_cond_AA:\n",
    "        #for AG_init in exp_cond_AG:\n",
    "            #for nt, time_pt in enumerate(time_pts):\n",
    "                #vals = np.log10(simulations_dfs['s'+str(sidx)][AA_init][AG_init].values)\n",
    "                #spec_timept = vals[:,nt]\n",
    "                #fig = plt.figure()\n",
    "                #sns.plotting_context('notebook')\n",
    "                #ax = sns.distplot(spec_timept, hist=True, color='b', kde=False, norm_hist=True)\n",
    "                #sns.axlabel(str(species)+' with '+str(AA_init)+' AA and '+str(AG_init)+' 2-AG at '+str(time_pt)+' seconds.', 'Probability')"
   ]
  },
  {
   "cell_type": "code",
   "execution_count": 12,
   "metadata": {
    "collapsed": false
   },
   "outputs": [],
   "source": [
    "simulations_des_stats = {}\n",
    "for sidx, species in enumerate(model.species):\n",
    "    simulations_des_stats['s'+str(sidx)] = simulations_dfs['s'+str(sidx)].describe()"
   ]
  },
  {
   "cell_type": "code",
   "execution_count": 13,
   "metadata": {
    "collapsed": false
   },
   "outputs": [
    {
     "data": {
      "text/html": [
       "<div>\n",
       "<table border=\"1\" class=\"dataframe\">\n",
       "  <thead>\n",
       "    <tr>\n",
       "      <th></th>\n",
       "      <th colspan=\"10\" halign=\"left\">0.0</th>\n",
       "      <th>...</th>\n",
       "      <th colspan=\"10\" halign=\"left\">16.0</th>\n",
       "    </tr>\n",
       "    <tr>\n",
       "      <th></th>\n",
       "      <th colspan=\"10\" halign=\"left\">0.0</th>\n",
       "      <th>...</th>\n",
       "      <th colspan=\"10\" halign=\"left\">16.0</th>\n",
       "    </tr>\n",
       "    <tr>\n",
       "      <th></th>\n",
       "      <th>0</th>\n",
       "      <th>1</th>\n",
       "      <th>2</th>\n",
       "      <th>3</th>\n",
       "      <th>4</th>\n",
       "      <th>5</th>\n",
       "      <th>6</th>\n",
       "      <th>7</th>\n",
       "      <th>8</th>\n",
       "      <th>9</th>\n",
       "      <th>...</th>\n",
       "      <th>0</th>\n",
       "      <th>1</th>\n",
       "      <th>2</th>\n",
       "      <th>3</th>\n",
       "      <th>4</th>\n",
       "      <th>5</th>\n",
       "      <th>6</th>\n",
       "      <th>7</th>\n",
       "      <th>8</th>\n",
       "      <th>9</th>\n",
       "    </tr>\n",
       "  </thead>\n",
       "  <tbody>\n",
       "    <tr>\n",
       "      <th>count</th>\n",
       "      <td>3.500000e+05</td>\n",
       "      <td>3.500000e+05</td>\n",
       "      <td>3.500000e+05</td>\n",
       "      <td>3.500000e+05</td>\n",
       "      <td>3.500000e+05</td>\n",
       "      <td>3.500000e+05</td>\n",
       "      <td>3.500000e+05</td>\n",
       "      <td>3.500000e+05</td>\n",
       "      <td>3.500000e+05</td>\n",
       "      <td>3.500000e+05</td>\n",
       "      <td>...</td>\n",
       "      <td>3.500000e+05</td>\n",
       "      <td>3.500000e+05</td>\n",
       "      <td>3.500000e+05</td>\n",
       "      <td>3.500000e+05</td>\n",
       "      <td>3.500000e+05</td>\n",
       "      <td>3.500000e+05</td>\n",
       "      <td>350000.000000</td>\n",
       "      <td>350000.000000</td>\n",
       "      <td>350000.000000</td>\n",
       "      <td>350000.000000</td>\n",
       "    </tr>\n",
       "    <tr>\n",
       "      <th>mean</th>\n",
       "      <td>1.500000e-02</td>\n",
       "      <td>1.500000e-02</td>\n",
       "      <td>1.500000e-02</td>\n",
       "      <td>1.500000e-02</td>\n",
       "      <td>1.500000e-02</td>\n",
       "      <td>1.500000e-02</td>\n",
       "      <td>1.500000e-02</td>\n",
       "      <td>1.500000e-02</td>\n",
       "      <td>1.500000e-02</td>\n",
       "      <td>1.500000e-02</td>\n",
       "      <td>...</td>\n",
       "      <td>1.500000e-02</td>\n",
       "      <td>9.368580e-06</td>\n",
       "      <td>9.379265e-06</td>\n",
       "      <td>9.389970e-06</td>\n",
       "      <td>9.400695e-06</td>\n",
       "      <td>9.411441e-06</td>\n",
       "      <td>0.000009</td>\n",
       "      <td>0.000009</td>\n",
       "      <td>0.000009</td>\n",
       "      <td>0.000009</td>\n",
       "    </tr>\n",
       "    <tr>\n",
       "      <th>std</th>\n",
       "      <td>1.040836e-17</td>\n",
       "      <td>1.040836e-17</td>\n",
       "      <td>1.040836e-17</td>\n",
       "      <td>1.040836e-17</td>\n",
       "      <td>1.040836e-17</td>\n",
       "      <td>1.040836e-17</td>\n",
       "      <td>1.040836e-17</td>\n",
       "      <td>1.040836e-17</td>\n",
       "      <td>1.040836e-17</td>\n",
       "      <td>1.040836e-17</td>\n",
       "      <td>...</td>\n",
       "      <td>1.040836e-17</td>\n",
       "      <td>9.947356e-07</td>\n",
       "      <td>9.958734e-07</td>\n",
       "      <td>9.970136e-07</td>\n",
       "      <td>9.981562e-07</td>\n",
       "      <td>9.993011e-07</td>\n",
       "      <td>0.000001</td>\n",
       "      <td>0.000001</td>\n",
       "      <td>0.000001</td>\n",
       "      <td>0.000001</td>\n",
       "    </tr>\n",
       "    <tr>\n",
       "      <th>min</th>\n",
       "      <td>1.500000e-02</td>\n",
       "      <td>1.500000e-02</td>\n",
       "      <td>1.500000e-02</td>\n",
       "      <td>1.500000e-02</td>\n",
       "      <td>1.500000e-02</td>\n",
       "      <td>1.500000e-02</td>\n",
       "      <td>1.500000e-02</td>\n",
       "      <td>1.500000e-02</td>\n",
       "      <td>1.500000e-02</td>\n",
       "      <td>1.500000e-02</td>\n",
       "      <td>...</td>\n",
       "      <td>1.500000e-02</td>\n",
       "      <td>5.697127e-06</td>\n",
       "      <td>5.703477e-06</td>\n",
       "      <td>5.709838e-06</td>\n",
       "      <td>5.716211e-06</td>\n",
       "      <td>5.722596e-06</td>\n",
       "      <td>0.000006</td>\n",
       "      <td>0.000006</td>\n",
       "      <td>0.000006</td>\n",
       "      <td>0.000006</td>\n",
       "    </tr>\n",
       "    <tr>\n",
       "      <th>25%</th>\n",
       "      <td>1.500000e-02</td>\n",
       "      <td>1.500000e-02</td>\n",
       "      <td>1.500000e-02</td>\n",
       "      <td>1.500000e-02</td>\n",
       "      <td>1.500000e-02</td>\n",
       "      <td>1.500000e-02</td>\n",
       "      <td>1.500000e-02</td>\n",
       "      <td>1.500000e-02</td>\n",
       "      <td>1.500000e-02</td>\n",
       "      <td>1.500000e-02</td>\n",
       "      <td>...</td>\n",
       "      <td>1.500000e-02</td>\n",
       "      <td>8.676022e-06</td>\n",
       "      <td>8.686054e-06</td>\n",
       "      <td>8.695868e-06</td>\n",
       "      <td>8.705687e-06</td>\n",
       "      <td>8.715677e-06</td>\n",
       "      <td>0.000009</td>\n",
       "      <td>0.000009</td>\n",
       "      <td>0.000009</td>\n",
       "      <td>0.000009</td>\n",
       "    </tr>\n",
       "    <tr>\n",
       "      <th>50%</th>\n",
       "      <td>1.500000e-02</td>\n",
       "      <td>1.500000e-02</td>\n",
       "      <td>1.500000e-02</td>\n",
       "      <td>1.500000e-02</td>\n",
       "      <td>1.500000e-02</td>\n",
       "      <td>1.500000e-02</td>\n",
       "      <td>1.500000e-02</td>\n",
       "      <td>1.500000e-02</td>\n",
       "      <td>1.500000e-02</td>\n",
       "      <td>1.500000e-02</td>\n",
       "      <td>...</td>\n",
       "      <td>1.500000e-02</td>\n",
       "      <td>9.335760e-06</td>\n",
       "      <td>9.346424e-06</td>\n",
       "      <td>9.357109e-06</td>\n",
       "      <td>9.367813e-06</td>\n",
       "      <td>9.378516e-06</td>\n",
       "      <td>0.000009</td>\n",
       "      <td>0.000009</td>\n",
       "      <td>0.000009</td>\n",
       "      <td>0.000009</td>\n",
       "    </tr>\n",
       "    <tr>\n",
       "      <th>75%</th>\n",
       "      <td>1.500000e-02</td>\n",
       "      <td>1.500000e-02</td>\n",
       "      <td>1.500000e-02</td>\n",
       "      <td>1.500000e-02</td>\n",
       "      <td>1.500000e-02</td>\n",
       "      <td>1.500000e-02</td>\n",
       "      <td>1.500000e-02</td>\n",
       "      <td>1.500000e-02</td>\n",
       "      <td>1.500000e-02</td>\n",
       "      <td>1.500000e-02</td>\n",
       "      <td>...</td>\n",
       "      <td>1.500000e-02</td>\n",
       "      <td>1.002661e-05</td>\n",
       "      <td>1.003797e-05</td>\n",
       "      <td>1.004932e-05</td>\n",
       "      <td>1.006042e-05</td>\n",
       "      <td>1.007207e-05</td>\n",
       "      <td>0.000010</td>\n",
       "      <td>0.000010</td>\n",
       "      <td>0.000010</td>\n",
       "      <td>0.000010</td>\n",
       "    </tr>\n",
       "    <tr>\n",
       "      <th>max</th>\n",
       "      <td>1.500000e-02</td>\n",
       "      <td>1.500000e-02</td>\n",
       "      <td>1.500000e-02</td>\n",
       "      <td>1.500000e-02</td>\n",
       "      <td>1.500000e-02</td>\n",
       "      <td>1.500000e-02</td>\n",
       "      <td>1.500000e-02</td>\n",
       "      <td>1.500000e-02</td>\n",
       "      <td>1.500000e-02</td>\n",
       "      <td>1.500000e-02</td>\n",
       "      <td>...</td>\n",
       "      <td>1.500000e-02</td>\n",
       "      <td>1.513414e-05</td>\n",
       "      <td>1.515151e-05</td>\n",
       "      <td>1.516892e-05</td>\n",
       "      <td>1.518636e-05</td>\n",
       "      <td>1.520383e-05</td>\n",
       "      <td>0.000015</td>\n",
       "      <td>0.000015</td>\n",
       "      <td>0.000015</td>\n",
       "      <td>0.000015</td>\n",
       "    </tr>\n",
       "  </tbody>\n",
       "</table>\n",
       "<p>8 rows × 490 columns</p>\n",
       "</div>"
      ],
      "text/plain": [
       "               0.0                                                           \\\n",
       "               0.0                                                            \n",
       "                  0             1             2             3             4   \n",
       "count  3.500000e+05  3.500000e+05  3.500000e+05  3.500000e+05  3.500000e+05   \n",
       "mean   1.500000e-02  1.500000e-02  1.500000e-02  1.500000e-02  1.500000e-02   \n",
       "std    1.040836e-17  1.040836e-17  1.040836e-17  1.040836e-17  1.040836e-17   \n",
       "min    1.500000e-02  1.500000e-02  1.500000e-02  1.500000e-02  1.500000e-02   \n",
       "25%    1.500000e-02  1.500000e-02  1.500000e-02  1.500000e-02  1.500000e-02   \n",
       "50%    1.500000e-02  1.500000e-02  1.500000e-02  1.500000e-02  1.500000e-02   \n",
       "75%    1.500000e-02  1.500000e-02  1.500000e-02  1.500000e-02  1.500000e-02   \n",
       "max    1.500000e-02  1.500000e-02  1.500000e-02  1.500000e-02  1.500000e-02   \n",
       "\n",
       "                                                                             \\\n",
       "                                                                              \n",
       "                  5             6             7             8             9   \n",
       "count  3.500000e+05  3.500000e+05  3.500000e+05  3.500000e+05  3.500000e+05   \n",
       "mean   1.500000e-02  1.500000e-02  1.500000e-02  1.500000e-02  1.500000e-02   \n",
       "std    1.040836e-17  1.040836e-17  1.040836e-17  1.040836e-17  1.040836e-17   \n",
       "min    1.500000e-02  1.500000e-02  1.500000e-02  1.500000e-02  1.500000e-02   \n",
       "25%    1.500000e-02  1.500000e-02  1.500000e-02  1.500000e-02  1.500000e-02   \n",
       "50%    1.500000e-02  1.500000e-02  1.500000e-02  1.500000e-02  1.500000e-02   \n",
       "75%    1.500000e-02  1.500000e-02  1.500000e-02  1.500000e-02  1.500000e-02   \n",
       "max    1.500000e-02  1.500000e-02  1.500000e-02  1.500000e-02  1.500000e-02   \n",
       "\n",
       "           ...                16.0                                            \\\n",
       "           ...                16.0                                             \n",
       "           ...                   0             1             2             3   \n",
       "count      ...        3.500000e+05  3.500000e+05  3.500000e+05  3.500000e+05   \n",
       "mean       ...        1.500000e-02  9.368580e-06  9.379265e-06  9.389970e-06   \n",
       "std        ...        1.040836e-17  9.947356e-07  9.958734e-07  9.970136e-07   \n",
       "min        ...        1.500000e-02  5.697127e-06  5.703477e-06  5.709838e-06   \n",
       "25%        ...        1.500000e-02  8.676022e-06  8.686054e-06  8.695868e-06   \n",
       "50%        ...        1.500000e-02  9.335760e-06  9.346424e-06  9.357109e-06   \n",
       "75%        ...        1.500000e-02  1.002661e-05  1.003797e-05  1.004932e-05   \n",
       "max        ...        1.500000e-02  1.513414e-05  1.515151e-05  1.516892e-05   \n",
       "\n",
       "                                                                 \\\n",
       "                                                                  \n",
       "                  4             5              6              7   \n",
       "count  3.500000e+05  3.500000e+05  350000.000000  350000.000000   \n",
       "mean   9.400695e-06  9.411441e-06       0.000009       0.000009   \n",
       "std    9.981562e-07  9.993011e-07       0.000001       0.000001   \n",
       "min    5.716211e-06  5.722596e-06       0.000006       0.000006   \n",
       "25%    8.705687e-06  8.715677e-06       0.000009       0.000009   \n",
       "50%    9.367813e-06  9.378516e-06       0.000009       0.000009   \n",
       "75%    1.006042e-05  1.007207e-05       0.000010       0.000010   \n",
       "max    1.518636e-05  1.520383e-05       0.000015       0.000015   \n",
       "\n",
       "                                     \n",
       "                                     \n",
       "                   8              9  \n",
       "count  350000.000000  350000.000000  \n",
       "mean        0.000009       0.000009  \n",
       "std         0.000001       0.000001  \n",
       "min         0.000006       0.000006  \n",
       "25%         0.000009       0.000009  \n",
       "50%         0.000009       0.000009  \n",
       "75%         0.000010       0.000010  \n",
       "max         0.000015       0.000015  \n",
       "\n",
       "[8 rows x 490 columns]"
      ]
     },
     "execution_count": 13,
     "metadata": {},
     "output_type": "execute_result"
    }
   ],
   "source": [
    "simulations_des_stats['s0']"
   ]
  },
  {
   "cell_type": "code",
   "execution_count": 14,
   "metadata": {
    "collapsed": false
   },
   "outputs": [
    {
     "name": "stdout",
     "output_type": "stream",
     "text": [
      "For species:  COX2(allo=None, cat=None)  maximum standard deviation =  0.000286787539554  uM at  1.0  uM AA  0.0  uM 2-AG and  1  seconds.\n",
      "For species:  AG(b=None)  maximum standard deviation =  0.00239008131215  uM at  0.5  uM AA  8.0  uM 2-AG and  9  seconds.\n",
      "For species:  AA(b=None)  maximum standard deviation =  0.0152699556998  uM at  16.0  uM AA  0.0  uM 2-AG and  9  seconds.\n",
      "For species:  PG()  maximum standard deviation =  0.0153252938386  uM at  16.0  uM AA  0.0  uM 2-AG and  9  seconds.\n",
      "For species:  PGG()  maximum standard deviation =  0.00239324448694  uM at  0.5  uM AA  8.0  uM 2-AG and  9  seconds.\n",
      "For species:  AA(b=1) % COX2(allo=None, cat=1)  maximum standard deviation =  0.000659138479866  uM at  4.0  uM AA  0.0  uM 2-AG and  9  seconds.\n",
      "For species:  AG(b=1) % COX2(allo=None, cat=1)  maximum standard deviation =  0.000281179066215  uM at  0.5  uM AA  8.0  uM 2-AG and  8  seconds.\n",
      "For species:  AA(b=1) % COX2(allo=1, cat=None)  maximum standard deviation =  0.000269295376762  uM at  1.0  uM AA  0.0  uM 2-AG and  1  seconds.\n",
      "For species:  AG(b=1) % COX2(allo=1, cat=None)  maximum standard deviation =  0.000215298536508  uM at  0.0  uM AA  8.0  uM 2-AG and  9  seconds.\n",
      "For species:  AA(b=1) % AG(b=2) % COX2(allo=2, cat=1)  maximum standard deviation =  0.00320016398454  uM at  8.0  uM AA  16.0  uM 2-AG and  9  seconds.\n",
      "For species:  AA(b=1) % AA(b=2) % COX2(allo=1, cat=2)  maximum standard deviation =  0.000854778567146  uM at  2.0  uM AA  0.0  uM 2-AG and  1  seconds.\n",
      "For species:  AG(b=1) % AG(b=2) % COX2(allo=1, cat=2)  maximum standard deviation =  6.86553719885e-05  uM at  0.5  uM AA  16.0  uM 2-AG and  2  seconds.\n",
      "For species:  AA(b=1) % AG(b=2) % COX2(allo=1, cat=2)  maximum standard deviation =  0.0032103250218  uM at  8.0  uM AA  16.0  uM 2-AG and  9  seconds.\n"
     ]
    }
   ],
   "source": [
    "for sidx, species in enumerate(model.species):\n",
    "    max_std = simulations_des_stats['s'+str(sidx)].loc['std'].max()\n",
    "    max_idx = simulations_des_stats['s'+str(sidx)].loc['std'].idxmax()\n",
    "    print 'For species: ',str(species),' maximum standard deviation = ',max_std,' uM at ',max_idx[0],' uM AA ',max_idx[1],' uM 2-AG and ',max_idx[2],' seconds.'"
   ]
  },
  {
   "cell_type": "code",
   "execution_count": 15,
   "metadata": {
    "collapsed": false
   },
   "outputs": [
    {
     "name": "stdout",
     "output_type": "stream",
     "text": [
      "For species:  COX2(allo=None, cat=None)  maximum range =  0.00296666419889  uM at  1.0  uM AA  0.0  uM 2-AG and  9  seconds.\n",
      "For species:  AG(b=None)  maximum range =  0.032772300513  uM at  0.0  uM AA  8.0  uM 2-AG and  9  seconds.\n",
      "For species:  AA(b=None)  maximum range =  0.137828326006  uM at  16.0  uM AA  0.0  uM 2-AG and  9  seconds.\n",
      "For species:  PG()  maximum range =  0.138273247366  uM at  16.0  uM AA  0.0  uM 2-AG and  9  seconds.\n",
      "For species:  PGG()  maximum range =  0.0327026621652  uM at  0.0  uM AA  8.0  uM 2-AG and  9  seconds.\n",
      "For species:  AA(b=1) % COX2(allo=None, cat=1)  maximum range =  0.00586981779045  uM at  4.0  uM AA  0.0  uM 2-AG and  9  seconds.\n",
      "For species:  AG(b=1) % COX2(allo=None, cat=1)  maximum range =  0.00272672537976  uM at  0.0  uM AA  8.0  uM 2-AG and  9  seconds.\n",
      "For species:  AA(b=1) % COX2(allo=1, cat=None)  maximum range =  0.00378503647367  uM at  2.0  uM AA  0.0  uM 2-AG and  9  seconds.\n",
      "For species:  AG(b=1) % COX2(allo=1, cat=None)  maximum range =  0.00332646971051  uM at  0.0  uM AA  8.0  uM 2-AG and  9  seconds.\n",
      "For species:  AA(b=1) % AG(b=2) % COX2(allo=2, cat=1)  maximum range =  0.0131109339057  uM at  8.0  uM AA  16.0  uM 2-AG and  9  seconds.\n",
      "For species:  AA(b=1) % AA(b=2) % COX2(allo=1, cat=2)  maximum range =  0.00736190937928  uM at  2.0  uM AA  0.0  uM 2-AG and  1  seconds.\n",
      "For species:  AG(b=1) % AG(b=2) % COX2(allo=1, cat=2)  maximum range =  0.000617352594544  uM at  0.0  uM AA  16.0  uM 2-AG and  1  seconds.\n",
      "For species:  AA(b=1) % AG(b=2) % COX2(allo=1, cat=2)  maximum range =  0.0132553857075  uM at  8.0  uM AA  16.0  uM 2-AG and  9  seconds.\n"
     ]
    }
   ],
   "source": [
    "for sidx, species in enumerate(model.species):\n",
    "    max_vals = simulations_des_stats['s'+str(sidx)].loc['max']\n",
    "    min_vals = simulations_des_stats['s'+str(sidx)].loc['min']\n",
    "    range_vals = np.abs(max_vals - min_vals)\n",
    "    max_range = range_vals.max()\n",
    "    max_idx = range_vals.idxmax()\n",
    "    print 'For species: ',str(species),' maximum range = ',max_range,' uM at ',max_idx[0],' uM AA ',max_idx[1],' uM 2-AG and ',max_idx[2],' seconds.'"
   ]
  },
  {
   "cell_type": "code",
   "execution_count": 16,
   "metadata": {
    "collapsed": false
   },
   "outputs": [],
   "source": [
    "for sidx in range(len(model.species)):\n",
    "    simulation_store['/analysis_results/descriptive_stats/s'+str(sidx)] = simulations_des_stats['s'+str(sidx)]"
   ]
  },
  {
   "cell_type": "code",
   "execution_count": 18,
   "metadata": {
    "collapsed": false
   },
   "outputs": [],
   "source": [
    "simulation_store.close()"
   ]
  },
  {
   "cell_type": "code",
   "execution_count": 19,
   "metadata": {
    "collapsed": true
   },
   "outputs": [],
   "source": [
    "del simulations_des_stats\n",
    "del simulations_dfs"
   ]
  },
  {
   "cell_type": "code",
   "execution_count": 6,
   "metadata": {
    "collapsed": false
   },
   "outputs": [],
   "source": [
    "correlation_index = pd.MultiIndex.from_product([simulation_store['unique_simulations_s0'].index, simulation_store['unique_simulations_s0'].columns.levels[0], simulation_store['unique_simulations_s0'].columns.levels[1]])\n",
    "correlation_col_index = pd.MultiIndex.from_product([simulation_store['unique_simulations_s0'].columns.levels[0], simulation_store['unique_simulations_s0'].columns.levels[1]])"
   ]
  },
  {
   "cell_type": "code",
   "execution_count": 7,
   "metadata": {
    "collapsed": false
   },
   "outputs": [],
   "source": [
    "correlations_df = pd.DataFrame(index=correlation_index, columns=correlation_col_index)"
   ]
  },
  {
   "cell_type": "code",
   "execution_count": null,
   "metadata": {
    "collapsed": false
   },
   "outputs": [],
   "source": [
    "n = 0\n",
    "for species in range(len(model.species)):\n",
    "    for sample in correlations_df.index.levels[0]:\n",
    "        corr_df = simulation_store['unique_simulations_s'+str(species)].stack().loc[sample].corr()\n",
    "        n += 1\n",
    "        if n % 10000 == 0:\n",
    "            print 'Finished ',n,' of parameter vectors for species number: ',species,'.'\n",
    "        for aa in correlations_df.index.levels[1]:\n",
    "            for ag in correlations_df.index.levels[2]:\n",
    "                correlations_df.loc[(sample, aa, ag)] = corr_df.loc[(aa, ag)]\n",
    "    simulation_store['/analysis_results/correlations/within_species/s'+str(species)] = correlations_df\n",
    "    n = 0"
   ]
  }
 ],
 "metadata": {
  "kernelspec": {
   "display_name": "Python 2",
   "language": "python",
   "name": "python2"
  },
  "language_info": {
   "codemirror_mode": {
    "name": "ipython",
    "version": 2
   },
   "file_extension": ".py",
   "mimetype": "text/x-python",
   "name": "python",
   "nbconvert_exporter": "python",
   "pygments_lexer": "ipython2",
   "version": "2.7.11"
  }
 },
 "nbformat": 4,
 "nbformat_minor": 0
}
