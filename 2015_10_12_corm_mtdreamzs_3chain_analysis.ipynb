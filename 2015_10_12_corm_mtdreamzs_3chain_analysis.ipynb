{
 "cells": [
  {
   "cell_type": "code",
   "execution_count": 1,
   "metadata": {
    "collapsed": false
   },
   "outputs": [
    {
     "name": "stdout",
     "output_type": "stream",
     "text": [
      "Warning: statsmodels and/or patsy not found, not importing glm submodule.\n"
     ]
    },
    {
     "name": "stderr",
     "output_type": "stream",
     "text": [
      "/Library/Python/2.7/site-packages/IPython/html.py:14: ShimWarning: The `IPython.html` package has been deprecated. You should import from `notebook` instead. `IPython.html.widgets` has moved to `ipywidgets`.\n",
      "  \"`IPython.html.widgets` has moved to `ipywidgets`.\", ShimWarning)\n",
      "/Library/Python/2.7/site-packages/IPython/utils/traitlets.py:5: UserWarning: IPython.utils.traitlets has moved to a top-level traitlets package.\n",
      "  warn(\"IPython.utils.traitlets has moved to a top-level traitlets package.\")\n"
     ]
    }
   ],
   "source": [
    "import pickle\n",
    "from helper_fxns import convert_param_vec_dict_to_param_dict, gelman_rubin_trace_dict, print_convergence_summary, sample_plots, create_trace_matrix, plot_histograms\n",
    "from corm import model\n",
    "%matplotlib inline\n",
    "import os\n",
    "import numpy as np"
   ]
  },
  {
   "cell_type": "code",
   "execution_count": 2,
   "metadata": {
    "collapsed": true
   },
   "outputs": [],
   "source": [
    "os.chdir('/Users/Erin/data_for_paper_attempt2/')"
   ]
  },
  {
   "cell_type": "code",
   "execution_count": 3,
   "metadata": {
    "collapsed": true
   },
   "outputs": [],
   "source": [
    "trace_a = pickle.load(open('CORM_mtdreamzs_3chain_a.p'))\n",
    "trace_b = pickle.load(open('CORM_mtdreamzs_3chain_b.p'))\n",
    "trace_c = pickle.load(open('CORM_mtdreamzs_3chain_c.p'))\n",
    "trace_d = pickle.load(open('CORM_mtdreamzs_3chain_d.p'))"
   ]
  },
  {
   "cell_type": "code",
   "execution_count": 4,
   "metadata": {
    "collapsed": true
   },
   "outputs": [],
   "source": [
    "os.chdir('/Users/Erin/git/ParticleSwarmOptimization/')"
   ]
  },
  {
   "cell_type": "code",
   "execution_count": 5,
   "metadata": {
    "collapsed": true
   },
   "outputs": [],
   "source": [
    "from example_corm_allparams import post_logp"
   ]
  },
  {
   "cell_type": "code",
   "execution_count": 6,
   "metadata": {
    "collapsed": false
   },
   "outputs": [
    {
     "name": "stdout",
     "output_type": "stream",
     "text": [
      "like data:  (138.70973154367184, 213.31057736628452)  like box1:  -3.22152383196  like box2:  -3.22152380895  like box3:  -3.22152368225  like box4:  -3.22152392989  prior:  -49.3751282799  post:  289.759085377\n",
      "like data:  (135.65944284881061, 212.99033495589549)  like box1:  -3.22152458444  like box2:  -3.22152372003  like box3:  -3.22152363991  like box4:  -3.22152363589  prior:  -71.2276260266  post:  264.536056198\n",
      "like data:  (138.54590397287961, 207.70124925637452)  like box1:  -3.22152367917  like box2:  -3.22152411111  like box3:  -3.22152403794  like box4:  -3.22152458038  prior:  -72.7669781876  post:  260.594078633\n",
      "like data:  (138.30858396231275, 215.07162597575075)  like box1:  -3.22152426497  like box2:  -3.2215236557  like box3:  -3.2215236802  like box4:  -3.22152459654  prior:  -57.1420977016  post:  283.352016039\n",
      "like data:  (137.79061872121844, 211.37200201068597)  like box1:  -3.22152363073  like box2:  -3.22152373382  like box3:  -3.22152378074  like box4:  -3.22152365386  prior:  -35.8337130886  post:  300.442812844\n",
      "like data:  (138.37303969510242, 212.22646873875263)  like box1:  -3.22152406453  like box2:  -3.22152369277  like box3:  -3.22152368683  like box4:  -3.22152387932  prior:  -50.2174267675  post:  287.495986343\n",
      "like data:  (134.82800078379367, 213.45806427696189)  like box1:  -3.22152371632  like box2:  -3.2215237326  like box3:  -3.2215240315  like box4:  -3.22152578614  prior:  -53.6605725051  post:  281.739395289\n",
      "like data:  (136.2104319082583, 211.43598481769646)  like box1:  -3.22152383464  like box2:  -3.22152362943  like box3:  -3.22152389407  like box4:  -3.22152365368  prior:  -48.1141293201  post:  286.646192394\n",
      "like data:  (138.20726969187035, 211.93835850944342)  like box1:  -3.22152369165  like box2:  -3.2215245612  like box3:  -3.22152362748  like box4:  -3.22152831388  prior:  -70.9578530838  post:  266.301674923\n",
      "like data:  (136.76529044169578, 211.05998804092619)  like box1:  -3.22152362622  like box2:  -3.22152364682  like box3:  -3.22152393697  like box4:  -3.22152399867  prior:  -73.0743198437  post:  261.86486343\n",
      "like data:  (137.72328057321147, 208.40139487522086)  like box1:  -3.22152364009  like box2:  -3.22152393073  like box3:  -3.22152372858  like box4:  -3.22152408257  prior:  -66.6511730736  post:  266.587406993\n",
      "like data:  (137.65793363261437, 207.70889434784726)  like box1:  -3.22152427033  like box2:  -3.22152377235  like box3:  -3.22152402301  like box4:  -3.22152362647  prior:  -66.1808201363  post:  266.299912152\n"
     ]
    }
   ],
   "source": [
    "param_list = ['KD_AA_cat1', 'kcat_AA1', 'KD_AA_cat2', 'kcat_AA2', 'KD_AA_cat3', 'kcat_AA3', 'KD_AG_cat1', 'kcat_AG1', 'KD_AG_cat2', 'KD_AG_cat3', 'kcat_AG3', 'KD_AA_allo1', 'KD_AA_allo2', 'KD_AA_allo3', 'KD_AG_allo1', 'KD_AG_allo2', 'KD_AG_allo3']\n",
    "for trace in [trace_a, trace_b, trace_c, trace_d]:\n",
    "    for chain in range(len(trace_a['kcat_AA1'])):\n",
    "        theta = np.zeros((len(trace_a.keys())))\n",
    "        for i,key in enumerate(param_list):\n",
    "            theta[i] = trace[key][chain][-1]\n",
    "        post_logp(theta)"
   ]
  },
  {
   "cell_type": "code",
   "execution_count": 11,
   "metadata": {
    "collapsed": false
   },
   "outputs": [
    {
     "name": "stdout",
     "output_type": "stream",
     "text": [
      "Number of parameters with GR below 1.2:  17  of  17  parameters.\n",
      "Percent of parameters with GR below 1.2:  100.0\n",
      "Number of parameters with GR below 1.1:  17  of  17  parameters.\n",
      "Percent of parameters with GR below 1.1:  100.0\n"
     ]
    },
    {
     "data": {
      "text/plain": [
       "[17, 100.0, 17, 100.0]"
      ]
     },
     "execution_count": 11,
     "metadata": {},
     "output_type": "execute_result"
    }
   ],
   "source": [
    "print_convergence_summary(trace_d)"
   ]
  }
 ],
 "metadata": {
  "kernelspec": {
   "display_name": "Python 2",
   "language": "python",
   "name": "python2"
  },
  "language_info": {
   "codemirror_mode": {
    "name": "ipython",
    "version": 2
   },
   "file_extension": ".py",
   "mimetype": "text/x-python",
   "name": "python",
   "nbconvert_exporter": "python",
   "pygments_lexer": "ipython2",
   "version": "2.7.10"
  }
 },
 "nbformat": 4,
 "nbformat_minor": 0
}
