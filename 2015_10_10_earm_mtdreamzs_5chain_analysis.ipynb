{
 "cells": [
  {
   "cell_type": "code",
   "execution_count": 1,
   "metadata": {
    "collapsed": false
   },
   "outputs": [
    {
     "name": "stdout",
     "output_type": "stream",
     "text": [
      "Warning: statsmodels and/or patsy not found, not importing glm submodule.\n"
     ]
    },
    {
     "name": "stderr",
     "output_type": "stream",
     "text": [
      "/Library/Python/2.7/site-packages/IPython/html.py:14: ShimWarning: The `IPython.html` package has been deprecated. You should import from `notebook` instead. `IPython.html.widgets` has moved to `ipywidgets`.\n",
      "  \"`IPython.html.widgets` has moved to `ipywidgets`.\", ShimWarning)\n",
      "/Library/Python/2.7/site-packages/IPython/utils/traitlets.py:5: UserWarning: IPython.utils.traitlets has moved to a top-level traitlets package.\n",
      "  warn(\"IPython.utils.traitlets has moved to a top-level traitlets package.\")\n"
     ]
    }
   ],
   "source": [
    "import pickle\n",
    "from helper_fxns import convert_param_vec_dict_to_param_dict, gelman_rubin_trace_dict, print_convergence_summary, sample_plots, create_trace_matrix, plot_histograms\n",
    "from earm.lopez_embedded import model\n",
    "%matplotlib inline\n",
    "import os\n",
    "import numpy as np"
   ]
  },
  {
   "cell_type": "code",
   "execution_count": 2,
   "metadata": {
    "collapsed": true
   },
   "outputs": [],
   "source": [
    "os.chdir('/Users/Erin/data_for_paper_attempt2/')"
   ]
  },
  {
   "cell_type": "code",
   "execution_count": 3,
   "metadata": {
    "collapsed": true
   },
   "outputs": [],
   "source": [
    "trace_a = pickle.load(open('earm_mtdreamzs_5chain_a.p'))\n",
    "trace_b = pickle.load(open('earm_mtdreamzs_5chain_b.p'))\n",
    "trace_c = pickle.load(open('earm_mtdreamzs_5chain_c.p'))\n",
    "trace_d = pickle.load(open('earm_mtdreamzs_5chain_d.p'))"
   ]
  },
  {
   "cell_type": "code",
   "execution_count": 4,
   "metadata": {
    "collapsed": true
   },
   "outputs": [],
   "source": [
    "trace_a_error = {}\n",
    "trace_b_error = {}\n",
    "trace_c_error = {}\n",
    "trace_d_error = {}\n",
    "for key in ['momp', 'icrp', 'ecrp']:\n",
    "    trace_a_error[key] = trace_a[key]\n",
    "    trace_b_error[key] = trace_b[key]\n",
    "    trace_c_error[key] = trace_c[key]\n",
    "    trace_d_error[key] = trace_d[key]"
   ]
  },
  {
   "cell_type": "code",
   "execution_count": 5,
   "metadata": {
    "collapsed": false
   },
   "outputs": [],
   "source": [
    "for key in ['momp', 'icrp', 'ecrp']:\n",
    "    del trace_a[key]\n",
    "    del trace_b[key]\n",
    "    del trace_c[key]\n",
    "    del trace_d[key]"
   ]
  },
  {
   "cell_type": "code",
   "execution_count": 6,
   "metadata": {
    "collapsed": true
   },
   "outputs": [],
   "source": [
    "param_trace_a = convert_param_vec_dict_to_param_dict(trace_a, model.parameters_rules())\n",
    "param_trace_b = convert_param_vec_dict_to_param_dict(trace_b, model.parameters_rules())\n",
    "param_trace_c = convert_param_vec_dict_to_param_dict(trace_c, model.parameters_rules())\n",
    "param_trace_d = convert_param_vec_dict_to_param_dict(trace_d, model.parameters_rules())"
   ]
  },
  {
   "cell_type": "code",
   "execution_count": 7,
   "metadata": {
    "collapsed": true
   },
   "outputs": [],
   "source": [
    "for trace in [param_trace_a, param_trace_b, param_trace_c, param_trace_d]:\n",
    "    del trace['param_list']"
   ]
  },
  {
   "cell_type": "code",
   "execution_count": 8,
   "metadata": {
    "collapsed": false
   },
   "outputs": [],
   "source": [
    "os.chdir('/Users/Erin/git/moo_and_mcmc/emcee/')"
   ]
  },
  {
   "cell_type": "code",
   "execution_count": 23,
   "metadata": {
    "collapsed": true
   },
   "outputs": [],
   "source": [
    "from earm_uniform_emcee import log_post"
   ]
  },
  {
   "cell_type": "code",
   "execution_count": 25,
   "metadata": {
    "collapsed": false
   },
   "outputs": [
    {
     "name": "stdout",
     "output_type": "stream",
     "text": [
      "prior:  -282.479411206  like:  -2309.73885803  post:  -2592.21826924\n",
      "prior:  -282.479411206  like:  -2396.21520223  post:  -2678.69461343\n",
      "prior:  -282.479411206  like:  -2335.32419793  post:  -2617.80360914\n",
      "prior:  -282.479411206  like:  -2526.41824651  post:  -2808.89765772\n",
      "prior:  -282.479411206  like:  -1683.58280264  post:  -1966.06221384\n",
      "prior:  -282.479411206  like:  -2335.0897622  post:  -2617.5691734\n",
      "prior:  -282.479411206  like:  -2305.74476847  post:  -2588.22417968\n",
      "prior:  -282.479411206  like:  -2153.46290385  post:  -2435.94231506\n",
      "prior:  -282.479411206  like:  -2285.39049076  post:  -2567.86990197\n",
      "prior:  -282.479411206  like:  -2365.91366424  post:  -2648.39307545\n",
      "prior:  -282.479411206  like:  -2061.33127839  post:  -2343.81068959\n",
      "prior:  -282.479411206  like:  -2745.4820511  post:  -3027.96146231\n",
      "prior:  -282.479411206  like:  -2024.72225261  post:  -2307.20166381\n",
      "prior:  -282.479411206  like:  -2084.29627072  post:  -2366.77568192\n",
      "prior:  -282.479411206  like:  -2357.62900482  post:  -2640.10841602\n",
      "prior:  -282.479411206  like:  -2333.43722816  post:  -2615.91663937\n",
      "prior:  -282.479411206  like:  -3462.80172826  post:  -3745.28113946\n",
      "prior:  -282.479411206  like:  -2339.56353817  post:  -2622.04294938\n",
      "prior:  -282.479411206  like:  -2334.98727758  post:  -2617.46668879\n",
      "prior:  -282.479411206  like:  -2384.11224043  post:  -2666.59165164\n"
     ]
    }
   ],
   "source": [
    "for trace in [trace_a, trace_b, trace_c, trace_d]:\n",
    "    for chain in range(len(trace_a['params'])):\n",
    "        log_post(trace['params'][chain][-1])"
   ]
  },
  {
   "cell_type": "code",
   "execution_count": 12,
   "metadata": {
    "collapsed": false
   },
   "outputs": [
    {
     "name": "stdout",
     "output_type": "stream",
     "text": [
      "Number of parameters with GR below 1.2:  71  of  105  parameters.\n",
      "Percent of parameters with GR below 1.2:  67.619047619\n",
      "Number of parameters with GR below 1.1:  36  of  105  parameters.\n",
      "Percent of parameters with GR below 1.1:  34.2857142857\n"
     ]
    },
    {
     "data": {
      "text/plain": [
       "[71, 67.61904761904762, 36, 34.285714285714285]"
      ]
     },
     "execution_count": 12,
     "metadata": {},
     "output_type": "execute_result"
    }
   ],
   "source": [
    "print_convergence_summary(param_trace_d)"
   ]
  }
 ],
 "metadata": {
  "kernelspec": {
   "display_name": "Python 2",
   "language": "python",
   "name": "python2"
  },
  "language_info": {
   "codemirror_mode": {
    "name": "ipython",
    "version": 2
   },
   "file_extension": ".py",
   "mimetype": "text/x-python",
   "name": "python",
   "nbconvert_exporter": "python",
   "pygments_lexer": "ipython2",
   "version": "2.7.10"
  }
 },
 "nbformat": 4,
 "nbformat_minor": 0
}
