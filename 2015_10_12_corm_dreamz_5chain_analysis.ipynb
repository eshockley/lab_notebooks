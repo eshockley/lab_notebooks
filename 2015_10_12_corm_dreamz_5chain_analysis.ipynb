{
 "cells": [
  {
   "cell_type": "code",
   "execution_count": 1,
   "metadata": {
    "collapsed": false
   },
   "outputs": [
    {
     "name": "stdout",
     "output_type": "stream",
     "text": [
      "Warning: statsmodels and/or patsy not found, not importing glm submodule.\n"
     ]
    },
    {
     "name": "stderr",
     "output_type": "stream",
     "text": [
      "/Library/Python/2.7/site-packages/IPython/html.py:14: ShimWarning: The `IPython.html` package has been deprecated. You should import from `notebook` instead. `IPython.html.widgets` has moved to `ipywidgets`.\n",
      "  \"`IPython.html.widgets` has moved to `ipywidgets`.\", ShimWarning)\n",
      "/Library/Python/2.7/site-packages/IPython/utils/traitlets.py:5: UserWarning: IPython.utils.traitlets has moved to a top-level traitlets package.\n",
      "  warn(\"IPython.utils.traitlets has moved to a top-level traitlets package.\")\n"
     ]
    }
   ],
   "source": [
    "import pickle\n",
    "from helper_fxns import convert_param_vec_dict_to_param_dict, gelman_rubin_trace_dict, print_convergence_summary, sample_plots, create_trace_matrix, plot_histograms\n",
    "from corm import model\n",
    "%matplotlib inline\n",
    "import os\n",
    "import numpy as np"
   ]
  },
  {
   "cell_type": "code",
   "execution_count": 2,
   "metadata": {
    "collapsed": true
   },
   "outputs": [],
   "source": [
    "os.chdir('/Users/Erin/data_for_paper_attempt2/')"
   ]
  },
  {
   "cell_type": "code",
   "execution_count": 3,
   "metadata": {
    "collapsed": true
   },
   "outputs": [],
   "source": [
    "trace_a = pickle.load(open('CORM_dreamz_5chain_a.p'))\n",
    "trace_b = pickle.load(open('CORM_dreamz_5chain_b.p'))\n",
    "trace_c = pickle.load(open('CORM_dreamz_5chain_c.p'))\n",
    "trace_d = pickle.load(open('CORM_dreamz_5chain_d.p'))"
   ]
  },
  {
   "cell_type": "code",
   "execution_count": 4,
   "metadata": {
    "collapsed": true
   },
   "outputs": [],
   "source": [
    "os.chdir('/Users/Erin/git/ParticleSwarmOptimization/')"
   ]
  },
  {
   "cell_type": "code",
   "execution_count": 5,
   "metadata": {
    "collapsed": true
   },
   "outputs": [],
   "source": [
    "from example_corm_allparams import post_logp"
   ]
  },
  {
   "cell_type": "code",
   "execution_count": 6,
   "metadata": {
    "collapsed": false
   },
   "outputs": [
    {
     "name": "stdout",
     "output_type": "stream",
     "text": [
      "like data:  (136.8823858021068, 212.27701100823285)  like box1:  -3.22152365164  like box2:  -3.22152501388  like box3:  -3.22152367226  like box4:  -3.22152378246  prior:  -94.3560260969  post:  241.917274593\n",
      "like data:  (133.39558374182093, 211.87448335053784)  like box1:  -3.22152398121  like box2:  -3.22152445613  like box3:  -3.22152363243  like box4:  -3.22152379643  prior:  -89.727709282  post:  242.656261944\n",
      "like data:  (133.50158970334346, 215.26026310038114)  like box1:  -3.22152449169  like box2:  -3.22152380674  like box3:  -3.22152448019  like box4:  -3.22152466809  prior:  -84.8564384436  post:  251.019316913\n",
      "like data:  (136.95522947404794, 212.94660463781815)  like box1:  -3.22152490324  like box2:  -3.22152367731  like box3:  -3.22152408054  like box4:  -3.22152404879  prior:  -90.9200713624  post:  246.09566604\n",
      "like data:  (132.91180011874357, 210.64024302750909)  like box1:  -3.22152644405  like box2:  -3.221524321  like box3:  -3.22152447414  like box4:  -3.22152388973  prior:  -87.7515056031  post:  242.914438414\n",
      "like data:  (136.55294602160802, 211.31723722415339)  like box1:  -3.22152404891  like box2:  -3.22152365957  like box3:  -3.22152362707  like box4:  -3.22152463215  prior:  -58.824501074  post:  276.159586204\n",
      "like data:  (137.53220477538409, 212.95017311763129)  like box1:  -3.22152475496  like box2:  -3.22152402483  like box3:  -3.22152382231  like box4:  -3.22152398759  prior:  -58.6225643615  post:  278.973716942\n",
      "like data:  (134.95847826699659, 211.17951621731257)  like box1:  -3.22152727488  like box2:  -3.22152379564  like box3:  -3.22152377133  like box4:  -3.22152425076  prior:  -48.9690409079  post:  284.282854484\n",
      "like data:  (137.66768106403404, 211.30453510305594)  like box1:  -3.22152368468  like box2:  -3.22152391564  like box3:  -3.22152399265  like box4:  -3.22152429665  prior:  -51.2700508141  post:  284.816069463\n",
      "like data:  (137.12247676169278, 210.55583315262882)  like box1:  -3.22152390695  like box2:  -3.22152543817  like box3:  -3.22152627723  like box4:  -3.22152442522  prior:  -53.9820563016  post:  280.810153565\n",
      "like data:  (136.6034727582375, 210.9005515781233)  like box1:  -3.22152371332  like box2:  -3.22152368707  like box3:  -3.22152388979  like box4:  -3.22152397614  prior:  -51.3286584783  post:  283.289270592\n",
      "like data:  (135.25866933619329, 208.03344680416154)  like box1:  -3.2215242472  like box2:  -3.22152443974  like box3:  -3.22152390673  like box4:  -3.22152391193  prior:  -42.5305060232  post:  287.875513612\n",
      "like data:  (137.7701588648045, 210.21987934497582)  like box1:  -3.22152388999  like box2:  -3.22152363845  like box3:  -3.2215240654  like box4:  -3.22152739195  prior:  -50.3539758388  post:  284.749963385\n",
      "like data:  (139.81892981225118, 210.57680033006613)  like box1:  -3.22152363614  like box2:  -3.22152412337  like box3:  -3.22152379424  like box4:  -3.22152418737  prior:  -49.7584382738  post:  287.751196127\n",
      "like data:  (139.84734921210017, 212.99321703541742)  like box1:  -3.22152419639  like box2:  -3.2215243993  like box3:  -3.22152365779  like box4:  -3.22152366979  prior:  -45.0792370599  post:  294.875233264\n",
      "like data:  (139.16531736073011, 206.24771078669349)  like box1:  -3.22152362624  like box2:  -3.22152362698  like box3:  -3.22152368009  like box4:  -3.22152402238  prior:  -46.8743666503  post:  285.652566541\n",
      "like data:  (135.41721927995357, 207.5807556231741)  like box1:  -3.22152370233  like box2:  -3.22152390123  like box3:  -3.22152362748  like box4:  -3.22152476521  prior:  -38.6960378332  post:  291.415841074\n",
      "like data:  (136.50654729564766, 207.67541102639166)  like box1:  -3.22152368994  like box2:  -3.2215238585  like box3:  -3.22152459833  like box4:  -3.22152406613  prior:  -45.7463069588  post:  285.54955515\n",
      "like data:  (135.56295274634763, 208.45797371398561)  like box1:  -3.22152599122  like box2:  -3.22152398427  like box3:  -3.22152403658  like box4:  -3.22152403817  prior:  -47.3107964143  post:  283.824031996\n",
      "like data:  (137.5257571670596, 209.99142684532367)  like box1:  -3.22152587925  like box2:  -3.22152370451  like box3:  -3.22152363129  like box4:  -3.22152441722  prior:  -46.5210009118  post:  288.110085468\n"
     ]
    }
   ],
   "source": [
    "param_list = ['KD_AA_cat1', 'kcat_AA1', 'KD_AA_cat2', 'kcat_AA2', 'KD_AA_cat3', 'kcat_AA3', 'KD_AG_cat1', 'kcat_AG1', 'KD_AG_cat2', 'KD_AG_cat3', 'kcat_AG3', 'KD_AA_allo1', 'KD_AA_allo2', 'KD_AA_allo3', 'KD_AG_allo1', 'KD_AG_allo2', 'KD_AG_allo3']\n",
    "for trace in [trace_a, trace_b, trace_c, trace_d]:\n",
    "    for chain in range(len(trace_a['kcat_AA1'])):\n",
    "        theta = np.zeros((len(trace_a.keys())))\n",
    "        for i,key in enumerate(param_list):\n",
    "            theta[i] = trace[key][chain][-1]\n",
    "        post_logp(theta)"
   ]
  },
  {
   "cell_type": "code",
   "execution_count": 12,
   "metadata": {
    "collapsed": false
   },
   "outputs": [
    {
     "name": "stdout",
     "output_type": "stream",
     "text": [
      "Number of parameters with GR below 1.2:  17  of  17  parameters.\n",
      "Percent of parameters with GR below 1.2:  100.0\n",
      "Number of parameters with GR below 1.1:  14  of  17  parameters.\n",
      "Percent of parameters with GR below 1.1:  82.3529411765\n"
     ]
    },
    {
     "data": {
      "text/plain": [
       "[17, 100.0, 14, 82.35294117647058]"
      ]
     },
     "execution_count": 12,
     "metadata": {},
     "output_type": "execute_result"
    }
   ],
   "source": [
    "print_convergence_summary(trace_d)"
   ]
  }
 ],
 "metadata": {
  "kernelspec": {
   "display_name": "Python 2",
   "language": "python",
   "name": "python2"
  },
  "language_info": {
   "codemirror_mode": {
    "name": "ipython",
    "version": 2
   },
   "file_extension": ".py",
   "mimetype": "text/x-python",
   "name": "python",
   "nbconvert_exporter": "python",
   "pygments_lexer": "ipython2",
   "version": "2.7.10"
  }
 },
 "nbformat": 4,
 "nbformat_minor": 0
}
