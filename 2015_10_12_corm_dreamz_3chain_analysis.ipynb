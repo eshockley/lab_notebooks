{
 "cells": [
  {
   "cell_type": "code",
   "execution_count": 1,
   "metadata": {
    "collapsed": false
   },
   "outputs": [
    {
     "name": "stdout",
     "output_type": "stream",
     "text": [
      "Warning: statsmodels and/or patsy not found, not importing glm submodule.\n"
     ]
    },
    {
     "name": "stderr",
     "output_type": "stream",
     "text": [
      "/Library/Python/2.7/site-packages/IPython/html.py:14: ShimWarning: The `IPython.html` package has been deprecated. You should import from `notebook` instead. `IPython.html.widgets` has moved to `ipywidgets`.\n",
      "  \"`IPython.html.widgets` has moved to `ipywidgets`.\", ShimWarning)\n",
      "/Library/Python/2.7/site-packages/IPython/utils/traitlets.py:5: UserWarning: IPython.utils.traitlets has moved to a top-level traitlets package.\n",
      "  warn(\"IPython.utils.traitlets has moved to a top-level traitlets package.\")\n"
     ]
    }
   ],
   "source": [
    "import pickle\n",
    "from helper_fxns import convert_param_vec_dict_to_param_dict, gelman_rubin_trace_dict, print_convergence_summary, sample_plots, create_trace_matrix, plot_histograms\n",
    "from corm import model\n",
    "%matplotlib inline\n",
    "import os\n",
    "import numpy as np"
   ]
  },
  {
   "cell_type": "code",
   "execution_count": 2,
   "metadata": {
    "collapsed": true
   },
   "outputs": [],
   "source": [
    "os.chdir('/Users/Erin/data_for_paper_attempt2/')"
   ]
  },
  {
   "cell_type": "code",
   "execution_count": 3,
   "metadata": {
    "collapsed": true
   },
   "outputs": [],
   "source": [
    "trace_a = pickle.load(open('CORM_dreamz_3chain_a.p'))\n",
    "trace_b = pickle.load(open('CORM_dreamz_3chain_b.p'))\n",
    "trace_c = pickle.load(open('CORM_dreamz_3chain_c.p'))\n",
    "trace_d = pickle.load(open('CORM_dreamz_3chain_d.p'))"
   ]
  },
  {
   "cell_type": "code",
   "execution_count": 4,
   "metadata": {
    "collapsed": true
   },
   "outputs": [],
   "source": [
    "os.chdir('/Users/Erin/git/ParticleSwarmOptimization/')"
   ]
  },
  {
   "cell_type": "code",
   "execution_count": 5,
   "metadata": {
    "collapsed": true
   },
   "outputs": [],
   "source": [
    "from example_corm_allparams import post_logp"
   ]
  },
  {
   "cell_type": "code",
   "execution_count": 6,
   "metadata": {
    "collapsed": false
   },
   "outputs": [
    {
     "name": "stdout",
     "output_type": "stream",
     "text": [
      "like data:  (137.88419655718627, 212.96647576695591)  like box1:  -3.22152376392  like box2:  -3.22152454028  like box3:  -3.22152415849  like box4:  -3.22152536805  prior:  -56.2600612334  post:  281.70451326\n",
      "like data:  (138.31501907711396, 212.34358181611765)  like box1:  -3.22152362798  like box2:  -3.22152427514  like box3:  -3.22152368486  like box4:  -3.2215253122  prior:  -58.6808756612  post:  279.091628332\n",
      "like data:  (136.68886168327469, 213.39751650114022)  like box1:  -3.2215243088  like box2:  -3.22152386188  like box3:  -3.22152362808  like box4:  -3.22152383249  prior:  -58.4363914534  post:  278.7638911\n",
      "like data:  (113.26904583486827, 102.12407411383732)  like box1:  -3.22152479757  like box2:  -3.22152507302  like box3:  -3.22152482522  like box4:  -3.22152376434  prior:  -116.238897714  post:  86.2681237748\n",
      "like data:  (125.68427944970179, 167.51936423247832)  like box1:  -3.22152369887  like box2:  -3.22152448912  like box3:  -3.22152365113  like box4:  -3.22152366349  prior:  -202.435219804  post:  77.8823283759\n",
      "like data:  (113.97330068400427, 113.42657130142692)  like box1:  -3.22152422545  like box2:  -3.22152446285  like box3:  -3.22152374097  like box4:  -3.22152362639  prior:  -130.488547433  post:  84.0252284967\n",
      "like data:  (98.406270091593541, 110.38416510085143)  like box1:  -3.22152377411  like box2:  -3.22152387012  like box3:  -3.2215236622  like box4:  -3.22152377839  prior:  -144.374619308  post:  51.5297207993\n",
      "like data:  (100.16983213359995, 111.92572134866543)  like box1:  -3.22152398477  like box2:  -3.22152382688  like box3:  -3.22152366822  like box4:  -3.22152429959  prior:  -145.878855942  post:  53.3306017607\n",
      "like data:  (90.045920166151944, 111.05678769859632)  like box1:  -3.22152363678  like box2:  -3.22152368613  like box3:  -3.22152454459  like box4:  -3.22152380972  prior:  -142.654454637  post:  45.5621575507\n",
      "like data:  (130.15061964648871, 195.48919392805911)  like box1:  -3.22152382363  like box2:  -3.22152393532  like box3:  -3.22152368584  like box4:  -3.2215236831  prior:  -53.298713053  post:  259.455005394\n",
      "like data:  (125.73455268698831, 122.83227381359967)  like box1:  -3.22152416794  like box2:  -3.22152364357  like box3:  -3.22152402209  like box4:  -3.22152381952  prior:  -93.0506688222  post:  142.630062025\n",
      "like data:  (98.456614614129904, -304.53019620428267)  like box1:  -3.22152411937  like box2:  -3.22152633929  like box3:  -3.22152364161  like box4:  -3.2215238036  prior:  -236.592203673  post:  -455.551883167\n"
     ]
    }
   ],
   "source": [
    "param_list = ['KD_AA_cat1', 'kcat_AA1', 'KD_AA_cat2', 'kcat_AA2', 'KD_AA_cat3', 'kcat_AA3', 'KD_AG_cat1', 'kcat_AG1', 'KD_AG_cat2', 'KD_AG_cat3', 'kcat_AG3', 'KD_AA_allo1', 'KD_AA_allo2', 'KD_AA_allo3', 'KD_AG_allo1', 'KD_AG_allo2', 'KD_AG_allo3']\n",
    "for trace in [trace_a, trace_b, trace_c, trace_d]:\n",
    "    for chain in range(len(trace_a['kcat_AA1'])):\n",
    "        theta = np.zeros((len(trace_a.keys())))\n",
    "        for i,key in enumerate(param_list):\n",
    "            theta[i] = trace[key][chain][-1]\n",
    "        post_logp(theta)"
   ]
  },
  {
   "cell_type": "code",
   "execution_count": 11,
   "metadata": {
    "collapsed": false
   },
   "outputs": [
    {
     "name": "stdout",
     "output_type": "stream",
     "text": [
      "Number of parameters with GR below 1.2:  17  of  17  parameters.\n",
      "Percent of parameters with GR below 1.2:  100.0\n",
      "Number of parameters with GR below 1.1:  15  of  17  parameters.\n",
      "Percent of parameters with GR below 1.1:  88.2352941176\n"
     ]
    },
    {
     "data": {
      "text/plain": [
       "[17, 100.0, 15, 88.23529411764706]"
      ]
     },
     "execution_count": 11,
     "metadata": {},
     "output_type": "execute_result"
    }
   ],
   "source": [
    "print_convergence_summary(trace_a)"
   ]
  }
 ],
 "metadata": {
  "kernelspec": {
   "display_name": "Python 2",
   "language": "python",
   "name": "python2"
  },
  "language_info": {
   "codemirror_mode": {
    "name": "ipython",
    "version": 2
   },
   "file_extension": ".py",
   "mimetype": "text/x-python",
   "name": "python",
   "nbconvert_exporter": "python",
   "pygments_lexer": "ipython2",
   "version": "2.7.10"
  }
 },
 "nbformat": 4,
 "nbformat_minor": 0
}
