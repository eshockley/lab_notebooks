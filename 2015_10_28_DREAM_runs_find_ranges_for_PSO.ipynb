{
 "cells": [
  {
   "cell_type": "code",
   "execution_count": 4,
   "metadata": {
    "collapsed": true
   },
   "outputs": [],
   "source": [
    "import numpy as np\n",
    "import os\n",
    "import pickle"
   ]
  },
  {
   "cell_type": "code",
   "execution_count": 2,
   "metadata": {
    "collapsed": true
   },
   "outputs": [],
   "source": [
    "os.chdir('/data/lola/shockle/data_for_paper_attempt2/')"
   ]
  },
  {
   "cell_type": "code",
   "execution_count": 5,
   "metadata": {
    "collapsed": true
   },
   "outputs": [],
   "source": [
    "posts = pickle.load(open('earm_runs_posts_all_psostart.p'))"
   ]
  },
  {
   "cell_type": "code",
   "execution_count": 6,
   "metadata": {
    "collapsed": false
   },
   "outputs": [
    {
     "data": {
      "text/plain": [
       "{'dreamz_16chain_a': array([-1113.64174956, -1113.64174956, -1113.64174956, ..., -1093.50125259,\n",
       "        -1093.50125259, -1093.50125259]),\n",
       " 'dreamz_16chain_b': array([-1074.17290031, -1074.17290031, -1074.17290031, ..., -1085.04521139,\n",
       "        -1085.04521139, -1085.04521139]),\n",
       " 'dreamz_16chain_c': array([-1102.8937498 , -1102.8937498 , -1102.8937498 , ..., -1103.27400558,\n",
       "        -1103.27400558, -1103.27400558]),\n",
       " 'dreamz_16chain_d': array([-1148.68804667, -1148.68804667, -1148.68804667, ..., -1124.22085859,\n",
       "        -1124.22085859, -1124.22085859]),\n",
       " 'dreamz_3chain_a': array([-1391.1551791 , -1391.1551791 , -1391.1551791 , ..., -1362.76140129,\n",
       "        -1362.76140129, -1362.76140129]),\n",
       " 'dreamz_3chain_b': array([-1385.15008682, -1385.15008682, -1385.15008682, ..., -1294.84674896,\n",
       "        -1294.84674896, -1294.84674896]),\n",
       " 'dreamz_3chain_c': array([-1429.05618856, -1429.05618856, -1429.05618856, ..., -1418.15840895,\n",
       "        -1418.22331341, -1418.22331341]),\n",
       " 'dreamz_3chain_d': array([-1282.78090811, -1282.78090811, -1283.57695167, ..., -1193.29141684,\n",
       "        -1193.29141684, -1193.29141684]),\n",
       " 'dreamz_5chain_a': array([-1221.32940054, -1221.32940054, -1221.32940054, ..., -1197.35500561,\n",
       "        -1197.35500561, -1197.35500561]),\n",
       " 'dreamz_5chain_b': array([-1156.11277376, -1156.11277376, -1155.74569359, ..., -1117.59228538,\n",
       "        -1117.59228538, -1117.59228538]),\n",
       " 'dreamz_5chain_c': array([-1239.25150187, -1239.25150187, -1239.25150187, ..., -1238.51190278,\n",
       "        -1238.51190278, -1238.51191635]),\n",
       " 'dreamz_5chain_d': array([-1207.99426235, -1206.89369752, -1206.89369752, ..., -1178.40778024,\n",
       "        -1178.40778024, -1178.40778024]),\n",
       " 'dreamzs_16chain_a': array([-1120.00210318, -1120.00210318, -1120.00210318, ..., -1121.42896102,\n",
       "        -1121.42896102, -1121.42896102]),\n",
       " 'dreamzs_16chain_b': array([-1106.36975652, -1106.36975652, -1106.36975652, ..., -1096.70425797,\n",
       "        -1096.70425797, -1096.70425797]),\n",
       " 'dreamzs_16chain_c': array([-1108.90233556, -1108.90233556, -1108.90233556, ..., -1089.26838257,\n",
       "        -1089.26838257, -1089.26838257]),\n",
       " 'dreamzs_16chain_d': array([-1080.21123983, -1080.21123983, -1080.21123983, ..., -1079.01975195,\n",
       "        -1079.01975195, -1079.01975195]),\n",
       " 'dreamzs_3chain_a': array([-1316.72752884, -1314.07375838, -1314.07375838, ..., -1276.37793749,\n",
       "        -1276.37793749, -1276.37793749]),\n",
       " 'dreamzs_3chain_b': array([-1380.44795548, -1380.44795548, -1380.44795548, ..., -1337.97224031,\n",
       "        -1337.97224031, -1337.97224031]),\n",
       " 'dreamzs_3chain_c': array([-1199.55560796, -1199.55560796, -1199.55560796, ..., -1168.37486887,\n",
       "        -1168.37486887, -1166.88318732]),\n",
       " 'dreamzs_3chain_d': array([-1402.91203182, -1402.91203182, -1402.91203182, ..., -1315.53955962,\n",
       "        -1315.53955962, -1315.53955962]),\n",
       " 'dreamzs_5chain_a': array([-1252.39996619, -1252.39996619, -1252.39996619, ..., -1248.17556828,\n",
       "        -1248.17556828, -1248.17556828]),\n",
       " 'dreamzs_5chain_b': array([-1080.38086095, -1080.38086095, -1080.38086095, ..., -1061.7256125 ,\n",
       "        -1061.7256125 , -1061.7256125 ]),\n",
       " 'dreamzs_5chain_c': array([-1222.4953458 , -1222.4953458 , -1222.4953458 , ..., -1207.12412387,\n",
       "        -1207.12412387, -1207.12412387]),\n",
       " 'dreamzs_5chain_d': array([-1285.34884721, -1285.34884721, -1285.34884721, ..., -1240.08514094,\n",
       "        -1240.08514094, -1240.08514094]),\n",
       " 'mtdreamzs_3chain_a': array([-1121.57589733, -1121.57589733, -1121.57589733, ..., -1076.02593293,\n",
       "        -1076.02593293, -1076.02593293]),\n",
       " 'mtdreamzs_3chain_b': array([-1103.95340776, -1103.95340776, -1102.20576259, ..., -1079.05950225,\n",
       "        -1079.05950225, -1079.05950225]),\n",
       " 'mtdreamzs_3chain_c': array([-1171.41051775, -1171.41051775, -1171.56181862, ..., -1062.88835775,\n",
       "        -1062.88835775, -1062.88835775]),\n",
       " 'mtdreamzs_3chain_d': array([-1018.43637424, -1020.98247799, -1020.98247799, ..., -1000.80205068,\n",
       "        -1000.80205068, -1000.80205068]),\n",
       " 'mtdreamzs_5chain_a': array([-1108.28892218, -1108.28892218, -1108.28892218, ..., -1080.89274025,\n",
       "        -1080.89274025, -1080.89274025]),\n",
       " 'mtdreamzs_5chain_b': array([-1280.92433035, -1280.92433035, -1280.92433035, ..., -1275.81049583,\n",
       "        -1275.96992422, -1275.96986554]),\n",
       " 'mtdreamzs_5chain_c': array([-1056.73462172, -1056.73462172, -1056.73462172, ..., -1043.10450778,\n",
       "        -1043.10926974, -1043.10926974]),\n",
       " 'mtdreamzs_5chain_d': array([-1001.12111432, -1001.12111432, -1001.12111432, ..., -1000.17235126,\n",
       "        -1000.17235126, -1000.17235126])}"
      ]
     },
     "execution_count": 6,
     "metadata": {},
     "output_type": "execute_result"
    }
   ],
   "source": [
    "posts"
   ]
  },
  {
   "cell_type": "code",
   "execution_count": 10,
   "metadata": {
    "collapsed": false
   },
   "outputs": [],
   "source": [
    "all_fits = np.concatenate([posts[key] for key in posts])"
   ]
  },
  {
   "cell_type": "code",
   "execution_count": 12,
   "metadata": {
    "collapsed": false
   },
   "outputs": [
    {
     "data": {
      "text/plain": [
       "224000"
      ]
     },
     "execution_count": 12,
     "metadata": {},
     "output_type": "execute_result"
    }
   ],
   "source": [
    "len(all_fits)"
   ]
  },
  {
   "cell_type": "code",
   "execution_count": 13,
   "metadata": {
    "collapsed": true
   },
   "outputs": [],
   "source": [
    "all_params = np.zeros((len(all_fits), 105))"
   ]
  },
  {
   "cell_type": "code",
   "execution_count": 20,
   "metadata": {
    "collapsed": false
   },
   "outputs": [
    {
     "data": {
      "text/plain": [
       "array([[-7.66228576,  2.38251539, -4.77248927, ..., -2.53926468,\n",
       "         5.53209567, -2.50910664],\n",
       "       [-7.66228576,  2.38251539, -4.77248927, ..., -2.53926468,\n",
       "         5.53209567, -2.50910664],\n",
       "       [-7.66228576,  2.38251539, -4.77248927, ..., -2.53926468,\n",
       "         5.53209567, -2.50910664],\n",
       "       ..., \n",
       "       [ 0.        ,  0.        ,  0.        , ...,  0.        ,\n",
       "         0.        ,  0.        ],\n",
       "       [ 0.        ,  0.        ,  0.        , ...,  0.        ,\n",
       "         0.        ,  0.        ],\n",
       "       [ 0.        ,  0.        ,  0.        , ...,  0.        ,\n",
       "         0.        ,  0.        ]])"
      ]
     },
     "execution_count": 20,
     "metadata": {},
     "output_type": "execute_result"
    }
   ],
   "source": [
    "all_params[0:224000,:]"
   ]
  },
  {
   "cell_type": "code",
   "execution_count": 22,
   "metadata": {
    "collapsed": false
   },
   "outputs": [],
   "source": [
    "n = 0\n",
    "for settings in ['dreamz_16chain', 'dreamzs_16chain', 'dreamz_3chain', 'dreamzs_3chain', 'mtdreamzs_3chain', 'dreamz_5chain', 'dreamzs_5chain', 'mtdreamzs_5chain']:\n",
    "    for run in ['a', 'b', 'c', 'd']:\n",
    "        trace = np.load('earm_'+settings+'_psostart_'+run+'_tracearr.npy')\n",
    "        all_params[n:n+len(trace),:] = trace\n",
    "        n += len(trace)"
   ]
  },
  {
   "cell_type": "code",
   "execution_count": 27,
   "metadata": {
    "collapsed": false
   },
   "outputs": [],
   "source": [
    "mins = np.min(all_params, axis=0)\n",
    "maxs = np.max(all_params, axis=0)"
   ]
  },
  {
   "cell_type": "code",
   "execution_count": 31,
   "metadata": {
    "collapsed": false
   },
   "outputs": [],
   "source": [
    "np.save('earm_dream_psostart_runs_param_mins.npy', mins)\n",
    "np.save('earm_dream_psostart_runs_param_maxs.npy', maxs)"
   ]
  }
 ],
 "metadata": {
  "kernelspec": {
   "display_name": "Python 2",
   "language": "python",
   "name": "python2"
  },
  "language_info": {
   "codemirror_mode": {
    "name": "ipython",
    "version": 2
   },
   "file_extension": ".py",
   "mimetype": "text/x-python",
   "name": "python",
   "nbconvert_exporter": "python",
   "pygments_lexer": "ipython2",
   "version": "2.7.8"
  }
 },
 "nbformat": 4,
 "nbformat_minor": 0
}
