{
 "cells": [
  {
   "cell_type": "code",
   "execution_count": 2,
   "metadata": {
    "collapsed": false
   },
   "outputs": [
    {
     "name": "stdout",
     "output_type": "stream",
     "text": [
      "Warning: statsmodels and/or patsy not found, not importing glm submodule.\n"
     ]
    },
    {
     "name": "stderr",
     "output_type": "stream",
     "text": [
      "/Library/Python/2.7/site-packages/IPython/html.py:14: ShimWarning: The `IPython.html` package has been deprecated. You should import from `notebook` instead. `IPython.html.widgets` has moved to `ipywidgets`.\n",
      "  \"`IPython.html.widgets` has moved to `ipywidgets`.\", ShimWarning)\n",
      "/Library/Python/2.7/site-packages/IPython/utils/traitlets.py:5: UserWarning: IPython.utils.traitlets has moved to a top-level traitlets package.\n",
      "  warn(\"IPython.utils.traitlets has moved to a top-level traitlets package.\")\n"
     ]
    }
   ],
   "source": [
    "import pickle\n",
    "from helper_fxns import convert_param_vec_dict_to_param_dict, gelman_rubin_trace_dict, print_convergence_summary, sample_plots, create_trace_matrix, plot_histograms\n",
    "from earm.lopez_embedded import model\n",
    "%matplotlib inline\n",
    "import os\n",
    "import numpy as np"
   ]
  },
  {
   "cell_type": "code",
   "execution_count": 6,
   "metadata": {
    "collapsed": false
   },
   "outputs": [],
   "source": [
    "os.chdir('/Users/Erin/data_for_paper_attempt2/')"
   ]
  },
  {
   "cell_type": "code",
   "execution_count": 7,
   "metadata": {
    "collapsed": true
   },
   "outputs": [],
   "source": [
    "trace_a = pickle.load(open('earm_dreamz_16chain_a.p'))\n",
    "trace_b = pickle.load(open('earm_dreamz_16chain_b.p'))\n",
    "trace_c = pickle.load(open('earm_dreamz_16chain_c.p'))\n",
    "trace_d = pickle.load(open('earm_dreamz_16chain_d.p'))"
   ]
  },
  {
   "cell_type": "code",
   "execution_count": 8,
   "metadata": {
    "collapsed": true
   },
   "outputs": [],
   "source": [
    "trace_a_error = {}\n",
    "trace_b_error = {}\n",
    "trace_c_error = {}\n",
    "trace_d_error = {}\n",
    "for key in ['momp', 'icrp', 'ecrp']:\n",
    "    trace_a_error[key] = trace_a[key]\n",
    "    trace_b_error[key] = trace_b[key]\n",
    "    trace_c_error[key] = trace_c[key]\n",
    "    trace_d_error[key] = trace_d[key]"
   ]
  },
  {
   "cell_type": "code",
   "execution_count": 9,
   "metadata": {
    "collapsed": true
   },
   "outputs": [],
   "source": [
    "for key in ['momp', 'icrp', 'ecrp']:\n",
    "    del trace_a[key]\n",
    "    del trace_b[key]\n",
    "    del trace_c[key]\n",
    "    del trace_d[key]"
   ]
  },
  {
   "cell_type": "code",
   "execution_count": 10,
   "metadata": {
    "collapsed": true
   },
   "outputs": [],
   "source": [
    "param_trace_a = convert_param_vec_dict_to_param_dict(trace_a, model.parameters_rules())\n",
    "param_trace_b = convert_param_vec_dict_to_param_dict(trace_b, model.parameters_rules())\n",
    "param_trace_c = convert_param_vec_dict_to_param_dict(trace_c, model.parameters_rules())\n",
    "param_trace_d = convert_param_vec_dict_to_param_dict(trace_d, model.parameters_rules())"
   ]
  },
  {
   "cell_type": "code",
   "execution_count": 11,
   "metadata": {
    "collapsed": true
   },
   "outputs": [],
   "source": [
    "for trace in [param_trace_a, param_trace_b, param_trace_c, param_trace_d]:\n",
    "    del trace['param_list']"
   ]
  },
  {
   "cell_type": "code",
   "execution_count": 8,
   "metadata": {
    "collapsed": true
   },
   "outputs": [],
   "source": [
    "os.chdir('/Users/Erin/git/moo_and_mcmc/emcee/')"
   ]
  },
  {
   "cell_type": "code",
   "execution_count": 10,
   "metadata": {
    "collapsed": true
   },
   "outputs": [],
   "source": [
    "from earm_uniform_emcee import log_post"
   ]
  },
  {
   "cell_type": "code",
   "execution_count": 11,
   "metadata": {
    "collapsed": false
   },
   "outputs": [
    {
     "name": "stdout",
     "output_type": "stream",
     "text": [
      "prior:  -282.479411206  like:  -3252.4397607  post:  -3534.9191719\n",
      "prior:  -282.479411206  like:  -2309.77199194  post:  -2592.25140314\n",
      "prior:  -282.479411206  like:  -2771.22704015  post:  -3053.70645136\n",
      "prior:  -282.479411206  like:  -2734.61742815  post:  -3017.09683935\n",
      "prior:  -282.479411206  like:  -4444.03487283  post:  -4726.51428404\n",
      "prior:  -282.479411206  like:  -2480.85433662  post:  -2763.33374783\n",
      "prior:  -282.479411206  like:  -2507.24987064  post:  -2789.72928184\n",
      "prior:  -282.479411206  like:  -2840.01646945  post:  -3122.49588065\n",
      "prior:  -282.479411206  like:  -2726.12413882  post:  -3008.60355003\n",
      "prior:  -282.479411206  like:  -2545.33603491  post:  -2827.81544611\n",
      "prior:  -282.479411206  like:  -2819.51769628  post:  -3101.99710748\n",
      "prior:  -282.479411206  like:  -3716.87482056  post:  -3999.35423177\n",
      "prior:  -282.479411206  like:  -2655.68924955  post:  -2938.16866076\n",
      "prior:  -282.479411206  like:  -2643.06351585  post:  -2925.54292706\n",
      "prior:  -282.479411206  like:  -3134.64651902  post:  -3417.12593023\n",
      "prior:  -282.479411206  like:  -2528.16327255  post:  -2810.64268376\n",
      "prior:  -282.479411206  like:  -2596.09414641  post:  -2878.57355762\n",
      "prior:  -282.479411206  like:  -2524.33182642  post:  -2806.81123763\n",
      "prior:  -282.479411206  like:  -2529.76308117  post:  -2812.24249237\n",
      "prior:  -282.479411206  like:  -2487.23017685  post:  -2769.70958806\n",
      "prior:  -282.479411206  like:  -2562.35562547  post:  -2844.83503667\n",
      "prior:  -282.479411206  like:  -2703.53950022  post:  -2986.01891142\n",
      "prior:  -282.479411206  like:  -2566.74353744  post:  -2849.22294865\n",
      "prior:  -282.479411206  like:  -2642.45947091  post:  -2924.93888212\n",
      "prior:  -282.479411206  like:  -2488.3175875  post:  -2770.7969987\n",
      "prior:  -282.479411206  like:  -2508.96644657  post:  -2791.44585778\n",
      "prior:  -282.479411206  like:  -2589.77415671  post:  -2872.25356791\n",
      "prior:  -282.479411206  like:  -3020.82856199  post:  -3303.30797319\n",
      "prior:  -282.479411206  like:  -3250.37090195  post:  -3532.85031315\n",
      "prior:  -282.479411206  like:  -2467.90516073  post:  -2750.38457194\n",
      "prior:  -282.479411206  like:  -2695.19043514  post:  -2977.66984635\n",
      "prior:  -282.479411206  like:  -4212.7255029  post:  -4495.20491411\n",
      "prior:  -282.479411206  like:  -2393.77886301  post:  -2676.25827422\n",
      "prior:  -282.479411206  like:  -2293.72629343  post:  -2576.20570464\n",
      "prior:  -282.479411206  like:  -2399.74537904  post:  -2682.22479024\n",
      "prior:  -282.479411206  like:  -2441.91877721  post:  -2724.39818842\n",
      "prior:  -282.479411206  like:  -2396.75432392  post:  -2679.23373512\n",
      "prior:  -282.479411206  like:  -2284.15535851  post:  -2566.63476972\n",
      "prior:  -282.479411206  like:  -2351.91373825  post:  -2634.39314945\n",
      "prior:  -282.479411206  like:  -2451.33743287  post:  -2733.81684407\n",
      "prior:  -282.479411206  like:  -2394.86035674  post:  -2677.33976795\n",
      "prior:  -282.479411206  like:  -2417.94059512  post:  -2700.42000632\n",
      "prior:  -282.479411206  like:  -2425.78206897  post:  -2708.26148017\n",
      "prior:  -282.479411206  like:  -2419.24233548  post:  -2701.72174668\n",
      "prior:  -282.479411206  like:  -2421.39529827  post:  -2703.87470947\n",
      "prior:  -282.479411206  like:  -2394.53432329  post:  -2677.0137345\n",
      "prior:  -282.479411206  like:  -2319.53823335  post:  -2602.01764455\n",
      "prior:  -282.479411206  like:  -2344.71494183  post:  -2627.19435303\n",
      "prior:  -282.479411206  like:  -2513.46948691  post:  -2795.94889812\n",
      "prior:  -282.479411206  like:  -2271.17451984  post:  -2553.65393104\n",
      "prior:  -282.479411206  like:  -2465.79134914  post:  -2748.27076035\n",
      "prior:  -282.479411206  like:  -3148.66418943  post:  -3431.14360063\n",
      "prior:  -282.479411206  like:  -2295.72605961  post:  -2578.20547082\n",
      "prior:  -282.479411206  like:  -2527.29138564  post:  -2809.77079685\n",
      "prior:  -282.479411206  like:  -2356.35557795  post:  -2638.83498916\n",
      "prior:  -282.479411206  like:  -2504.12008455  post:  -2786.59949575\n",
      "prior:  -282.479411206  like:  -2932.30939413  post:  -3214.78880534\n",
      "prior:  -282.479411206  like:  -2499.66963063  post:  -2782.14904183\n",
      "prior:  -282.479411206  like:  -3164.99832985  post:  -3447.47774105\n",
      "prior:  -282.479411206  like:  -2328.68217249  post:  -2611.1615837\n",
      "prior:  -282.479411206  like:  -2374.18468033  post:  -2656.66409153\n",
      "prior:  -282.479411206  like:  -3983.71222718  post:  -4266.19163838\n",
      "prior:  -282.479411206  like:  -3029.28539699  post:  -3311.7648082\n",
      "prior:  -282.479411206  like:  -2507.38470484  post:  -2789.86411604\n"
     ]
    }
   ],
   "source": [
    "for trace in [trace_a, trace_b, trace_c, trace_d]:\n",
    "    for chain in range(len(trace_a['params'])):\n",
    "        log_post(trace['params'][chain][-1])"
   ]
  },
  {
   "cell_type": "code",
   "execution_count": 16,
   "metadata": {
    "collapsed": false
   },
   "outputs": [
    {
     "name": "stdout",
     "output_type": "stream",
     "text": [
      "Number of parameters with GR below 1.2:  7  of  105  parameters.\n",
      "Percent of parameters with GR below 1.2:  6.66666666667\n",
      "Number of parameters with GR below 1.1:  2  of  105  parameters.\n",
      "Percent of parameters with GR below 1.1:  1.90476190476\n"
     ]
    },
    {
     "data": {
      "text/plain": [
       "[7, 6.666666666666667, 2, 1.9047619047619049]"
      ]
     },
     "execution_count": 16,
     "metadata": {},
     "output_type": "execute_result"
    }
   ],
   "source": [
    "print_convergence_summary(param_trace_a)"
   ]
  }
 ],
 "metadata": {
  "kernelspec": {
   "display_name": "Python 2",
   "language": "python",
   "name": "python2"
  },
  "language_info": {
   "codemirror_mode": {
    "name": "ipython",
    "version": 2
   },
   "file_extension": ".py",
   "mimetype": "text/x-python",
   "name": "python",
   "nbconvert_exporter": "python",
   "pygments_lexer": "ipython2",
   "version": "2.7.10"
  }
 },
 "nbformat": 4,
 "nbformat_minor": 0
}
