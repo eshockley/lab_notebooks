{
 "cells": [
  {
   "cell_type": "code",
   "execution_count": 2,
   "metadata": {
    "collapsed": true
   },
   "outputs": [],
   "source": [
    "import numpy as np\n",
    "import os"
   ]
  },
  {
   "cell_type": "code",
   "execution_count": 6,
   "metadata": {
    "collapsed": false
   },
   "outputs": [],
   "source": [
    "os.chdir('../ParticleSwarmOptimization/')"
   ]
  },
  {
   "cell_type": "code",
   "execution_count": 7,
   "metadata": {
    "collapsed": true
   },
   "outputs": [],
   "source": [
    "fitness_vals = np.loadtxt('earm_kds_pso_fitness_vals_200_20000_4.txt')\n",
    "ranked_pop = np.loadtxt('earm_kds_ranked_pop_200_20000_4.txt')"
   ]
  },
  {
   "cell_type": "code",
   "execution_count": 10,
   "metadata": {
    "collapsed": false
   },
   "outputs": [
    {
     "data": {
      "text/plain": [
       "array([ 2385.86927597,  2385.86927597,  2385.86927597,  2385.86927597,\n",
       "        2385.86927597,  2385.86927597,  2385.86927597,  2385.86927597,\n",
       "        2385.86927597,  2385.86927597,  2385.86927597,  2385.86927597,\n",
       "        2385.86927597,  2385.86927597,  2385.86927597,  2385.86927597,\n",
       "        2385.86927597,  2385.86927597,  2385.86927597,  2385.86927597,\n",
       "        2385.86927597,  2385.86927597,  2385.86927597,  2385.86927597,\n",
       "        2385.86927597,  2385.86927597,  2385.86927597,  2385.86927597,\n",
       "        2385.86927597,  2385.86927597,  2385.86927597,  2385.86927597,\n",
       "        2385.86927597,  2385.86927597,  2385.86927597,  2385.86927597,\n",
       "        2385.86927597,  2385.86927597,  2385.86927597,  2385.86927597,\n",
       "        2385.86927597,  2385.86927459,  2385.86927459,  2385.86927459,\n",
       "        2385.86927459,  2385.86927459,  2385.86927459,  2385.86927459,\n",
       "        2385.86927459,  2385.86927459])"
      ]
     },
     "execution_count": 10,
     "metadata": {},
     "output_type": "execute_result"
    }
   ],
   "source": [
    "fitness_vals[-50::]"
   ]
  },
  {
   "cell_type": "code",
   "execution_count": 15,
   "metadata": {
    "collapsed": false
   },
   "outputs": [],
   "source": [
    "np.save('earm_kds_restart_pop_50_fitness=2385.npy', ranked_pop[:50])"
   ]
  }
 ],
 "metadata": {
  "kernelspec": {
   "display_name": "Python 2",
   "language": "python",
   "name": "python2"
  },
  "language_info": {
   "codemirror_mode": {
    "name": "ipython",
    "version": 2
   },
   "file_extension": ".py",
   "mimetype": "text/x-python",
   "name": "python",
   "nbconvert_exporter": "python",
   "pygments_lexer": "ipython2",
   "version": "2.7.10"
  }
 },
 "nbformat": 4,
 "nbformat_minor": 0
}
