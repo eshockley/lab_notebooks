{
 "cells": [
  {
   "cell_type": "code",
   "execution_count": 1,
   "metadata": {
    "collapsed": false
   },
   "outputs": [
    {
     "name": "stdout",
     "output_type": "stream",
     "text": [
      "Warning: statsmodels and/or patsy not found, not importing glm submodule.\n"
     ]
    },
    {
     "name": "stderr",
     "output_type": "stream",
     "text": [
      "/Library/Python/2.7/site-packages/IPython/html.py:14: ShimWarning: The `IPython.html` package has been deprecated. You should import from `notebook` instead. `IPython.html.widgets` has moved to `ipywidgets`.\n",
      "  \"`IPython.html.widgets` has moved to `ipywidgets`.\", ShimWarning)\n",
      "/Library/Python/2.7/site-packages/IPython/utils/traitlets.py:5: UserWarning: IPython.utils.traitlets has moved to a top-level traitlets package.\n",
      "  warn(\"IPython.utils.traitlets has moved to a top-level traitlets package.\")\n"
     ]
    }
   ],
   "source": [
    "import pickle\n",
    "from helper_fxns import convert_param_vec_dict_to_param_dict, gelman_rubin_trace_dict, print_convergence_summary, sample_plots, create_trace_matrix, plot_histograms\n",
    "from earm.lopez_embedded import model\n",
    "%matplotlib inline\n",
    "import os\n",
    "import numpy as np"
   ]
  },
  {
   "cell_type": "code",
   "execution_count": 2,
   "metadata": {
    "collapsed": true
   },
   "outputs": [],
   "source": [
    "os.chdir('/Users/Erin/data_for_paper_attempt2/')"
   ]
  },
  {
   "cell_type": "code",
   "execution_count": 3,
   "metadata": {
    "collapsed": true
   },
   "outputs": [],
   "source": [
    "trace_a = pickle.load(open('earm_mtdreamzs_5chain_boundredraw_a.p'))\n",
    "trace_c = pickle.load(open('earm_mtdreamzs_5chain_boundredraw_c.p'))"
   ]
  },
  {
   "cell_type": "code",
   "execution_count": 4,
   "metadata": {
    "collapsed": true
   },
   "outputs": [],
   "source": [
    "trace_a_error = {}\n",
    "trace_c_error = {}\n",
    "for key in ['momp', 'icrp', 'ecrp']:\n",
    "    trace_a_error[key] = trace_a[key]\n",
    "    trace_c_error[key] = trace_c[key]"
   ]
  },
  {
   "cell_type": "code",
   "execution_count": 5,
   "metadata": {
    "collapsed": true
   },
   "outputs": [],
   "source": [
    "for key in ['momp', 'icrp', 'ecrp']:\n",
    "    del trace_a[key]\n",
    "    del trace_c[key]"
   ]
  },
  {
   "cell_type": "code",
   "execution_count": 6,
   "metadata": {
    "collapsed": true
   },
   "outputs": [],
   "source": [
    "param_trace_a = convert_param_vec_dict_to_param_dict(trace_a, model.parameters_rules())\n",
    "param_trace_c = convert_param_vec_dict_to_param_dict(trace_c, model.parameters_rules())"
   ]
  },
  {
   "cell_type": "code",
   "execution_count": 7,
   "metadata": {
    "collapsed": true
   },
   "outputs": [],
   "source": [
    "for trace in [param_trace_a, param_trace_c]:\n",
    "    del trace['param_list']"
   ]
  },
  {
   "cell_type": "code",
   "execution_count": 7,
   "metadata": {
    "collapsed": true
   },
   "outputs": [],
   "source": [
    "os.chdir('/Users/Erin/git/moo_and_mcmc/emcee/')\n",
    "from earm_uniform_emcee import log_post"
   ]
  },
  {
   "cell_type": "code",
   "execution_count": 9,
   "metadata": {
    "collapsed": false
   },
   "outputs": [
    {
     "name": "stdout",
     "output_type": "stream",
     "text": [
      "prior:  -282.479411206  like:  -2118.22456713  post:  -2400.70397833\n",
      "prior:  -282.479411206  like:  -2118.17925007  post:  -2400.65866128\n",
      "prior:  -282.479411206  like:  -2102.62304356  post:  -2385.10245476\n",
      "prior:  -282.479411206  like:  -2120.55379524  post:  -2403.03320645\n",
      "prior:  -282.479411206  like:  -2103.70928402  post:  -2386.18869523\n",
      "prior:  -282.479411206  like:  -2263.84634348  post:  -2546.32575469\n",
      "prior:  -282.479411206  like:  -2331.69728593  post:  -2614.17669714\n",
      "prior:  -282.479411206  like:  -2270.9547328  post:  -2553.43414401\n",
      "prior:  -282.479411206  like:  -2335.96438859  post:  -2618.44379979\n",
      "prior:  -282.479411206  like:  -2250.89588189  post:  -2533.3752931\n"
     ]
    }
   ],
   "source": [
    "for trace in [trace_a, trace_c]:\n",
    "    for chain in range(len(trace_a['params'])):\n",
    "        log_post(trace['params'][chain][-1])"
   ]
  },
  {
   "cell_type": "code",
   "execution_count": 12,
   "metadata": {
    "collapsed": false
   },
   "outputs": [
    {
     "name": "stdout",
     "output_type": "stream",
     "text": [
      "Number of parameters with GR below 1.2:  102  of  105  parameters.\n",
      "Percent of parameters with GR below 1.2:  97.1428571429\n",
      "Number of parameters with GR below 1.1:  83  of  105  parameters.\n",
      "Percent of parameters with GR below 1.1:  79.0476190476\n"
     ]
    },
    {
     "data": {
      "text/plain": [
       "[102, 97.14285714285714, 83, 79.04761904761905]"
      ]
     },
     "execution_count": 12,
     "metadata": {},
     "output_type": "execute_result"
    }
   ],
   "source": [
    "print_convergence_summary(param_trace_a)"
   ]
  }
 ],
 "metadata": {
  "kernelspec": {
   "display_name": "Python 2",
   "language": "python",
   "name": "python2"
  },
  "language_info": {
   "codemirror_mode": {
    "name": "ipython",
    "version": 2
   },
   "file_extension": ".py",
   "mimetype": "text/x-python",
   "name": "python",
   "nbconvert_exporter": "python",
   "pygments_lexer": "ipython2",
   "version": "2.7.10"
  }
 },
 "nbformat": 4,
 "nbformat_minor": 0
}
