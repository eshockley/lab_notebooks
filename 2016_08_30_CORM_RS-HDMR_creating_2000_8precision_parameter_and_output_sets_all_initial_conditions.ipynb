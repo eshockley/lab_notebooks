{
 "cells": [
  {
   "cell_type": "code",
   "execution_count": 15,
   "metadata": {
    "collapsed": true
   },
   "outputs": [],
   "source": [
    "import pandas as pd\n",
    "import os\n",
    "from corm import model\n",
    "from pysb.bng import generate_equations\n",
    "import numpy as np"
   ]
  },
  {
   "cell_type": "code",
   "execution_count": 2,
   "metadata": {
    "collapsed": true
   },
   "outputs": [],
   "source": [
    "os.chdir('/Users/Erin/git/accre_data_analysis/corm/')"
   ]
  },
  {
   "cell_type": "code",
   "execution_count": 3,
   "metadata": {
    "collapsed": true
   },
   "outputs": [],
   "source": [
    "simulation_store = pd.HDFStore('2016_04_06_COX2_unique_simulations.h5')"
   ]
  },
  {
   "cell_type": "code",
   "execution_count": 4,
   "metadata": {
    "collapsed": false
   },
   "outputs": [
    {
     "data": {
      "text/plain": [
       "<class 'pandas.io.pytables.HDFStore'>\n",
       "File path: 2016_04_06_COX2_unique_simulations.h5\n",
       "/analysis_results/correlations/within_species/s0             frame\n",
       "/analysis_results/correlations/within_species/s1             frame\n",
       "/analysis_results/correlations/within_species/s10            frame\n",
       "/analysis_results/correlations/within_species/s11            frame\n",
       "/analysis_results/correlations/within_species/s12            frame\n",
       "/analysis_results/correlations/within_species/s2             frame\n",
       "/analysis_results/correlations/within_species/s3             frame\n",
       "/analysis_results/correlations/within_species/s4             frame\n",
       "/analysis_results/correlations/within_species/s5             frame\n",
       "/analysis_results/correlations/within_species/s6             frame\n",
       "/analysis_results/correlations/within_species/s7             frame\n",
       "/analysis_results/correlations/within_species/s8             frame\n",
       "/analysis_results/correlations/within_species/s9             frame\n",
       "/analysis_results/descriptive_stats/s0                       frame\n",
       "/analysis_results/descriptive_stats/s1                       frame\n",
       "/analysis_results/descriptive_stats/s10                      frame\n",
       "/analysis_results/descriptive_stats/s11                      frame\n",
       "/analysis_results/descriptive_stats/s12                      frame\n",
       "/analysis_results/descriptive_stats/s2                       frame\n",
       "/analysis_results/descriptive_stats/s3                       frame\n",
       "/analysis_results/descriptive_stats/s4                       frame\n",
       "/analysis_results/descriptive_stats/s5                       frame\n",
       "/analysis_results/descriptive_stats/s6                       frame\n",
       "/analysis_results/descriptive_stats/s7                       frame\n",
       "/analysis_results/descriptive_stats/s8                       frame\n",
       "/analysis_results/descriptive_stats/s9                       frame\n",
       "/species_corr_df                                             frame\n",
       "/unique_simulations_s0                                       frame\n",
       "/unique_simulations_s1                                       frame\n",
       "/unique_simulations_s10                                      frame\n",
       "/unique_simulations_s11                                      frame\n",
       "/unique_simulations_s12                                      frame\n",
       "/unique_simulations_s2                                       frame\n",
       "/unique_simulations_s3                                       frame\n",
       "/unique_simulations_s4                                       frame\n",
       "/unique_simulations_s5                                       frame\n",
       "/unique_simulations_s6                                       frame\n",
       "/unique_simulations_s7                                       frame\n",
       "/unique_simulations_s8                                       frame\n",
       "/unique_simulations_s9                                       frame"
      ]
     },
     "execution_count": 4,
     "metadata": {},
     "output_type": "execute_result"
    }
   ],
   "source": [
    "simulation_store"
   ]
  },
  {
   "cell_type": "code",
   "execution_count": 35,
   "metadata": {
    "collapsed": false
   },
   "outputs": [
    {
     "data": {
      "text/plain": [
       "Int64Index([     0,     11,     19,     24,     25,     26,     28,     30,\n",
       "                31,     34,\n",
       "            ...\n",
       "            349818, 349834, 349840, 349845, 349899, 349900, 349907, 349922,\n",
       "            349947, 349980],\n",
       "           dtype='int64', length=46666)"
      ]
     },
     "execution_count": 35,
     "metadata": {},
     "output_type": "execute_result"
    }
   ],
   "source": [
    "simulation_store['unique_simulations_s0'].index"
   ]
  },
  {
   "cell_type": "code",
   "execution_count": 13,
   "metadata": {
    "collapsed": true
   },
   "outputs": [],
   "source": [
    "generate_equations(model)"
   ]
  },
  {
   "cell_type": "code",
   "execution_count": 36,
   "metadata": {
    "collapsed": false
   },
   "outputs": [],
   "source": [
    "random_samples = np.random.choice(simulation_store['unique_simulations_s0'].index, size=2000, replace=False)"
   ]
  },
  {
   "cell_type": "code",
   "execution_count": 38,
   "metadata": {
    "collapsed": false
   },
   "outputs": [
    {
     "data": {
      "text/plain": [
       "array([ 66842,   5906,  89145, ..., 186402, 103873,  40966])"
      ]
     },
     "execution_count": 38,
     "metadata": {},
     "output_type": "execute_result"
    }
   ],
   "source": [
    "random_samples"
   ]
  },
  {
   "cell_type": "code",
   "execution_count": 41,
   "metadata": {
    "collapsed": false
   },
   "outputs": [],
   "source": [
    "mcmc_samples = pd.DataFrame(np.load('/Users/Erin/git/COX2/results/2015_02_02_COX2_all_traces.npy'), columns=['kcat_AA2', 'kcat_AA3', 'KD_AG_cat3', 'KD_AG_cat2', 'KD_AG_allo2', 'KD_AG_allo1', 'KD_AA_allo1', 'KD_AA_allo2', 'KD_AA_allo3', 'kcat_AG3', 'KD_AA_cat3', 'KD_AA_cat2'])"
   ]
  },
  {
   "cell_type": "code",
   "execution_count": 43,
   "metadata": {
    "collapsed": true
   },
   "outputs": [],
   "source": [
    "parameters = mcmc_samples.drop_duplicates()"
   ]
  },
  {
   "cell_type": "code",
   "execution_count": 37,
   "metadata": {
    "collapsed": false,
    "scrolled": true
   },
   "outputs": [
    {
     "data": {
      "text/plain": [
       "66842     0.004560\n",
       "5906      0.004420\n",
       "89145     0.004450\n",
       "259358    0.004812\n",
       "39180     0.004595\n",
       "73244     0.004783\n",
       "5500      0.004367\n",
       "44241     0.004925\n",
       "54249     0.004625\n",
       "57567     0.004584\n",
       "18874     0.004374\n",
       "98332     0.004917\n",
       "91592     0.004682\n",
       "27284     0.004898\n",
       "33271     0.004625\n",
       "261966    0.004320\n",
       "52961     0.004596\n",
       "193107    0.004758\n",
       "259332    0.004723\n",
       "335399    0.004698\n",
       "66238     0.004790\n",
       "74729     0.004443\n",
       "65971     0.004805\n",
       "2147      0.004882\n",
       "11723     0.004466\n",
       "148429    0.004190\n",
       "306320    0.004707\n",
       "32061     0.004699\n",
       "241962    0.004639\n",
       "41756     0.004760\n",
       "            ...   \n",
       "32171     0.004761\n",
       "44108     0.004250\n",
       "51681     0.004464\n",
       "78173     0.004606\n",
       "23012     0.004633\n",
       "53288     0.004728\n",
       "128211    0.004460\n",
       "100780    0.004643\n",
       "12228     0.004802\n",
       "62687     0.004741\n",
       "1202      0.004557\n",
       "218908    0.004398\n",
       "54965     0.004649\n",
       "34121     0.004452\n",
       "66423     0.004543\n",
       "317978    0.004878\n",
       "32788     0.004512\n",
       "21996     0.004530\n",
       "37889     0.004720\n",
       "16219     0.004817\n",
       "42866     0.004525\n",
       "46384     0.004622\n",
       "117465    0.004443\n",
       "4194      0.004389\n",
       "309738    0.005042\n",
       "100823    0.004675\n",
       "6650      0.004619\n",
       "186402    0.004374\n",
       "103873    0.004600\n",
       "40966     0.004535\n",
       "Name: 9, dtype: float64"
      ]
     },
     "execution_count": 37,
     "metadata": {},
     "output_type": "execute_result"
    }
   ],
   "source": [
    "simulation_store['unique_simulations_s0'][.5][.5][9].ix[random_samples]"
   ]
  },
  {
   "cell_type": "code",
   "execution_count": 65,
   "metadata": {
    "collapsed": false,
    "scrolled": true
   },
   "outputs": [
    {
     "data": {
      "text/plain": [
       "0.18194180012178943"
      ]
     },
     "execution_count": 65,
     "metadata": {},
     "output_type": "execute_result"
    }
   ],
   "source": [
    "parameters.ix[random_samples].iloc[21][1]"
   ]
  },
  {
   "cell_type": "code",
   "execution_count": 67,
   "metadata": {
    "collapsed": false
   },
   "outputs": [],
   "source": [
    "parameters.ix[random_samples].to_csv('/Users/Erin/Dropbox/Schoolwork/Vanderbilt/Lopez Lab/Project Specific/RS-HDMR/all_initials_CORM_parameter_sets.csv', float_format='%.15f', index=False)"
   ]
  },
  {
   "cell_type": "code",
   "execution_count": 68,
   "metadata": {
    "collapsed": false
   },
   "outputs": [],
   "source": [
    "for init_aa in [.5, 1, 2, 4, 8, 16]:\n",
    "    df = pd.DataFrame(index=random_samples, columns=model.species)\n",
    "    for init_ag in [.5, 1, 2, 4, 8, 16]:\n",
    "        for isp, species in enumerate(model.species):\n",
    "            df[species] = simulation_store['unique_simulations_s'+str(isp)][init_aa][init_ag][9].ix[random_samples]\n",
    "        df.to_csv('/Users/Erin/Dropbox/Schoolwork/Vanderbilt/Lopez Lab/Project Specific/RS-HDMR/CORM_initials'+str(init_aa)+'_'+str(init_ag)+'_outputs.csv', float_format='%.15f', index=False)"
   ]
  }
 ],
 "metadata": {
  "kernelspec": {
   "display_name": "Python 2",
   "language": "python",
   "name": "python2"
  },
  "language_info": {
   "codemirror_mode": {
    "name": "ipython",
    "version": 2
   },
   "file_extension": ".py",
   "mimetype": "text/x-python",
   "name": "python",
   "nbconvert_exporter": "python",
   "pygments_lexer": "ipython2",
   "version": "2.7.11"
  }
 },
 "nbformat": 4,
 "nbformat_minor": 0
}
