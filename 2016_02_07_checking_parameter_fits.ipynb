{
 "cells": [
  {
   "cell_type": "code",
   "execution_count": 18,
   "metadata": {
    "collapsed": true
   },
   "outputs": [],
   "source": [
    "import numpy as np\n",
    "import os\n",
    "import pickle"
   ]
  },
  {
   "cell_type": "code",
   "execution_count": 17,
   "metadata": {
    "collapsed": true
   },
   "outputs": [],
   "source": [
    "os.chdir('/Users/Erin/git/moo_and_mcmc/dream/dream_data/')"
   ]
  },
  {
   "cell_type": "code",
   "execution_count": 20,
   "metadata": {
    "collapsed": false
   },
   "outputs": [],
   "source": [
    "sims = pickle.load(open('sim_results_dreamz_3chain.p'))\n",
    "momp_sims = pickle.load(open('momp_sim_results_dreamz_3chain.p'))"
   ]
  },
  {
   "cell_type": "code",
   "execution_count": 23,
   "metadata": {
    "collapsed": false
   },
   "outputs": [],
   "source": [
    "cPARP = np.empty((len(sims)))\n",
    "mBid = np.empty((len(sims)))\n",
    "MOMP = np.empty((len(sims)))\n",
    "for i, key in enumerate(sims.keys()):\n",
    "    if sims[key]['cPARP'][-1] > .5:\n",
    "        cPARP[i] = True\n",
    "    else:\n",
    "        cPARP[i] = False\n",
    "    if sims[key]['mBid'][-1] > .5:\n",
    "        mBid[i] = True\n",
    "    else:\n",
    "        mBid[i] = False\n",
    "    if momp_sims[key][-1] > 5:\n",
    "        MOMP[i] = True\n",
    "    else:\n",
    "        MOMP[i] = False"
   ]
  }
 ],
 "metadata": {
  "kernelspec": {
   "display_name": "Python 2",
   "language": "python",
   "name": "python2"
  },
  "language_info": {
   "codemirror_mode": {
    "name": "ipython",
    "version": 2
   },
   "file_extension": ".py",
   "mimetype": "text/x-python",
   "name": "python",
   "nbconvert_exporter": "python",
   "pygments_lexer": "ipython2",
   "version": "2.7.10"
  }
 },
 "nbformat": 4,
 "nbformat_minor": 0
}
