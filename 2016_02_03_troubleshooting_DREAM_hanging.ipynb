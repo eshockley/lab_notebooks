{
 "cells": [
  {
   "cell_type": "markdown",
   "metadata": {},
   "source": [
    "My laptop:\n",
    "with correct likelihood fxn, experimental params: hanging\n",
    "with incorrect (variance) likelihood fxn, experimental params: not hanging\n",
    "with incorrect (variance) likelihood fxn, experimental params, and frozen RV objects for likelihoods: Seems better."
   ]
  }
 ],
 "metadata": {
  "kernelspec": {
   "display_name": "Python 2",
   "language": "python",
   "name": "python2"
  },
  "language_info": {
   "codemirror_mode": {
    "name": "ipython",
    "version": 2
   },
   "file_extension": ".py",
   "mimetype": "text/x-python",
   "name": "python",
   "nbconvert_exporter": "python",
   "pygments_lexer": "ipython2",
   "version": "2.7.10"
  }
 },
 "nbformat": 4,
 "nbformat_minor": 0
}
