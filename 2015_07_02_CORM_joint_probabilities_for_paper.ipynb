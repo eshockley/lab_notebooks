{
 "metadata": {
  "name": "",
  "signature": "sha256:925ec22c33a06bab68378e8f00f7fef60fbabeac4cef5dc6a3f9640d13d671ea"
 },
 "nbformat": 3,
 "nbformat_minor": 0,
 "worksheets": [
  {
   "cells": [
    {
     "cell_type": "code",
     "collapsed": false,
     "input": [
      "import pickle\n",
      "import matplotlib\n",
      "%matplotlib inline\n",
      "from helper_fxns import gelman_rubin_trace_dict, find_unique_param_vecs, check_thermoboxes, merge_traces, print_convergence_summary, sample_plots, plot_histograms, create_trace_matrix, find_most_probable_vals, sub_parameters, calc_credible_intervals, credible_interval_array\n",
      "import numpy as np"
     ],
     "language": "python",
     "metadata": {},
     "outputs": [],
     "prompt_number": 5
    },
    {
     "cell_type": "code",
     "collapsed": false,
     "input": [
      "original_fits = pickle.load(open('2015_01_27_Dream_COX2_parameter_fits.p'))"
     ],
     "language": "python",
     "metadata": {},
     "outputs": [],
     "prompt_number": 2
    },
    {
     "cell_type": "code",
     "collapsed": false,
     "input": [
      "original_data_matrix = create_trace_matrix(original_fits, burnin=150000,thin=10)"
     ],
     "language": "python",
     "metadata": {},
     "outputs": [
      {
       "output_type": "stream",
       "stream": "stdout",
       "text": [
        "total parameter dimension:  12\n",
        "trace array shape:  [[ 0.  0.  0. ...,  0.  0.  0.]\n",
        " [ 0.  0.  0. ...,  0.  0.  0.]\n",
        " [ 0.  0.  0. ...,  0.  0.  0.]\n",
        " ..., \n",
        " [ 0.  0.  0. ...,  0.  0.  0.]\n",
        " [ 0.  0.  0. ...,  0.  0.  0.]\n",
        " [ 0.  0.  0. ...,  0.  0.  0.]]\n",
        "added key:  kcat_AA2  to location  0  in array.\n",
        "added key:  kcat_AA3  to location  1  in array.\n",
        "added key:  KD_AG_cat3  to location  2  in array.\n",
        "added key:  KD_AG_cat2  to location  3  in array.\n",
        "added key:  KD_AG_allo2  to location  4  in array.\n",
        "added key:  KD_AG_allo1  to location  5  in array.\n",
        "added key:  KD_AA_allo1  to location  6  in array.\n",
        "added key:  KD_AA_allo2  to location  7  in array.\n",
        "added key: "
       ]
      },
      {
       "output_type": "stream",
       "stream": "stdout",
       "text": [
        " KD_AA_allo3  to location  8  in array.\n",
        "added key:  kcat_AG3  to location  9  in array.\n",
        "added key:  KD_AA_cat3  to location  10  in array.\n",
        "added key:  KD_AA_cat2  to location  11  in array.\n"
       ]
      }
     ],
     "prompt_number": 3
    },
    {
     "cell_type": "markdown",
     "metadata": {},
     "source": [
      "First: probability of kcat_AG1 (without anything in allosteric site) being higher than kcat_AG3 (with AA in allosteric site).\n",
      "kcat_AG1 = 1.2/s\n",
      "Find max value of kcat_AG3:"
     ]
    },
    {
     "cell_type": "code",
     "collapsed": false,
     "input": [
      "max_kcat_AG3 = np.max(original_data_matrix[:,9])\n",
      "10**max_kcat_AG3"
     ],
     "language": "python",
     "metadata": {},
     "outputs": [
      {
       "metadata": {},
       "output_type": "pyout",
       "prompt_number": 8,
       "text": [
        "6.8772631368348396"
       ]
      }
     ],
     "prompt_number": 8
    },
    {
     "cell_type": "markdown",
     "metadata": {},
     "source": [
      "Then find number of parameter sets with kcat_AG3 > 1.2/s kcat_AG1 value and determine probability that kcat_AG3 is within that range."
     ]
    },
    {
     "cell_type": "code",
     "collapsed": false,
     "input": [
      "kcat_AG3_vals = original_data_matrix[:,9]\n",
      "n_kcat_AG3_sets = len(np.where(kcat_AG3_vals >= np.log10(1.2))[0])\n",
      "prob_kcat_AG3_inrange = n_kcat_AG3_sets/float(len(original_data_matrix))\n",
      "n_kcat_AG3_sets\n",
      "prob_kcat_AG3_inrange*100"
     ],
     "language": "python",
     "metadata": {},
     "outputs": [
      {
       "metadata": {},
       "output_type": "pyout",
       "prompt_number": 18,
       "text": [
        "2.2274285714285713"
       ]
      }
     ],
     "prompt_number": 18
    },
    {
     "cell_type": "markdown",
     "metadata": {},
     "source": [
      "Second: probability of kcat_AA2 (AA turnover with AG in allosteric site) being higher than kcat_AA1 (AA turnover with nothing in allosteric site).  Find number of sets with kcat_AA2 less than kcat_AA1:"
     ]
    },
    {
     "cell_type": "code",
     "collapsed": false,
     "input": [
      "kcat_AA2_vals = original_data_matrix[:,0]\n",
      "n_kcat_AA2_sets = len(np.where(kcat_AA2_vals <= np.log10(1.3))[0])\n",
      "prob_kcat_AA2_inrange = n_kcat_AA2_sets/float(len(original_data_matrix))\n",
      "prob_kcat_AA2_inrange*100"
     ],
     "language": "python",
     "metadata": {},
     "outputs": [
      {
       "metadata": {},
       "output_type": "pyout",
       "prompt_number": 23,
       "text": [
        "15.550857142857144"
       ]
      }
     ],
     "prompt_number": 23
    }
   ],
   "metadata": {}
  }
 ]
}